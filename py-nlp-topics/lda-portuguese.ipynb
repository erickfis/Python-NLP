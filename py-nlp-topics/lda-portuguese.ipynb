{
 "cells": [
  {
   "cell_type": "markdown",
   "metadata": {},
   "source": [
    "# Descrição\n",
    "\n",
    "Um algorítmo que é capaz de trocar mensagens, de forma natural, com clientes, simulando o atendimento de um atendente humano.\n",
    "\n",
    "Para conseguir simular naturalidade, vamos combinar diferentes técnicas para análise da mensagem enviada pelo cliente e posterior elaboração de uma resposta. \n",
    "\n",
    "As técnicas utilizadas são:\n",
    "\n",
    "- modelagem de tópicos - para direcionar a resposta de acordo com o assunto detetado. Por exemplo, se o assunto (tópico) da mensagem for uma reclamação, construir a mensagem considerando esta informação. Se a mensagem for do tipo (tópico ) saudação, responder com outra saudação. \n",
    "- detecção de palavras-chave, como números de pedido ou algum tipo especial de produto no qual o cliente esteja interessado\n",
    "\n",
    "\n",
    "Modelagem de tópicos é uma ferramenta de processamento de linguagem natural, concretizada através de aprendizado de máquiva não-supervisionado. Maior detalhamento será dado abaixo.\n",
    "\n",
    "Para obter uma classificação das mensagens em tópicos, será necessário um pré-processamento das mesmas. \n",
    "É um processo extenso, descrito a seguir.\n",
    "\n",
    "\n",
    "# Obter as mensagens através do BD\n",
    "\n",
    "À primeira vista, a impressão que eu tenho é que os dados fornecidos para o desenvolvimento deste exercício foram retirados de um banco de dados MongoDB.\n",
    "\n",
    "Para obter a informação na totalidade através de tal tipo de banco de dados, o seguinte query poderia ser realizado através do Mongo Shell ou Mongo Compass:\n",
    "\n",
    "    db.mensagens.find(\n",
    "        {\n",
    "        $and: [\n",
    "                {\"user\": {$in: [\"user_1\", \"user_2\", \"attd_1\", \"sell_1\"]}},\n",
    "                {\"message\": {$ne: null}}\n",
    "              ]\n",
    "        }\n",
    "    ).pretty()\n",
    "\n"
   ]
  },
  {
   "cell_type": "markdown",
   "metadata": {},
   "source": [
    "Caso os dados estivessem armazenados no formato xml, poderíamos utilizar a ferramenta BeautifulSoup para obter as mensagens\n",
    "\n",
    "    db = BeautifulSoup(open('bd.xml').read(), \"lxml\")\n",
    "    mensagens = db.findAll('message') "
   ]
  },
  {
   "cell_type": "markdown",
   "metadata": {},
   "source": [
    "Caso os dados estejam gravados em texto puro, podemos fazer um scrapping da seguinte forma (versão simplificada):\n",
    "    \n",
    "    mensagens = []\n",
    "\n",
    "    with open(bd.txt, \"rb\") as entrada:\n",
    "            for linha in entrada:\n",
    "                if linha.startswith('user'):\n",
    "                    mensagens.append(linha)"
   ]
  },
  {
   "cell_type": "markdown",
   "metadata": {},
   "source": [
    "## Obtendo mensagens através dos dados fornecidos"
   ]
  },
  {
   "cell_type": "code",
   "execution_count": 1,
   "metadata": {
    "collapsed": true
   },
   "outputs": [],
   "source": [
    "conversations = [\n",
    "\n",
    "    # small talk\n",
    "    [\n",
    "        {'user': 'user_1', 'message': 'Oi, como você tá?', 'status': ''},\n",
    "        {'user': 'user_2', 'message': 'tudo certinho e vc?   ', 'status': ''},\n",
    "        {'user': 'user_1', 'message': ' Eu to bemm!!!', 'status': ''},\n",
    "        {'user': 'user_1', 'message': 'tem alguma promoção   hoje?', 'status': ''},\n",
    "        {'user': 'user_2', 'message': 'hj? temos umatv 50\" \\n ', 'status': ''},\n",
    "    ],\n",
    "    \n",
    "    # customer service\n",
    "    [\n",
    "        {'user': 'user_1', 'message': 'Cadê o iphone?!'                              , 'status': 'payment_approved'},\n",
    "        {'user': 'attd_1', 'message': 'Olá, o seu pagamento já foi aprovado'         , 'status': 'payment_approved'},\n",
    "        {'user': 'attd_1', 'message': 'Quer dizer que o seu produto está a caminho'  , 'status': 'payment_approved'},\n",
    "        {'user': 'user_1', 'message': 'Mas já faz cinco dias'                        , 'status': 'payment_approved'},\n",
    "        {'user': 'attd_1', 'message': 'A nossa política de entrega são 5 dias úteis' , 'status': 'payment_approved'},\n",
    "        {'user': 'user_1', 'message': 'Ahh é verdade xD'                             , 'status': 'payment_approved'},\n",
    "    ],\n",
    "    \n",
    "    # sale\n",
    "    [\n",
    "        {'user': 'user_1', 'message': 'cade o iphone 10?'                            , 'status': 'shopping'},\n",
    "        {'user': 'sell_1', 'message': 'Oi, o Iphone X está fora de estoque'          , 'status': 'shopping'},\n",
    "        {'user': 'user_1', 'message': 'Huum, o que vcs tem disponível'               , 'status': 'shoppinng'},\n",
    "        {'user': 'sell_1', 'message': 'Olha, temos o iphone X plus e o samsung s8'   , 'status': 'shopping'},\n",
    "        {'user': 'user_1', 'message': 'O samsung é melhor que o iphone?'             , 'status': 'shopping'},\n",
    "        {'user': 'sell_1', 'message': 'Eles são diferentes, mas são os melhores'     , 'status': 'shopping'},\n",
    "    ],\n",
    "]"
   ]
  },
  {
   "cell_type": "code",
   "execution_count": 2,
   "metadata": {},
   "outputs": [
    {
     "data": {
      "text/plain": [
       "['Oi, como você tá?',\n",
       " ' Eu to bemm!!!',\n",
       " 'tem alguma promoção   hoje?',\n",
       " 'Cadê o iphone?!',\n",
       " 'Mas já faz cinco dias',\n",
       " 'Ahh é verdade xD',\n",
       " 'cade o iphone 10?',\n",
       " 'Huum, o que vcs tem disponível',\n",
       " 'O samsung é melhor que o iphone?']"
      ]
     },
     "execution_count": 2,
     "metadata": {},
     "output_type": "execute_result"
    }
   ],
   "source": [
    "# vamos obter as mensagens dos usuários apenas (user_1)\n",
    "mensagens_user = []\n",
    "\n",
    "for conversa in conversations:\n",
    "    mensagens_user.append([mensagem[\"message\"] for mensagem in conversa if mensagem[\"user\"]==\"user_1\"])\n",
    "\n",
    "mensagens_user = sum(mensagens_user, [])\n",
    "mensagens_user"
   ]
  },
  {
   "cell_type": "code",
   "execution_count": 3,
   "metadata": {
    "collapsed": true
   },
   "outputs": [],
   "source": [
    "# vamos aumentar um pouquinho esta lista\n",
    "\n",
    "adicionais = [\"Bom dia!\",\n",
    "              \"boa tarde!\",\n",
    "              \"boa noite!\",\n",
    "              \"eu gostaria de fazer uma reclamação\",\n",
    "              \"eu gostaria de fazer uma troca\",\n",
    "              \"eu gostaria de fazer uma devolução\",\n",
    "              \"qual é o melhor celular?\",\n",
    "              \"meu celular quebrou!\",\n",
    "              \"não consigo fechar minha compra\",\n",
    "              \"o site não funciona!\",\n",
    "              \"quando vai ser entregue?\",\n",
    "              \"quando vai chegar?\",\n",
    "              \"qual é o prazo de entrega?\",\n",
    "              \"o aparelho é muito ruim!\",\n",
    "              \"boa tarde!\",\n",
    "              \"boa noite!\",\n",
    "              \"preciso de ajuda para escolher meu novo celular\",\n",
    "              \"vocês aceitam cartão?\",\n",
    "              \"a tv chegou com defeito\",\n",
    "              \"o aparelho chegou com defeito\",\n",
    "              \"o aparelho não funciona\"\n",
    "             ]"
   ]
  },
  {
   "cell_type": "code",
   "execution_count": 4,
   "metadata": {},
   "outputs": [
    {
     "data": {
      "text/plain": [
       "['Oi, como você tá?',\n",
       " ' Eu to bemm!!!',\n",
       " 'tem alguma promoção   hoje?',\n",
       " 'Cadê o iphone?!',\n",
       " 'Mas já faz cinco dias',\n",
       " 'Ahh é verdade xD',\n",
       " 'cade o iphone 10?',\n",
       " 'Huum, o que vcs tem disponível',\n",
       " 'O samsung é melhor que o iphone?',\n",
       " 'Bom dia!',\n",
       " 'boa tarde!',\n",
       " 'boa noite!',\n",
       " 'eu gostaria de fazer uma reclamação',\n",
       " 'eu gostaria de fazer uma troca',\n",
       " 'eu gostaria de fazer uma devolução',\n",
       " 'qual é o melhor celular?',\n",
       " 'meu celular quebrou!',\n",
       " 'não consigo fechar minha compra',\n",
       " 'o site não funciona!',\n",
       " 'quando vai ser entregue?',\n",
       " 'quando vai chegar?',\n",
       " 'qual é o prazo de entrega?',\n",
       " 'o aparelho é muito ruim!',\n",
       " 'boa tarde!',\n",
       " 'boa noite!',\n",
       " 'preciso de ajuda para escolher meu novo celular',\n",
       " 'vocês aceitam cartão?',\n",
       " 'a tv chegou com defeito',\n",
       " 'o aparelho chegou com defeito',\n",
       " 'o aparelho não funciona']"
      ]
     },
     "execution_count": 4,
     "metadata": {},
     "output_type": "execute_result"
    }
   ],
   "source": [
    "todas_msg = mensagens_user+adicionais\n",
    "todas_msg"
   ]
  },
  {
   "cell_type": "markdown",
   "metadata": {},
   "source": [
    "# Pré-processamento das mensagens\n",
    "\n",
    "\n",
    "A modelagem de tópicos funciona a partir da análize BOW: bag of words.\n",
    "\n",
    "Desta forma, precisamos transformar cada mensagem em uma \"sacola de palavras\".\n",
    "\n",
    "Para isto, vamos processar as mensagens com um tokenizador que irá:\n",
    "\n",
    "- transformar todas as palavras em minísculas\n",
    "- remover números - não serão importantes para modelagem de tópicos\n",
    "- remover palavras com menos que 2 caracteres (a princípio vamos ignorar expressões como XD ou =D)\n",
    "- corrigir gramática\n",
    "- obter apenas a \"raiz\" da palavra (stemmer)\n",
    "\n",
    "Estas restrições são empregadas a fim de evitar agregar complexidade ao modelo quando não há ganho evidente.\n",
    "Assim, consideramos que são equivalentes:\n",
    "- celular|Celular|celulares\n",
    "- menino|meninos|menina|meninas|mennino\n",
    "- samsung|sansumg|Sannsungui"
   ]
  },
  {
   "cell_type": "markdown",
   "metadata": {},
   "source": [
    "## Corretor gramatical\n",
    "\n",
    "O corretor utilizado, projeto enchant, depende do dicionário local do sistema, então é necessário instalar o myspell:\n",
    "\n",
    "    # sudo apt-get install myspell-pt-br\n",
    "\n",
    "Além disso, vamos adicinar algumas palabras para o dicionário, como por ex. marcas e produtos:"
   ]
  },
  {
   "cell_type": "code",
   "execution_count": 5,
   "metadata": {
    "collapsed": true
   },
   "outputs": [],
   "source": [
    "termos = [\"samsung\", \"motorola\", \"apple\", \"iphone\", \"pixel\", \"google\"] # podem ser obtidos através da lista de produtos comercializados\n",
    "\n",
    "arquivo = \"/home/erickfis/.config/enchant/pt_BR.dic\"\n",
    "with open(arquivo, \"w\") as text_file:\n",
    "    for termo in termos:\n",
    "        print(termo, file=text_file)\n"
   ]
  },
  {
   "cell_type": "code",
   "execution_count": 6,
   "metadata": {},
   "outputs": [
    {
     "data": {
      "text/plain": [
       "True"
      ]
     },
     "execution_count": 6,
     "metadata": {},
     "output_type": "execute_result"
    }
   ],
   "source": [
    "import enchant\n",
    "d = enchant.Dict('pt_BR')\n",
    "d.check(\"samsung\") # indica que agora o corretor reconhece a marca samsung"
   ]
  },
  {
   "cell_type": "markdown",
   "metadata": {},
   "source": [
    "### Melhorando as sugestões do enchant\n",
    "\n",
    "o método enchant.suggest() fornece uma lista de possíveis candidatos para correção. Geralmente a primeira opção é a correta, mas nem sempre será o caso:"
   ]
  },
  {
   "cell_type": "code",
   "execution_count": 7,
   "metadata": {},
   "outputs": [
    {
     "data": {
      "text/plain": [
       "['samanga',\n",
       " 'samonga',\n",
       " 'samangã',\n",
       " 'sambango',\n",
       " 'junguetas',\n",
       " 'junguismo',\n",
       " 'sambongo',\n",
       " 'samanguaiá',\n",
       " 'sanamunda',\n",
       " 'sangueja',\n",
       " 'sununga',\n",
       " 'samanguice',\n",
       " 'samsung']"
      ]
     },
     "execution_count": 7,
     "metadata": {},
     "output_type": "execute_result"
    }
   ],
   "source": [
    "d.suggest(\"samjung\")"
   ]
  },
  {
   "cell_type": "markdown",
   "metadata": {},
   "source": [
    "Por isso, devemos escolher a correção apropriada através de uma comparação de similaridade.\n",
    "\n",
    "Para tanto, iremos utilizar os métodos \n",
    "\n",
    "    difflib.SequenceMatcher()\n",
    "    difflib.SequenceMatcher().ratio()\n",
    "\n",
    "O método sequenceMatcher compara pares de sequências de uma forma \"human friendly\".\n",
    "O método ratio() mede a similaridade do par comparado. Valores acima de 0.6 indicam um match."
   ]
  },
  {
   "cell_type": "code",
   "execution_count": 8,
   "metadata": {},
   "outputs": [
    {
     "data": {
      "text/plain": [
       "0.36363636363636365"
      ]
     },
     "execution_count": 8,
     "metadata": {},
     "output_type": "execute_result"
    }
   ],
   "source": [
    "import difflib\n",
    "difflib.SequenceMatcher(None, \"samsung\", \"sony\").ratio()"
   ]
  },
  {
   "cell_type": "code",
   "execution_count": 9,
   "metadata": {},
   "outputs": [
    {
     "data": {
      "text/plain": [
       "0.7142857142857143"
      ]
     },
     "execution_count": 9,
     "metadata": {},
     "output_type": "execute_result"
    }
   ],
   "source": [
    "difflib.SequenceMatcher(None, \"samsung\", \"sansumg\").ratio()"
   ]
  },
  {
   "cell_type": "code",
   "execution_count": 10,
   "metadata": {
    "collapsed": true
   },
   "outputs": [],
   "source": [
    "def corretor(palavra):\n",
    "    \n",
    "    melhor_sugestao = \"\"\n",
    "    melhor_ratio = 0 # começando com similaridade 0\n",
    "\n",
    "    sugestoes = set(d.suggest(palavra))\n",
    "    for sugestao in sugestoes:\n",
    "        tmp = difflib.SequenceMatcher(None, palavra, sugestao).ratio()\n",
    "        if tmp > melhor_ratio:\n",
    "            melhor_sugestao = sugestao\n",
    "            melhor_ratio = tmp # aumenta o nível para próximas comparações\n",
    "\n",
    "    return melhor_sugestao\n"
   ]
  },
  {
   "cell_type": "code",
   "execution_count": 11,
   "metadata": {},
   "outputs": [
    {
     "data": {
      "text/plain": [
       "'samsung'"
      ]
     },
     "execution_count": 11,
     "metadata": {},
     "output_type": "execute_result"
    }
   ],
   "source": [
    "corretor(\"samsungui\")"
   ]
  },
  {
   "cell_type": "code",
   "execution_count": 12,
   "metadata": {},
   "outputs": [
    {
     "data": {
      "text/plain": [
       "'samsung'"
      ]
     },
     "execution_count": 12,
     "metadata": {},
     "output_type": "execute_result"
    }
   ],
   "source": [
    "corretor(\"samjung\")"
   ]
  },
  {
   "cell_type": "markdown",
   "metadata": {},
   "source": [
    "## O tokenizador\n",
    "\n",
    "O tokenizador irá transformar, efetivamente, as mensagens em \"sacolas de palavras\".\n",
    "\n",
    "Ele deve:\n",
    "- aplicar lowercase\n",
    "- separar a mensagem em tokens, removendo números\n",
    "- remover palavras que contenham menos de 2 letras\n",
    "- aplicar corretor gramatical\n",
    "- reduzir palavras para a forma mais básica"
   ]
  },
  {
   "cell_type": "code",
   "execution_count": 13,
   "metadata": {
    "collapsed": true
   },
   "outputs": [],
   "source": [
    "import nltk\n",
    "from nltk.stem import snowball\n",
    "from nltk.corpus import stopwords\n",
    "\n",
    "stopWords = set(stopwords.words('portuguese'))\n",
    "ptlem = snowball.PortugueseStemmer()\n",
    "\n",
    "import re # para expressões regulares com o método findall()"
   ]
  },
  {
   "cell_type": "code",
   "execution_count": 14,
   "metadata": {
    "collapsed": true
   },
   "outputs": [],
   "source": [
    "def tokenizador(mensagem, tamanho=2, corrige=1, stem=1):\n",
    "\n",
    "    mensagem = mensagem.lower() # lowercase, pois consideramos \"Celular\" == \"celular\"\n",
    "    mensagem = mensagem.replace(\"boa\", \"bom\") # boa tarde == bom dia == saudação   \n",
    "    \n",
    "    # obter tokens, inclusive acentuados, eliminando espaço e pontuação\n",
    "    tokens = re.findall(\"[-'a-zA-ZÀ-ÖØ-öø-ÿ]+\", mensagem) \n",
    "    \n",
    "    ## remove palavras com tamanho <= 2, ex XD\n",
    "    tokens = [token for token in tokens if len(token) > tamanho] \n",
    "    \n",
    "    # se as palavras estiverem erradas, trocar por sugestão do enchant, senão, usar ela mesma\n",
    "    if corrige:\n",
    "        tokens = [corretor(token) if not d.check(token) else token for token in tokens]\n",
    "    \n",
    "    # stemmer para obter somente a \"raiz\" das palavras, Ex: \"menino\" == \"menina\" == \"menin\"\n",
    "    if stem:\n",
    "        tokens = [ptlem.stem(t) for t in tokens] \n",
    "    \n",
    "    # não vamos remover stop words, porque as sentenças já são pequenas demais\n",
    "    #tokens = [t for t in tokens if t not in stopWords] # remove stopwords\n",
    "    \n",
    "    return tokens"
   ]
  },
  {
   "cell_type": "markdown",
   "metadata": {},
   "source": [
    "### Aplicando o tokenizador\n",
    "\n",
    "Vamos agora transformar as mensagens do nosso DB em tokens para posteriormente obter nossa matriz de frequência para termos-documentos:"
   ]
  },
  {
   "cell_type": "code",
   "execution_count": 15,
   "metadata": {},
   "outputs": [
    {
     "data": {
      "text/plain": [
       "[['com', 'voc'],\n",
       " ['bem'],\n",
       " ['tem', 'algum', 'promoçã', 'hoj'],\n",
       " ['cad', 'iphon'],\n",
       " ['mas', 'faz', 'cinc', 'dias'],\n",
       " ['ah', 'verdad'],\n",
       " ['cad', 'iphon'],\n",
       " ['hum', 'que', 'vs', 'tem', 'dispon'],\n",
       " ['samsung', 'melhor', 'que', 'iphon'],\n",
       " ['bom', 'dia'],\n",
       " ['bom', 'tard'],\n",
       " ['bom', 'noit'],\n",
       " ['gost', 'faz', 'uma', 'reclam'],\n",
       " ['gost', 'faz', 'uma', 'troc'],\n",
       " ['gost', 'faz', 'uma', 'devolu'],\n",
       " ['qual', 'melhor', 'celul'],\n",
       " ['meu', 'celul', 'quebr'],\n",
       " ['nã', 'consig', 'fech', 'minh', 'compr'],\n",
       " ['sit', 'nã', 'funcion'],\n",
       " ['quand', 'vai', 'ser', 'entreg'],\n",
       " ['quand', 'vai', 'cheg'],\n",
       " ['qual', 'praz', 'entreg'],\n",
       " ['aparelh', 'muit', 'ruim'],\n",
       " ['bom', 'tard'],\n",
       " ['bom', 'noit'],\n",
       " ['precis', 'ajud', 'par', 'escolh', 'meu', 'nov', 'celul'],\n",
       " ['vocês', 'aceit', 'cartã'],\n",
       " ['cheg', 'com', 'defeit'],\n",
       " ['aparelh', 'cheg', 'com', 'defeit'],\n",
       " ['aparelh', 'nã', 'funcion']]"
      ]
     },
     "execution_count": 15,
     "metadata": {},
     "output_type": "execute_result"
    }
   ],
   "source": [
    "tokens = map(lambda x: tokenizador(x), todas_msg)\n",
    "msg_pro = list(tokens)\n",
    "msg_pro # mensagens processadas"
   ]
  },
  {
   "cell_type": "markdown",
   "metadata": {},
   "source": [
    "# Modelagem de tópicos\n",
    "\n",
    "Este é o ponto central da solução aqui apresentada: o algorítmo deve ser capaz de compreender o assunto (tópico) da mensagem enviada pelo cliente para então começar a montar uma resposta direcionada.\n",
    "\n",
    "A fim de melhor aproveitar o banco de dados existente (presumo que sejam dezenas de milhares de registros), vamos obter os tópicos através de aprendizado de máquina não-supervisionado, ou seja, não vamos fornecer ao algorítmo, previamente, uma set de treino com os rótulos já determinados.\n",
    "\n",
    "Do contrário, seria necessária intervenção humana para ler as mensagens, uma a uma, e atribuir pessoalmente um rótulo a elas. \n",
    "Esse processo não é viável para o nosso caso (presumo que sejam dezenas de milhares de registros...). \n",
    "Além disso, a tecnologia nos permite abordar o problema de uma forma muito mais eficiente.\n",
    "\n",
    "\n",
    "\n",
    "\n",
    "## Método LDA - Latent Dirichlet Allocation\n",
    "\n",
    "\n",
    "Para natural language processing, um aprendizado de máquina não supervisionado pode ser obtido através de algumas técnicas diferentes, entre elas:\n",
    "- redução de dimensionalidade PCA ou SVD\n",
    "- Latent semantic analysis - LSA\n",
    "- LDA - Latent Dirichlet Allocation\n",
    "\n",
    "O LDA é um caso especial de análise probabilística de semântica latente onde a distribuição \"prior\" de tópicos é considerada como sendo do tipo beta multivariável, ou seja, uma distribuição Dirichlet. \n",
    "\n",
    "O LDA tem como principal vantagem a capacidade de encontrar tópicos intermediários entre os tópicos que seriam sugeridos pelo método LSA/PCA/SVD (que utilizam redução de dimensionalidade, trabalha com os componentes principais e, portanto, sugerem tópicos ortogonais), evitando assim overfitting e aumentando a acurácia.\n",
    "\n",
    "Por outro lado, exige mais tempo de processamento que o demais.\n",
    "\n",
    "O pacote *gensim* traz as ferramentas necessárias para implementar uma análise LDA em python."
   ]
  },
  {
   "cell_type": "code",
   "execution_count": 16,
   "metadata": {},
   "outputs": [
    {
     "name": "stderr",
     "output_type": "stream",
     "text": [
      "/data/data-erick/anaconda3/lib/python3.6/site-packages/requests/__init__.py:80: RequestsDependencyWarning: urllib3 (1.22) or chardet (2.3.0) doesn't match a supported version!\n",
      "  RequestsDependencyWarning)\n"
     ]
    }
   ],
   "source": [
    "from gensim import corpora, models\n",
    "\n",
    "dicionario = corpora.Dictionary(msg_pro) # obtendo um dicionário através do nosso DB"
   ]
  },
  {
   "cell_type": "code",
   "execution_count": 17,
   "metadata": {
    "collapsed": true
   },
   "outputs": [],
   "source": [
    "corpo = [dicionario.doc2bow(msg) for msg in msg_pro] # matriz de termos para cada documento"
   ]
  },
  {
   "cell_type": "markdown",
   "metadata": {},
   "source": [
    "## Treinando nosso modelo LDA\n",
    "\n",
    "Vamos começar estimando 5 tópicos, com 100 passadas sobre nosso DB. Vamos também cronometrar o tempo gasto no processo.\n",
    "\n",
    "O parâmetro alpha diz respeito à densidade documento-tópico. Valores altos indicam que cada documento contém mais tópicos. Como esperamos que a mensagem do cliente contenha apenas 1 tópico, vamos usar alpha = .2\n",
    "\n",
    "O número de passes indica a quantidade de iterações que serão realizadas para obter convergência dos resultados."
   ]
  },
  {
   "cell_type": "code",
   "execution_count": 18,
   "metadata": {
    "scrolled": true
   },
   "outputs": [
    {
     "name": "stdout",
     "output_type": "stream",
     "text": [
      "\n",
      " --- 2.8609 segundos ---\n"
     ]
    }
   ],
   "source": [
    "import time\n",
    "import random\n",
    "\n",
    "start = time.time()\n",
    "random.seed(95276)\n",
    "modelo = models.ldamodel.LdaModel(corpo, gamma_threshold=.01, minimum_phi_value=.005, per_word_topics=True, minimum_probability=.01,\n",
    "    num_topics=6, id2word = dicionario, passes=100, alpha=.2, eta=10, random_state=95276)\n",
    "\n",
    "    # alpha (relação documento/tópico) e eta (relação tópicos-palavras) \n",
    "    # poderiam ser parametrizados para \"aprender com os dados\" - opção \"auto\"\n",
    "    \n",
    "print(\"\\n --- %s segundos ---\" % round((time.time() - start),4))\n"
   ]
  },
  {
   "cell_type": "markdown",
   "metadata": {},
   "source": [
    "### Visualizando os 3 principais termos de cada tópico"
   ]
  },
  {
   "cell_type": "code",
   "execution_count": 19,
   "metadata": {},
   "outputs": [
    {
     "data": {
      "text/plain": [
       "[(0, '0.021*\"cheg\" + 0.021*\"com\" + 0.020*\"aparelh\"'),\n",
       " (1, '0.023*\"faz\" + 0.021*\"gost\" + 0.021*\"uma\"'),\n",
       " (2, '0.020*\"tem\" + 0.018*\"hoj\" + 0.018*\"promoçã\"'),\n",
       " (3, '0.025*\"bom\" + 0.020*\"tard\" + 0.020*\"noit\"'),\n",
       " (4, '0.021*\"celul\" + 0.021*\"iphon\" + 0.020*\"meu\"'),\n",
       " (5, '0.021*\"nã\" + 0.019*\"funcion\" + 0.018*\"minh\"')]"
      ]
     },
     "execution_count": 19,
     "metadata": {},
     "output_type": "execute_result"
    }
   ],
   "source": [
    "modelo.print_topics(num_topics=6, num_words=3)\n"
   ]
  },
  {
   "cell_type": "markdown",
   "metadata": {},
   "source": [
    "### Serializando o modelo\n",
    "\n",
    "Para não ter que treinar novamente (salvando o modelo para o disco)"
   ]
  },
  {
   "cell_type": "code",
   "execution_count": 20,
   "metadata": {},
   "outputs": [
    {
     "data": {
      "text/plain": [
       "[(0, '0.021*\"cheg\" + 0.021*\"com\" + 0.020*\"aparelh\"'),\n",
       " (1, '0.023*\"faz\" + 0.021*\"gost\" + 0.021*\"uma\"'),\n",
       " (2, '0.020*\"tem\" + 0.018*\"hoj\" + 0.018*\"promoçã\"'),\n",
       " (3, '0.025*\"bom\" + 0.020*\"tard\" + 0.020*\"noit\"'),\n",
       " (4, '0.021*\"celul\" + 0.021*\"iphon\" + 0.020*\"meu\"'),\n",
       " (5, '0.021*\"nã\" + 0.019*\"funcion\" + 0.018*\"minh\"')]"
      ]
     },
     "execution_count": 20,
     "metadata": {},
     "output_type": "execute_result"
    }
   ],
   "source": [
    "import pickle\n",
    "\n",
    "# grava no disco\n",
    "pickle.dump(modelo, open(\"modelo_lda.model\", 'wb'))\n",
    "pickle.dump(dicionario, open(\"dicionario.model\", 'wb'))\n",
    "\n",
    "# carregando de volta\n",
    "modelo_salvo = pickle.load(open(\"modelo_lda.model\", 'rb'))\n",
    "dicionario = pickle.load(open(\"dicionario.model\", 'rb'))\n",
    "\n",
    "modelo_salvo.print_topics(num_topics=6, num_words=3)\n"
   ]
  },
  {
   "cell_type": "markdown",
   "metadata": {},
   "source": [
    "## Análise visual  dos tópicos obtidos\n",
    "\n",
    "Quanto maior a distinção entre os agrupamentos identificados, melhor.\n",
    "Para obter tal distinção, devem ser ajustados os parâmetros da preparação do modelo lda.\n"
   ]
  },
  {
   "cell_type": "code",
   "execution_count": 21,
   "metadata": {},
   "outputs": [
    {
     "name": "stderr",
     "output_type": "stream",
     "text": [
      "/data/data-erick/anaconda3/lib/python3.6/site-packages/pyLDAvis/_prepare.py:387: DeprecationWarning: \n",
      ".ix is deprecated. Please use\n",
      ".loc for label based indexing or\n",
      ".iloc for positional indexing\n",
      "\n",
      "See the documentation here:\n",
      "http://pandas.pydata.org/pandas-docs/stable/indexing.html#ix-indexer-is-deprecated\n",
      "  topic_term_dists = topic_term_dists.ix[topic_order]\n"
     ]
    },
    {
     "data": {
      "text/html": [
       "\n",
       "<link rel=\"stylesheet\" type=\"text/css\" href=\"https://cdn.rawgit.com/bmabey/pyLDAvis/files/ldavis.v1.0.0.css\">\n",
       "\n",
       "\n",
       "<div id=\"ldavis_el13490140634716899872789292211\"></div>\n",
       "<script type=\"text/javascript\">\n",
       "\n",
       "var ldavis_el13490140634716899872789292211_data = {\"mdsDat\": {\"Freq\": [23.377256393432617, 18.86583137512207, 17.55670166015625, 16.84170913696289, 14.169905662536621, 9.188600540161133], \"cluster\": [1, 1, 1, 1, 1, 1], \"topics\": [1, 2, 3, 4, 5, 6], \"x\": [-0.0002867250044203733, -0.0005216100989496379, -7.083262521286621e-05, 0.0008502163439372656, 4.539333819648337e-05, -1.6441953550870897e-05], \"y\": [0.000732462863681712, -0.0006531194640818391, 5.420896218981409e-05, -0.0001475559817568841, -1.8335373219725385e-05, 3.233899318692178e-05]}, \"tinfo\": {\"Category\": [\"Default\", \"Default\", \"Default\", \"Default\", \"Default\", \"Default\", \"Default\", \"Default\", \"Default\", \"Default\", \"Default\", \"Default\", \"Default\", \"Default\", \"Default\", \"Default\", \"Default\", \"Default\", \"Default\", \"Default\", \"Default\", \"Default\", \"Default\", \"Default\", \"Default\", \"Default\", \"Default\", \"Default\", \"Default\", \"Default\", \"Topic1\", \"Topic1\", \"Topic1\", \"Topic1\", \"Topic1\", \"Topic1\", \"Topic1\", \"Topic1\", \"Topic1\", \"Topic1\", \"Topic1\", \"Topic1\", \"Topic1\", \"Topic1\", \"Topic1\", \"Topic1\", \"Topic1\", \"Topic1\", \"Topic1\", \"Topic1\", \"Topic1\", \"Topic1\", \"Topic1\", \"Topic1\", \"Topic1\", \"Topic1\", \"Topic1\", \"Topic1\", \"Topic1\", \"Topic1\", \"Topic1\", \"Topic1\", \"Topic1\", \"Topic1\", \"Topic1\", \"Topic1\", \"Topic1\", \"Topic1\", \"Topic1\", \"Topic1\", \"Topic1\", \"Topic1\", \"Topic2\", \"Topic2\", \"Topic2\", \"Topic2\", \"Topic2\", \"Topic2\", \"Topic2\", \"Topic2\", \"Topic2\", \"Topic2\", \"Topic2\", \"Topic2\", \"Topic2\", \"Topic2\", \"Topic2\", \"Topic2\", \"Topic2\", \"Topic2\", \"Topic2\", \"Topic2\", \"Topic2\", \"Topic2\", \"Topic2\", \"Topic2\", \"Topic2\", \"Topic2\", \"Topic2\", \"Topic2\", \"Topic2\", \"Topic2\", \"Topic2\", \"Topic2\", \"Topic2\", \"Topic2\", \"Topic2\", \"Topic2\", \"Topic2\", \"Topic2\", \"Topic2\", \"Topic2\", \"Topic3\", \"Topic3\", \"Topic3\", \"Topic3\", \"Topic3\", \"Topic3\", \"Topic3\", \"Topic3\", \"Topic3\", \"Topic3\", \"Topic3\", \"Topic3\", \"Topic3\", \"Topic3\", \"Topic3\", \"Topic3\", \"Topic3\", \"Topic3\", \"Topic3\", \"Topic3\", \"Topic3\", \"Topic3\", \"Topic3\", \"Topic3\", \"Topic3\", \"Topic3\", \"Topic3\", \"Topic3\", \"Topic3\", \"Topic3\", \"Topic3\", \"Topic3\", \"Topic3\", \"Topic3\", \"Topic3\", \"Topic3\", \"Topic3\", \"Topic3\", \"Topic3\", \"Topic3\", \"Topic3\", \"Topic4\", \"Topic4\", \"Topic4\", \"Topic4\", \"Topic4\", \"Topic4\", \"Topic4\", \"Topic4\", \"Topic4\", \"Topic4\", \"Topic4\", \"Topic4\", \"Topic4\", \"Topic4\", \"Topic4\", \"Topic4\", \"Topic4\", \"Topic4\", \"Topic4\", \"Topic4\", \"Topic4\", \"Topic4\", \"Topic4\", \"Topic4\", \"Topic4\", \"Topic4\", \"Topic4\", \"Topic4\", \"Topic4\", \"Topic4\", \"Topic4\", \"Topic4\", \"Topic4\", \"Topic4\", \"Topic4\", \"Topic4\", \"Topic4\", \"Topic4\", \"Topic4\", \"Topic5\", \"Topic5\", \"Topic5\", \"Topic5\", \"Topic5\", \"Topic5\", \"Topic5\", \"Topic5\", \"Topic5\", \"Topic5\", \"Topic5\", \"Topic5\", \"Topic5\", \"Topic5\", \"Topic5\", \"Topic5\", \"Topic5\", \"Topic5\", \"Topic5\", \"Topic5\", \"Topic5\", \"Topic5\", \"Topic5\", \"Topic5\", \"Topic5\", \"Topic5\", \"Topic5\", \"Topic5\", \"Topic5\", \"Topic5\", \"Topic5\", \"Topic5\", \"Topic5\", \"Topic5\", \"Topic5\", \"Topic5\", \"Topic5\", \"Topic5\", \"Topic5\", \"Topic5\", \"Topic5\", \"Topic5\", \"Topic5\", \"Topic6\", \"Topic6\", \"Topic6\", \"Topic6\", \"Topic6\", \"Topic6\", \"Topic6\", \"Topic6\", \"Topic6\", \"Topic6\", \"Topic6\", \"Topic6\", \"Topic6\", \"Topic6\", \"Topic6\", \"Topic6\", \"Topic6\", \"Topic6\", \"Topic6\", \"Topic6\", \"Topic6\", \"Topic6\", \"Topic6\", \"Topic6\", \"Topic6\", \"Topic6\", \"Topic6\", \"Topic6\", \"Topic6\", \"Topic6\", \"Topic6\", \"Topic6\", \"Topic6\", \"Topic6\", \"Topic6\", \"Topic6\", \"Topic6\", \"Topic6\", \"Topic6\", \"Topic6\", \"Topic6\", \"Topic6\", \"Topic6\", \"Topic6\"], \"Freq\": [1.0, 1.0, 1.0, 1.0, 1.0, 1.0, 1.0, 1.0, 1.0, 1.0, 1.0, 1.0, 1.0, 1.0, 1.0, 1.0, 1.0, 1.0, 1.0, 1.0, 1.0, 1.0, 1.0, 1.0, 1.0, 1.0, 1.0, 1.0, 1.0, 1.0, 0.471347451210022, 0.47089532017707825, 0.4353020191192627, 0.43519333004951477, 0.43472132086753845, 0.3993053138256073, 0.3993053138256073, 0.3993053138256073, 0.3993053138256073, 0.3993053138256073, 0.39918798208236694, 0.39909055829048157, 0.3992435932159424, 0.4009222984313965, 0.366292804479599, 0.366292804479599, 0.366292804479599, 0.36651182174682617, 0.36318838596343994, 0.36318838596343994, 0.36318838596343994, 0.36319413781166077, 0.36319413781166077, 0.36319413781166077, 0.3649666905403137, 0.36370065808296204, 0.3632737696170807, 0.3632737696170807, 0.36317887902259827, 0.36317887902259827, 0.36317887902259827, 0.3650102913379669, 0.3645024299621582, 0.36338090896606445, 0.36338090896606445, 0.3645288050174713, 0.3642246127128601, 0.3632504642009735, 0.36353209614753723, 0.36333516240119934, 0.36333510279655457, 0.36333486437797546, 0.41297465562820435, 0.38355615735054016, 0.38355615735054016, 0.32478535175323486, 0.32478466629981995, 0.32478463649749756, 0.3247820734977722, 0.3247820734977722, 0.3247820734977722, 0.2994968295097351, 0.29549074172973633, 0.29549074172973633, 0.29549074172973633, 0.2954820990562439, 0.2954820990562439, 0.2954820990562439, 0.29686468839645386, 0.29686468839645386, 0.29608386754989624, 0.29608386754989624, 0.29608386754989624, 0.29567933082580566, 0.29567933082580566, 0.29567933082580566, 0.29567933082580566, 0.29556208848953247, 0.2956869304180145, 0.29554176330566406, 0.2955273687839508, 0.2955273687839508, 0.29798999428749084, 0.298209011554718, 0.29799139499664307, 0.29572105407714844, 0.2957451343536377, 0.29577362537384033, 0.2956116795539856, 0.29561159014701843, 0.2956399619579315, 0.29561755061149597, 0.41491812467575073, 0.33239173889160156, 0.3323913514614105, 0.30497267842292786, 0.28223493695259094, 0.2818431258201599, 0.2818431258201599, 0.2797132730484009, 0.2797132730484009, 0.2797132730484009, 0.2777467370033264, 0.2777467370033264, 0.2777467370033264, 0.27767160534858704, 0.27767160534858704, 0.27767160534858704, 0.27784213423728943, 0.2778130769729614, 0.2778130769729614, 0.2778130769729614, 0.2778130769729614, 0.27774858474731445, 0.2777215540409088, 0.2776966392993927, 0.2776966392993927, 0.277671754360199, 0.2777809202671051, 0.2776714563369751, 0.2776714563369751, 0.2776714563369751, 0.2778942584991455, 0.27806556224823, 0.2777874171733856, 0.2777825891971588, 0.2778033912181854, 0.2777920365333557, 0.2777879536151886, 0.2777838706970215, 0.2778136730194092, 0.2777581214904785, 0.2777552902698517, 0.3393714427947998, 0.33923742175102234, 0.3134061098098755, 0.3134027123451233, 0.3134027123451233, 0.31738078594207764, 0.3071327209472656, 0.2874717712402344, 0.287244975566864, 0.28702303767204285, 0.28702303767204285, 0.28113776445388794, 0.28118881583213806, 0.2639191746711731, 0.2615475356578827, 0.2615475356578827, 0.2615475356578827, 0.26153987646102905, 0.26153987646102905, 0.26153987646102905, 0.2659696042537689, 0.26185160875320435, 0.26185160875320435, 0.26185160875320435, 0.26171034574508667, 0.2617090940475464, 0.2617090940475464, 0.261618971824646, 0.261618971824646, 0.261618971824646, 0.261618971824646, 0.26604562997817993, 0.26158976554870605, 0.26179587841033936, 0.2616535425186157, 0.26165345311164856, 0.2616783082485199, 0.26165854930877686, 0.26162490248680115, 0.2821711301803589, 0.2602953314781189, 0.24489568173885345, 0.24489568173885345, 0.24489568173885345, 0.24489568173885345, 0.2440296709537506, 0.2380634993314743, 0.2380634993314743, 0.2353009581565857, 0.2353009581565857, 0.2353009581565857, 0.23952005803585052, 0.22792743146419525, 0.22311817109584808, 0.22311817109584808, 0.22311817109584808, 0.22311139106750488, 0.22311139106750488, 0.22311139106750488, 0.224439799785614, 0.22331835329532623, 0.22331835329532623, 0.22315460443496704, 0.2231147736310959, 0.22315053641796112, 0.22314231097698212, 0.22311462461948395, 0.22311462461948395, 0.22311462461948395, 0.22446593642234802, 0.22448375821113586, 0.2232065498828888, 0.22320640087127686, 0.22332996129989624, 0.22321073710918427, 0.22320787608623505, 0.22322788834571838, 0.2231845110654831, 0.22318167984485626, 0.22317257523536682, 0.22316235303878784, 0.22316235303878784, 0.174123153090477, 0.1597130298614502, 0.1597130298614502, 0.1597130298614502, 0.15968430042266846, 0.15968430042266846, 0.15968430042266846, 0.1597062051296234, 0.1495753675699234, 0.14900743961334229, 0.14900743961334229, 0.14900743961334229, 0.14699675142765045, 0.14699675142765045, 0.14712004363536835, 0.1456739604473114, 0.14532700181007385, 0.14532700181007385, 0.14532700181007385, 0.14532700181007385, 0.14533625543117523, 0.1453208476305008, 0.1453208476305008, 0.14531120657920837, 0.14533479511737823, 0.14531105756759644, 0.14531105756759644, 0.14531105756759644, 0.14531080424785614, 0.14531074464321136, 0.14713777601718903, 0.14714907109737396, 0.14570099115371704, 0.14573250710964203, 0.14537163078784943, 0.145371213555336, 0.145452618598938, 0.1453745812177658, 0.1453859508037567, 0.145370751619339, 0.1453658491373062, 0.14535607397556305, 0.14535506069660187, 0.14534892141819], \"Term\": [\"tem\", \"n\\u00e3\", \"bom\", \"algum\", \"hoj\", \"promo\\u00e7\\u00e3\", \"vs\", \"hum\", \"dispon\", \"funcion\", \"que\", \"cheg\", \"com\", \"aparelh\", \"cart\\u00e3\", \"voc\\u00eas\", \"aceit\", \"minh\", \"fech\", \"consig\", \"compr\", \"sit\", \"verdad\", \"ah\", \"bem\", \"entreg\", \"defeit\", \"vai\", \"quand\", \"faz\", \"celul\", \"iphon\", \"meu\", \"melhor\", \"cad\", \"precis\", \"par\", \"nov\", \"escolh\", \"ajud\", \"samsung\", \"quebr\", \"que\", \"qual\", \"voc\\u00eas\", \"aceit\", \"cart\\u00e3\", \"bem\", \"hoj\", \"algum\", \"promo\\u00e7\\u00e3\", \"vs\", \"hum\", \"dispon\", \"praz\", \"sit\", \"verdad\", \"ah\", \"consig\", \"fech\", \"minh\", \"entreg\", \"funcion\", \"ruim\", \"muit\", \"n\\u00e3\", \"aparelh\", \"voc\", \"bom\", \"tard\", \"noit\", \"com\", \"faz\", \"uma\", \"gost\", \"reclam\", \"devolu\", \"troc\", \"dias\", \"cinc\", \"mas\", \"bem\", \"algum\", \"promo\\u00e7\\u00e3\", \"hoj\", \"vs\", \"hum\", \"dispon\", \"ah\", \"verdad\", \"voc\\u00eas\", \"cart\\u00e3\", \"aceit\", \"fech\", \"minh\", \"consig\", \"compr\", \"sit\", \"praz\", \"voc\", \"ruim\", \"muit\", \"funcion\", \"n\\u00e3\", \"aparelh\", \"entreg\", \"qual\", \"bom\", \"tard\", \"noit\", \"iphon\", \"cad\", \"bom\", \"tard\", \"noit\", \"dia\", \"bem\", \"ah\", \"verdad\", \"voc\\u00eas\", \"cart\\u00e3\", \"aceit\", \"hum\", \"vs\", \"dispon\", \"promo\\u00e7\\u00e3\", \"algum\", \"hoj\", \"sit\", \"compr\", \"consig\", \"fech\", \"minh\", \"praz\", \"voc\", \"muit\", \"ruim\", \"ser\", \"tem\", \"cinc\", \"dias\", \"mas\", \"funcion\", \"n\\u00e3\", \"que\", \"entreg\", \"qual\", \"cad\", \"com\", \"aparelh\", \"iphon\", \"cheg\", \"faz\", \"cheg\", \"com\", \"defeit\", \"vai\", \"quand\", \"aparelh\", \"entreg\", \"ser\", \"voc\", \"ruim\", \"muit\", \"praz\", \"qual\", \"bem\", \"promo\\u00e7\\u00e3\", \"algum\", \"hoj\", \"vs\", \"dispon\", \"hum\", \"funcion\", \"cart\\u00e3\", \"voc\\u00eas\", \"aceit\", \"sit\", \"ah\", \"verdad\", \"consig\", \"compr\", \"minh\", \"fech\", \"n\\u00e3\", \"dia\", \"bom\", \"tard\", \"noit\", \"iphon\", \"cad\", \"faz\", \"n\\u00e3\", \"funcion\", \"fech\", \"compr\", \"consig\", \"minh\", \"sit\", \"ah\", \"verdad\", \"voc\\u00eas\", \"aceit\", \"cart\\u00e3\", \"aparelh\", \"bem\", \"promo\\u00e7\\u00e3\", \"algum\", \"hoj\", \"dispon\", \"hum\", \"vs\", \"praz\", \"ruim\", \"muit\", \"voc\", \"ser\", \"dia\", \"tem\", \"cinc\", \"dias\", \"mas\", \"entreg\", \"qual\", \"tard\", \"noit\", \"bom\", \"cad\", \"com\", \"iphon\", \"cheg\", \"faz\", \"celul\", \"uma\", \"gost\", \"tem\", \"algum\", \"hoj\", \"promo\\u00e7\\u00e3\", \"hum\", \"dispon\", \"vs\", \"que\", \"bem\", \"voc\\u00eas\", \"aceit\", \"cart\\u00e3\", \"ah\", \"verdad\", \"praz\", \"sit\", \"compr\", \"consig\", \"fech\", \"minh\", \"voc\", \"muit\", \"ruim\", \"ser\", \"dia\", \"cinc\", \"dias\", \"mas\", \"troc\", \"devolu\", \"entreg\", \"qual\", \"funcion\", \"n\\u00e3\", \"noit\", \"tard\", \"bom\", \"cad\", \"iphon\", \"com\", \"aparelh\", \"cheg\", \"faz\", \"celul\"], \"Total\": [1.0, 1.0, 1.0, 1.0, 1.0, 1.0, 1.0, 1.0, 1.0, 1.0, 1.0, 1.0, 1.0, 1.0, 1.0, 1.0, 1.0, 1.0, 1.0, 1.0, 1.0, 1.0, 1.0, 1.0, 1.0, 1.0, 1.0, 1.0, 1.0, 1.0, 1.674794316291809, 1.6746411323547363, 1.6385713815689087, 1.638534426689148, 1.63837468624115, 1.6023648977279663, 1.6023648977279663, 1.6023648977279663, 1.6023648977279663, 1.6023648977279663, 1.602325201034546, 1.6022924184799194, 1.6169824600219727, 1.627292513847351, 1.5882500410079956, 1.5882500410079956, 1.5882500410079956, 1.5896655321121216, 1.5807294845581055, 1.5807294845581055, 1.5807294845581055, 1.5807585716247559, 1.5807585716247559, 1.5807585716247559, 1.591099739074707, 1.5885189771652222, 1.588750958442688, 1.588750958442688, 1.588512897491455, 1.588512897491455, 1.588512897491455, 1.6172503232955933, 1.6123526096343994, 1.5922671556472778, 1.5922671556472778, 1.6347527503967285, 1.6422666311264038, 1.5922495126724243, 1.70480215549469, 1.6215698719024658, 1.6215695142745972, 1.6445504426956177, 1.6841872930526733, 1.6546602249145508, 1.6546602249145508, 1.5956159830093384, 1.5956157445907593, 1.5956155061721802, 1.5956151485443115, 1.5956151485443115, 1.5956151485443115, 1.5896655321121216, 1.5807294845581055, 1.5807294845581055, 1.5807294845581055, 1.5807585716247559, 1.5807585716247559, 1.5807585716247559, 1.588750958442688, 1.588750958442688, 1.5882500410079956, 1.5882500410079956, 1.5882500410079956, 1.588512897491455, 1.588512897491455, 1.588512897491455, 1.588512897491455, 1.5885189771652222, 1.591099739074707, 1.5922495126724243, 1.5922671556472778, 1.5922671556472778, 1.6123526096343994, 1.6347527503967285, 1.6422666311264038, 1.6172503232955933, 1.627292513847351, 1.70480215549469, 1.6215698719024658, 1.6215695142745972, 1.6746411323547363, 1.63837468624115, 1.70480215549469, 1.6215698719024658, 1.6215695142745972, 1.5938321352005005, 1.5896655321121216, 1.588750958442688, 1.588750958442688, 1.5882500410079956, 1.5882500410079956, 1.5882500410079956, 1.5807585716247559, 1.5807585716247559, 1.5807585716247559, 1.5807294845581055, 1.5807294845581055, 1.5807294845581055, 1.5885189771652222, 1.588512897491455, 1.588512897491455, 1.588512897491455, 1.588512897491455, 1.591099739074707, 1.5922495126724243, 1.5922671556472778, 1.5922671556472778, 1.5922507047653198, 1.5953724384307861, 1.5956151485443115, 1.5956151485443115, 1.5956151485443115, 1.6123526096343994, 1.6347527503967285, 1.6169824600219727, 1.6172503232955933, 1.627292513847351, 1.63837468624115, 1.6445504426956177, 1.6422666311264038, 1.6746411323547363, 1.6445510387420654, 1.6841872930526733, 1.6445510387420654, 1.6445504426956177, 1.6184008121490479, 1.6184008121490479, 1.6184008121490479, 1.6422666311264038, 1.6172503232955933, 1.5922507047653198, 1.5922495126724243, 1.5922671556472778, 1.5922671556472778, 1.591099739074707, 1.627292513847351, 1.5896655321121216, 1.5807294845581055, 1.5807294845581055, 1.5807294845581055, 1.5807585716247559, 1.5807585716247559, 1.5807585716247559, 1.6123526096343994, 1.5882500410079956, 1.5882500410079956, 1.5882500410079956, 1.5885189771652222, 1.588750958442688, 1.588750958442688, 1.588512897491455, 1.588512897491455, 1.588512897491455, 1.588512897491455, 1.6347527503967285, 1.5938321352005005, 1.70480215549469, 1.6215698719024658, 1.6215695142745972, 1.6746411323547363, 1.63837468624115, 1.6841872930526733, 1.6347527503967285, 1.6123526096343994, 1.588512897491455, 1.588512897491455, 1.588512897491455, 1.588512897491455, 1.5885189771652222, 1.588750958442688, 1.588750958442688, 1.5882500410079956, 1.5882500410079956, 1.5882500410079956, 1.6422666311264038, 1.5896655321121216, 1.5807294845581055, 1.5807294845581055, 1.5807294845581055, 1.5807585716247559, 1.5807585716247559, 1.5807585716247559, 1.591099739074707, 1.5922671556472778, 1.5922671556472778, 1.5922495126724243, 1.5922507047653198, 1.5938321352005005, 1.5953724384307861, 1.5956151485443115, 1.5956151485443115, 1.5956151485443115, 1.6172503232955933, 1.627292513847351, 1.6215698719024658, 1.6215695142745972, 1.70480215549469, 1.63837468624115, 1.6445504426956177, 1.6746411323547363, 1.6445510387420654, 1.6841872930526733, 1.674794316291809, 1.6546602249145508, 1.6546602249145508, 1.5953724384307861, 1.5807294845581055, 1.5807294845581055, 1.5807294845581055, 1.5807585716247559, 1.5807585716247559, 1.5807585716247559, 1.6169824600219727, 1.5896655321121216, 1.5882500410079956, 1.5882500410079956, 1.5882500410079956, 1.588750958442688, 1.588750958442688, 1.591099739074707, 1.5885189771652222, 1.588512897491455, 1.588512897491455, 1.588512897491455, 1.588512897491455, 1.5922495126724243, 1.5922671556472778, 1.5922671556472778, 1.5922507047653198, 1.5938321352005005, 1.5956151485443115, 1.5956151485443115, 1.5956151485443115, 1.5956155061721802, 1.5956157445907593, 1.6172503232955933, 1.627292513847351, 1.6123526096343994, 1.6347527503967285, 1.6215695142745972, 1.6215698719024658, 1.70480215549469, 1.63837468624115, 1.6746411323547363, 1.6445504426956177, 1.6422666311264038, 1.6445510387420654, 1.6841872930526733, 1.674794316291809], \"loglift\": [30.0, 29.0, 28.0, 27.0, 26.0, 25.0, 24.0, 23.0, 22.0, 21.0, 20.0, 19.0, 18.0, 17.0, 16.0, 15.0, 14.0, 13.0, 12.0, 11.0, 10.0, 9.0, 8.0, 7.0, 6.0, 5.0, 4.0, 3.0, 2.0, 1.0, 0.18559999763965607, 0.18469999730587006, 0.12790000438690186, 0.12759999930858612, 0.1266999989748001, 0.06390000134706497, 0.06390000134706497, 0.06390000134706497, 0.06390000134706497, 0.06390000134706497, 0.06360000371932983, 0.06340000033378601, 0.05469999834895134, 0.05249999836087227, -0.013500000350177288, -0.013500000350177288, -0.013500000350177288, -0.013799999840557575, -0.01730000041425228, -0.01730000041425228, -0.01730000041425228, -0.01730000041425228, -0.01730000041425228, -0.01730000041425228, -0.01899999938905239, -0.020800000056624413, -0.022099999710917473, -0.022099999710917473, -0.022299999371170998, -0.022299999371170998, -0.022299999371170998, -0.03519999980926514, -0.03350000083446503, -0.02410000003874302, -0.02410000003874302, -0.047200001776218414, -0.05270000174641609, -0.024399999529123306, -0.09189999848604202, -0.042399998754262924, -0.042399998754262924, -0.05649999901652336, 0.2621999979019165, 0.20600000023841858, 0.20600000023841858, 0.07599999755620956, 0.07599999755620956, 0.07599999755620956, 0.07599999755620956, 0.07599999755620956, 0.07599999755620956, -0.00139999995008111, -0.009200000204145908, -0.009200000204145908, -0.009200000204145908, -0.009200000204145908, -0.009200000204145908, -0.009200000204145908, -0.009600000455975533, -0.009600000455975533, -0.011900000274181366, -0.011900000274181366, -0.011900000274181366, -0.013500000350177288, -0.013500000350177288, -0.013500000350177288, -0.013500000350177288, -0.013899999670684338, -0.01510000042617321, -0.016300000250339508, -0.016300000250339508, -0.016300000250339508, -0.020600000396370888, -0.03359999880194664, -0.039000000804662704, -0.031199999153614044, -0.03739999979734421, -0.08380000293254852, -0.034299999475479126, -0.034299999475479126, -0.06639999896287918, -0.044599998742341995, 0.32659998536109924, 0.15489999949932098, 0.15489999949932098, 0.08609999716281891, 0.01119999960064888, 0.010400000028312206, 0.010400000028312206, 0.003100000089034438, 0.003100000089034438, 0.003100000089034438, 0.0007999999797903001, 0.0007999999797903001, 0.0007999999797903001, 0.0005000000237487257, 0.0005000000237487257, 0.0005000000237487257, -0.003800000064074993, -0.0038999998942017555, -0.0038999998942017555, -0.0038999998942017555, -0.0038999998942017555, -0.00570000009611249, -0.006500000134110451, -0.0066999997943639755, -0.0066999997943639755, -0.0066999997943639755, -0.008299999870359898, -0.008799999952316284, -0.008799999952316284, -0.008799999952316284, -0.01850000023841858, -0.031700000166893005, -0.021700000390410423, -0.021900000050663948, -0.02800000086426735, -0.0348999984562397, -0.038600001484155655, -0.037300001829862595, -0.056699998676776886, -0.03869999945163727, -0.06260000169277191, 0.20319999754428864, 0.20280000567436218, 0.1395999938249588, 0.1395999938249588, 0.1395999938249588, 0.13760000467300415, 0.1200999990105629, 0.06949999928474426, 0.06870000064373016, 0.06800000369548798, 0.06800000369548798, 0.04800000041723251, 0.025699999183416367, -0.014299999922513962, -0.01769999973475933, -0.01769999973475933, -0.01769999973475933, -0.017799999564886093, -0.017799999564886093, -0.017799999564886093, -0.020800000056624413, -0.021299999207258224, -0.021299999207258224, -0.021299999207258224, -0.02199999988079071, -0.022199999541044235, -0.022199999541044235, -0.02239999920129776, -0.02239999920129776, -0.02239999920129776, -0.02239999920129776, -0.034299999475479126, -0.025800000876188278, -0.09229999780654907, -0.04280000180006027, -0.04280000180006027, -0.07490000128746033, -0.05310000106692314, -0.08079999685287476, 0.1973000019788742, 0.13040000200271606, 0.08429999649524689, 0.08429999649524689, 0.08429999649524689, 0.08429999649524689, 0.08079999685287476, 0.05590000003576279, 0.05590000003576279, 0.04450000077486038, 0.04450000077486038, 0.04450000077486038, 0.02889999933540821, 0.011800000444054604, -0.0038999998942017555, -0.0038999998942017555, -0.0038999998942017555, -0.0038999998942017555, -0.0038999998942017555, -0.0038999998942017555, -0.0044999998062849045, -0.010300000198185444, -0.010300000198185444, -0.010999999940395355, -0.01119999960064888, -0.012000000104308128, -0.013000000268220901, -0.013299999758601189, -0.013299999758601189, -0.013299999758601189, -0.02070000022649765, -0.026799999177455902, -0.028999999165534973, -0.028999999165534973, -0.07850000262260437, -0.03929999843239784, -0.04309999942779541, -0.06109999865293503, -0.04320000112056732, -0.06700000166893005, -0.061500001698732376, -0.049400001764297485, -0.049400001764297485, 0.1720999926328659, 0.09489999711513519, 0.09489999711513519, 0.09489999711513519, 0.09470000118017197, 0.09470000118017197, 0.09470000118017197, 0.0722000002861023, 0.02370000071823597, 0.020800000056624413, 0.020800000056624413, 0.020800000056624413, 0.006899999920278788, 0.006899999920278788, 0.006300000008195639, -0.0020000000949949026, -0.004399999976158142, -0.004399999976158142, -0.004399999976158142, -0.004399999976158142, -0.006599999964237213, -0.006800000090152025, -0.006800000090152025, -0.006800000090152025, -0.007699999958276749, -0.008899999782443047, -0.008899999782443047, -0.008899999782443047, -0.008899999782443047, -0.008899999782443047, -0.00989999994635582, -0.01600000075995922, -0.016699999570846558, -0.030300000682473183, -0.02459999918937683, -0.024700000882148743, -0.07410000264644623, -0.0348999984562397, -0.0568000003695488, -0.03869999945163727, -0.03739999979734421, -0.03880000114440918, -0.06270000338554382, -0.057100001722574234], \"logprob\": [30.0, 29.0, 28.0, 27.0, 26.0, 25.0, 24.0, 23.0, 22.0, 21.0, 20.0, 19.0, 18.0, 17.0, 16.0, 15.0, 14.0, 13.0, 12.0, 11.0, 10.0, 9.0, 8.0, 7.0, 6.0, 5.0, 4.0, 3.0, 2.0, 1.0, -3.85260009765625, -3.853600025177002, -3.9321999549865723, -3.9323999881744385, -3.933500051498413, -4.018499851226807, -4.018499851226807, -4.018499851226807, -4.018499851226807, -4.018499851226807, -4.018799781799316, -4.019000053405762, -4.018700122833252, -4.014500141143799, -4.104800224304199, -4.104800224304199, -4.104800224304199, -4.1041998863220215, -4.11329984664917, -4.11329984664917, -4.11329984664917, -4.11329984664917, -4.11329984664917, -4.11329984664917, -4.108399868011475, -4.1118998527526855, -4.113100051879883, -4.113100051879883, -4.11329984664917, -4.11329984664917, -4.11329984664917, -4.10830020904541, -4.1097002029418945, -4.112800121307373, -4.112800121307373, -4.109600067138672, -4.110499858856201, -4.113100051879883, -4.112400054931641, -4.1128997802734375, -4.1128997802734375, -4.1128997802734375, -3.770400047302246, -3.8443000316619873, -3.8443000316619873, -4.0106000900268555, -4.010700225830078, -4.010700225830078, -4.010700225830078, -4.010700225830078, -4.010700225830078, -4.091700077056885, -4.105199813842773, -4.105199813842773, -4.105199813842773, -4.105199813842773, -4.105199813842773, -4.105199813842773, -4.100500106811523, -4.100500106811523, -4.1031999588012695, -4.1031999588012695, -4.1031999588012695, -4.104499816894531, -4.104499816894531, -4.104499816894531, -4.104499816894531, -4.104899883270264, -4.104499816894531, -4.105000019073486, -4.105100154876709, -4.105100154876709, -4.096799850463867, -4.0960001945495605, -4.096700191497803, -4.104400157928467, -4.104300022125244, -4.1041998863220215, -4.104800224304199, -4.104800224304199, -4.104700088500977, -4.104700088500977, -3.6937999725341797, -3.915600061416626, -3.915600061416626, -4.001699924468994, -4.07919979095459, -4.08050012588501, -4.08050012588501, -4.088099956512451, -4.088099956512451, -4.088099956512451, -4.095200061798096, -4.095200061798096, -4.095200061798096, -4.0954999923706055, -4.0954999923706055, -4.0954999923706055, -4.094799995422363, -4.094900131225586, -4.094900131225586, -4.094900131225586, -4.094900131225586, -4.095200061798096, -4.095300197601318, -4.095399856567383, -4.095399856567383, -4.0954999923706055, -4.095099925994873, -4.0954999923706055, -4.0954999923706055, -4.0954999923706055, -4.094699859619141, -4.093999862670898, -4.09499979019165, -4.095099925994873, -4.09499979019165, -4.09499979019165, -4.09499979019165, -4.095099925994873, -4.094900131225586, -4.095099925994873, -4.095200061798096, -3.8531999588012695, -3.853600025177002, -3.932800054550171, -3.932800054550171, -3.932800054550171, -3.9202001094818115, -3.953000068664551, -4.019199848175049, -4.019999980926514, -4.0208001136779785, -4.0208001136779785, -4.041500091552734, -4.041299819946289, -4.104700088500977, -4.113699913024902, -4.113699913024902, -4.113699913024902, -4.113699913024902, -4.113699913024902, -4.113699913024902, -4.09689998626709, -4.112500190734863, -4.112500190734863, -4.112500190734863, -4.113100051879883, -4.113100051879883, -4.113100051879883, -4.113399982452393, -4.113399982452393, -4.113399982452393, -4.113399982452393, -4.096700191497803, -4.113500118255615, -4.112800121307373, -4.11329984664917, -4.11329984664917, -4.1132001876831055, -4.11329984664917, -4.113399982452393, -3.8650999069213867, -3.9458000659942627, -4.006800174713135, -4.006800174713135, -4.006800174713135, -4.006800174713135, -4.010300159454346, -4.034999847412109, -4.034999847412109, -4.0467000007629395, -4.0467000007629395, -4.0467000007629395, -4.028900146484375, -4.07859992980957, -4.099899768829346, -4.099899768829346, -4.099899768829346, -4.099899768829346, -4.099899768829346, -4.099899768829346, -4.093999862670898, -4.098999977111816, -4.098999977111816, -4.099699974060059, -4.099899768829346, -4.099699974060059, -4.099800109863281, -4.099899768829346, -4.099899768829346, -4.099899768829346, -4.093900203704834, -4.093800067901611, -4.0995001792907715, -4.0995001792907715, -4.098899841308594, -4.0995001792907715, -4.0995001792907715, -4.099400043487549, -4.099599838256836, -4.099599838256836, -4.099599838256836, -4.099699974060059, -4.099699974060059, -3.9147000312805176, -4.000999927520752, -4.000999927520752, -4.000999927520752, -4.001200199127197, -4.001200199127197, -4.001200199127197, -4.001100063323975, -4.0665998458862305, -4.070400238037109, -4.070400238037109, -4.070400238037109, -4.084000110626221, -4.084000110626221, -4.083199977874756, -4.093100070953369, -4.095399856567383, -4.095399856567383, -4.095399856567383, -4.095399856567383, -4.095399856567383, -4.0954999923706055, -4.0954999923706055, -4.0954999923706055, -4.095399856567383, -4.0954999923706055, -4.0954999923706055, -4.0954999923706055, -4.095600128173828, -4.095600128173828, -4.083099842071533, -4.083000183105469, -4.092899799346924, -4.092700004577637, -4.095099925994873, -4.095099925994873, -4.094600200653076, -4.095099925994873, -4.09499979019165, -4.095099925994873, -4.095200061798096, -4.095200061798096, -4.095200061798096, -4.095300197601318]}, \"token.table\": {\"Topic\": [], \"Freq\": [], \"Term\": []}, \"R\": 30, \"lambda.step\": 0.01, \"plot.opts\": {\"xlab\": \"PC1\", \"ylab\": \"PC2\"}, \"topic.order\": [5, 2, 4, 1, 6, 3]};\n",
       "\n",
       "function LDAvis_load_lib(url, callback){\n",
       "  var s = document.createElement('script');\n",
       "  s.src = url;\n",
       "  s.async = true;\n",
       "  s.onreadystatechange = s.onload = callback;\n",
       "  s.onerror = function(){console.warn(\"failed to load library \" + url);};\n",
       "  document.getElementsByTagName(\"head\")[0].appendChild(s);\n",
       "}\n",
       "\n",
       "if(typeof(LDAvis) !== \"undefined\"){\n",
       "   // already loaded: just create the visualization\n",
       "   !function(LDAvis){\n",
       "       new LDAvis(\"#\" + \"ldavis_el13490140634716899872789292211\", ldavis_el13490140634716899872789292211_data);\n",
       "   }(LDAvis);\n",
       "}else if(typeof define === \"function\" && define.amd){\n",
       "   // require.js is available: use it to load d3/LDAvis\n",
       "   require.config({paths: {d3: \"https://cdnjs.cloudflare.com/ajax/libs/d3/3.5.5/d3.min\"}});\n",
       "   require([\"d3\"], function(d3){\n",
       "      window.d3 = d3;\n",
       "      LDAvis_load_lib(\"https://cdn.rawgit.com/bmabey/pyLDAvis/files/ldavis.v1.0.0.js\", function(){\n",
       "        new LDAvis(\"#\" + \"ldavis_el13490140634716899872789292211\", ldavis_el13490140634716899872789292211_data);\n",
       "      });\n",
       "    });\n",
       "}else{\n",
       "    // require.js not available: dynamically load d3 & LDAvis\n",
       "    LDAvis_load_lib(\"https://cdnjs.cloudflare.com/ajax/libs/d3/3.5.5/d3.min.js\", function(){\n",
       "         LDAvis_load_lib(\"https://cdn.rawgit.com/bmabey/pyLDAvis/files/ldavis.v1.0.0.js\", function(){\n",
       "                 new LDAvis(\"#\" + \"ldavis_el13490140634716899872789292211\", ldavis_el13490140634716899872789292211_data);\n",
       "            })\n",
       "         });\n",
       "}\n",
       "</script>"
      ],
      "text/plain": [
       "PreparedData(topic_coordinates=            Freq  cluster  topics         x         y\n",
       "topic                                                \n",
       "4      23.377256        1       1 -0.000287  0.000732\n",
       "1      18.865831        1       2 -0.000522 -0.000653\n",
       "3      17.556702        1       3 -0.000071  0.000054\n",
       "0      16.841709        1       4  0.000850 -0.000148\n",
       "5      14.169906        1       5  0.000045 -0.000018\n",
       "2       9.188601        1       6 -0.000016  0.000032, topic_info=     Category      Freq     Term     Total  loglift  logprob\n",
       "term                                                        \n",
       "6     Default  1.000000      tem  1.000000  30.0000  30.0000\n",
       "38    Default  1.000000       nã  1.000000  29.0000  29.0000\n",
       "21    Default  1.000000      bom  1.000000  28.0000  28.0000\n",
       "3     Default  1.000000    algum  1.000000  27.0000  27.0000\n",
       "4     Default  1.000000      hoj  1.000000  26.0000  26.0000\n",
       "5     Default  1.000000  promoçã  1.000000  25.0000  25.0000\n",
       "18    Default  1.000000       vs  1.000000  24.0000  24.0000\n",
       "16    Default  1.000000      hum  1.000000  23.0000  23.0000\n",
       "15    Default  1.000000   dispon  1.000000  22.0000  22.0000\n",
       "39    Default  1.000000  funcion  1.000000  21.0000  21.0000\n",
       "17    Default  1.000000      que  1.000000  20.0000  20.0000\n",
       "45    Default  1.000000     cheg  1.000000  19.0000  19.0000\n",
       "0     Default  1.000000      com  1.000000  18.0000  18.0000\n",
       "47    Default  1.000000  aparelh  1.000000  17.0000  17.0000\n",
       "56    Default  1.000000    cartã  1.000000  16.0000  16.0000\n",
       "57    Default  1.000000    vocês  1.000000  15.0000  15.0000\n",
       "55    Default  1.000000    aceit  1.000000  14.0000  14.0000\n",
       "37    Default  1.000000     minh  1.000000  13.0000  13.0000\n",
       "36    Default  1.000000     fech  1.000000  12.0000  12.0000\n",
       "35    Default  1.000000   consig  1.000000  11.0000  11.0000\n",
       "34    Default  1.000000    compr  1.000000  10.0000  10.0000\n",
       "40    Default  1.000000      sit  1.000000   9.0000   9.0000\n",
       "14    Default  1.000000   verdad  1.000000   8.0000   8.0000\n",
       "13    Default  1.000000       ah  1.000000   7.0000   7.0000\n",
       "2     Default  1.000000      bem  1.000000   6.0000   6.0000\n",
       "41    Default  1.000000   entreg  1.000000   5.0000   5.0000\n",
       "58    Default  1.000000   defeit  1.000000   4.0000   4.0000\n",
       "44    Default  1.000000      vai  1.000000   3.0000   3.0000\n",
       "42    Default  1.000000    quand  1.000000   2.0000   2.0000\n",
       "11    Default  1.000000      faz  1.000000   1.0000   1.0000\n",
       "...       ...       ...      ...       ...      ...      ...\n",
       "46     Topic6  0.147120     praz  1.591100   0.0063  -4.0832\n",
       "40     Topic6  0.145674      sit  1.588519  -0.0020  -4.0931\n",
       "34     Topic6  0.145327    compr  1.588513  -0.0044  -4.0954\n",
       "35     Topic6  0.145327   consig  1.588513  -0.0044  -4.0954\n",
       "36     Topic6  0.145327     fech  1.588513  -0.0044  -4.0954\n",
       "37     Topic6  0.145327     minh  1.588513  -0.0044  -4.0954\n",
       "1      Topic6  0.145336      voc  1.592250  -0.0066  -4.0954\n",
       "48     Topic6  0.145321     muit  1.592267  -0.0068  -4.0955\n",
       "49     Topic6  0.145321     ruim  1.592267  -0.0068  -4.0955\n",
       "43     Topic6  0.145311      ser  1.592251  -0.0068  -4.0955\n",
       "22     Topic6  0.145335      dia  1.593832  -0.0077  -4.0954\n",
       "9      Topic6  0.145311     cinc  1.595615  -0.0089  -4.0955\n",
       "10     Topic6  0.145311     dias  1.595615  -0.0089  -4.0955\n",
       "12     Topic6  0.145311      mas  1.595615  -0.0089  -4.0955\n",
       "28     Topic6  0.145311     troc  1.595616  -0.0089  -4.0956\n",
       "29     Topic6  0.145311   devolu  1.595616  -0.0089  -4.0956\n",
       "41     Topic6  0.147138   entreg  1.617250  -0.0099  -4.0831\n",
       "31     Topic6  0.147149     qual  1.627293  -0.0160  -4.0830\n",
       "39     Topic6  0.145701  funcion  1.612353  -0.0167  -4.0929\n",
       "38     Topic6  0.145733       nã  1.634753  -0.0303  -4.0927\n",
       "24     Topic6  0.145372     noit  1.621570  -0.0246  -4.0951\n",
       "23     Topic6  0.145371     tard  1.621570  -0.0247  -4.0951\n",
       "21     Topic6  0.145453      bom  1.704802  -0.0741  -4.0946\n",
       "7      Topic6  0.145375      cad  1.638375  -0.0349  -4.0951\n",
       "8      Topic6  0.145386    iphon  1.674641  -0.0568  -4.0950\n",
       "0      Topic6  0.145371      com  1.644550  -0.0387  -4.0951\n",
       "47     Topic6  0.145366  aparelh  1.642267  -0.0374  -4.0952\n",
       "45     Topic6  0.145356     cheg  1.644551  -0.0388  -4.0952\n",
       "11     Topic6  0.145355      faz  1.684187  -0.0627  -4.0952\n",
       "30     Topic6  0.145349    celul  1.674794  -0.0571  -4.0953\n",
       "\n",
       "[279 rows x 6 columns], token_table=Empty DataFrame\n",
       "Columns: [Topic, Freq, Term]\n",
       "Index: [], R=30, lambda_step=0.01, plot_opts={'xlab': 'PC1', 'ylab': 'PC2'}, topic_order=[5, 2, 4, 1, 6, 3])"
      ]
     },
     "execution_count": 21,
     "metadata": {},
     "output_type": "execute_result"
    }
   ],
   "source": [
    "import pyLDAvis.gensim\n",
    "vis = pyLDAvis.gensim.prepare(modelo_salvo, corpo, dicionario)\n",
    "pyLDAvis.enable_notebook()\n",
    "\n",
    "vis"
   ]
  },
  {
   "cell_type": "markdown",
   "metadata": {},
   "source": [
    "## Demonstrando os tópicos identificados"
   ]
  },
  {
   "cell_type": "code",
   "execution_count": 23,
   "metadata": {
    "collapsed": true
   },
   "outputs": [],
   "source": [
    "def get_topico(mensagem):\n",
    "    tokens = tokenizador(mensagem)\n",
    "    mapa = dicionario.doc2bow(tokens)\n",
    "    # modelo_salvo[mapa] irá retornar todos os tópicos possíveis e uma \n",
    "    # pontuação que informa a probabilidade de qua a mensagem pertençaàquele tópico\n",
    "    \n",
    "    # além de ordenar para obter o tópico com maior probabilidade, vamos estabelecer a seguinte regra:\n",
    "    # se a probabilidade for menor que 60%, atribuir à categoria outros (número 6, no mapa que iremos criar)\n",
    "    \n",
    "    guess = sorted(modelo_salvo[mapa][0], key=lambda y: y[1], reverse=True)[0] # retorna o tópico mais provável e sua pontuação\n",
    "\n",
    "    return 6 if guess[1] < .6 else guess[0]"
   ]
  },
  {
   "cell_type": "code",
   "execution_count": 24,
   "metadata": {},
   "outputs": [
    {
     "data": {
      "text/html": [
       "<div>\n",
       "<style scoped>\n",
       "    .dataframe tbody tr th:only-of-type {\n",
       "        vertical-align: middle;\n",
       "    }\n",
       "\n",
       "    .dataframe tbody tr th {\n",
       "        vertical-align: top;\n",
       "    }\n",
       "\n",
       "    .dataframe thead th {\n",
       "        text-align: right;\n",
       "    }\n",
       "</style>\n",
       "<table border=\"1\" class=\"dataframe\">\n",
       "  <thead>\n",
       "    <tr style=\"text-align: right;\">\n",
       "      <th></th>\n",
       "      <th>mensagens</th>\n",
       "      <th>tokens</th>\n",
       "      <th>topico</th>\n",
       "    </tr>\n",
       "  </thead>\n",
       "  <tbody>\n",
       "    <tr>\n",
       "      <th>0</th>\n",
       "      <td>Oi, como você tá?</td>\n",
       "      <td>[com, voc]</td>\n",
       "      <td>0</td>\n",
       "    </tr>\n",
       "    <tr>\n",
       "      <th>27</th>\n",
       "      <td>a tv chegou com defeito</td>\n",
       "      <td>[cheg, com, defeit]</td>\n",
       "      <td>0</td>\n",
       "    </tr>\n",
       "    <tr>\n",
       "      <th>20</th>\n",
       "      <td>quando vai chegar?</td>\n",
       "      <td>[quand, vai, cheg]</td>\n",
       "      <td>0</td>\n",
       "    </tr>\n",
       "    <tr>\n",
       "      <th>19</th>\n",
       "      <td>quando vai ser entregue?</td>\n",
       "      <td>[quand, vai, ser, entreg]</td>\n",
       "      <td>0</td>\n",
       "    </tr>\n",
       "    <tr>\n",
       "      <th>28</th>\n",
       "      <td>o aparelho chegou com defeito</td>\n",
       "      <td>[aparelh, cheg, com, defeit]</td>\n",
       "      <td>0</td>\n",
       "    </tr>\n",
       "    <tr>\n",
       "      <th>13</th>\n",
       "      <td>eu gostaria de fazer uma troca</td>\n",
       "      <td>[gost, faz, uma, troc]</td>\n",
       "      <td>1</td>\n",
       "    </tr>\n",
       "    <tr>\n",
       "      <th>12</th>\n",
       "      <td>eu gostaria de fazer uma reclamação</td>\n",
       "      <td>[gost, faz, uma, reclam]</td>\n",
       "      <td>1</td>\n",
       "    </tr>\n",
       "    <tr>\n",
       "      <th>14</th>\n",
       "      <td>eu gostaria de fazer uma devolução</td>\n",
       "      <td>[gost, faz, uma, devolu]</td>\n",
       "      <td>1</td>\n",
       "    </tr>\n",
       "    <tr>\n",
       "      <th>4</th>\n",
       "      <td>Mas já faz cinco dias</td>\n",
       "      <td>[mas, faz, cinc, dias]</td>\n",
       "      <td>1</td>\n",
       "    </tr>\n",
       "    <tr>\n",
       "      <th>22</th>\n",
       "      <td>o aparelho é muito ruim!</td>\n",
       "      <td>[aparelh, muit, ruim]</td>\n",
       "      <td>2</td>\n",
       "    </tr>\n",
       "    <tr>\n",
       "      <th>26</th>\n",
       "      <td>vocês aceitam cartão?</td>\n",
       "      <td>[vocês, aceit, cartã]</td>\n",
       "      <td>2</td>\n",
       "    </tr>\n",
       "    <tr>\n",
       "      <th>2</th>\n",
       "      <td>tem alguma promoção   hoje?</td>\n",
       "      <td>[tem, algum, promoçã, hoj]</td>\n",
       "      <td>2</td>\n",
       "    </tr>\n",
       "    <tr>\n",
       "      <th>7</th>\n",
       "      <td>Huum, o que vcs tem disponível</td>\n",
       "      <td>[hum, que, vs, tem, dispon]</td>\n",
       "      <td>2</td>\n",
       "    </tr>\n",
       "    <tr>\n",
       "      <th>24</th>\n",
       "      <td>boa noite!</td>\n",
       "      <td>[bom, noit]</td>\n",
       "      <td>3</td>\n",
       "    </tr>\n",
       "    <tr>\n",
       "      <th>9</th>\n",
       "      <td>Bom dia!</td>\n",
       "      <td>[bom, dia]</td>\n",
       "      <td>3</td>\n",
       "    </tr>\n",
       "    <tr>\n",
       "      <th>10</th>\n",
       "      <td>boa tarde!</td>\n",
       "      <td>[bom, tard]</td>\n",
       "      <td>3</td>\n",
       "    </tr>\n",
       "    <tr>\n",
       "      <th>11</th>\n",
       "      <td>boa noite!</td>\n",
       "      <td>[bom, noit]</td>\n",
       "      <td>3</td>\n",
       "    </tr>\n",
       "    <tr>\n",
       "      <th>21</th>\n",
       "      <td>qual é o prazo de entrega?</td>\n",
       "      <td>[qual, praz, entreg]</td>\n",
       "      <td>3</td>\n",
       "    </tr>\n",
       "    <tr>\n",
       "      <th>23</th>\n",
       "      <td>boa tarde!</td>\n",
       "      <td>[bom, tard]</td>\n",
       "      <td>3</td>\n",
       "    </tr>\n",
       "    <tr>\n",
       "      <th>8</th>\n",
       "      <td>O samsung é melhor que o iphone?</td>\n",
       "      <td>[samsung, melhor, que, iphon]</td>\n",
       "      <td>4</td>\n",
       "    </tr>\n",
       "    <tr>\n",
       "      <th>25</th>\n",
       "      <td>preciso de ajuda para escolher meu novo celular</td>\n",
       "      <td>[precis, ajud, par, escolh, meu, nov, celul]</td>\n",
       "      <td>4</td>\n",
       "    </tr>\n",
       "    <tr>\n",
       "      <th>15</th>\n",
       "      <td>qual é o melhor celular?</td>\n",
       "      <td>[qual, melhor, celul]</td>\n",
       "      <td>4</td>\n",
       "    </tr>\n",
       "    <tr>\n",
       "      <th>6</th>\n",
       "      <td>cade o iphone 10?</td>\n",
       "      <td>[cad, iphon]</td>\n",
       "      <td>4</td>\n",
       "    </tr>\n",
       "    <tr>\n",
       "      <th>3</th>\n",
       "      <td>Cadê o iphone?!</td>\n",
       "      <td>[cad, iphon]</td>\n",
       "      <td>4</td>\n",
       "    </tr>\n",
       "    <tr>\n",
       "      <th>16</th>\n",
       "      <td>meu celular quebrou!</td>\n",
       "      <td>[meu, celul, quebr]</td>\n",
       "      <td>4</td>\n",
       "    </tr>\n",
       "    <tr>\n",
       "      <th>18</th>\n",
       "      <td>o site não funciona!</td>\n",
       "      <td>[sit, nã, funcion]</td>\n",
       "      <td>5</td>\n",
       "    </tr>\n",
       "    <tr>\n",
       "      <th>5</th>\n",
       "      <td>Ahh é verdade xD</td>\n",
       "      <td>[ah, verdad]</td>\n",
       "      <td>5</td>\n",
       "    </tr>\n",
       "    <tr>\n",
       "      <th>17</th>\n",
       "      <td>não consigo fechar minha compra</td>\n",
       "      <td>[nã, consig, fech, minh, compr]</td>\n",
       "      <td>5</td>\n",
       "    </tr>\n",
       "    <tr>\n",
       "      <th>29</th>\n",
       "      <td>o aparelho não funciona</td>\n",
       "      <td>[aparelh, nã, funcion]</td>\n",
       "      <td>5</td>\n",
       "    </tr>\n",
       "    <tr>\n",
       "      <th>1</th>\n",
       "      <td>Eu to bemm!!!</td>\n",
       "      <td>[bem]</td>\n",
       "      <td>6</td>\n",
       "    </tr>\n",
       "  </tbody>\n",
       "</table>\n",
       "</div>"
      ],
      "text/plain": [
       "                                          mensagens  \\\n",
       "0                                 Oi, como você tá?   \n",
       "27                          a tv chegou com defeito   \n",
       "20                               quando vai chegar?   \n",
       "19                         quando vai ser entregue?   \n",
       "28                    o aparelho chegou com defeito   \n",
       "13                   eu gostaria de fazer uma troca   \n",
       "12              eu gostaria de fazer uma reclamação   \n",
       "14               eu gostaria de fazer uma devolução   \n",
       "4                             Mas já faz cinco dias   \n",
       "22                         o aparelho é muito ruim!   \n",
       "26                            vocês aceitam cartão?   \n",
       "2                       tem alguma promoção   hoje?   \n",
       "7                    Huum, o que vcs tem disponível   \n",
       "24                                       boa noite!   \n",
       "9                                          Bom dia!   \n",
       "10                                       boa tarde!   \n",
       "11                                       boa noite!   \n",
       "21                       qual é o prazo de entrega?   \n",
       "23                                       boa tarde!   \n",
       "8                  O samsung é melhor que o iphone?   \n",
       "25  preciso de ajuda para escolher meu novo celular   \n",
       "15                         qual é o melhor celular?   \n",
       "6                                 cade o iphone 10?   \n",
       "3                                   Cadê o iphone?!   \n",
       "16                             meu celular quebrou!   \n",
       "18                             o site não funciona!   \n",
       "5                                  Ahh é verdade xD   \n",
       "17                  não consigo fechar minha compra   \n",
       "29                          o aparelho não funciona   \n",
       "1                                     Eu to bemm!!!   \n",
       "\n",
       "                                          tokens  topico  \n",
       "0                                     [com, voc]       0  \n",
       "27                           [cheg, com, defeit]       0  \n",
       "20                            [quand, vai, cheg]       0  \n",
       "19                     [quand, vai, ser, entreg]       0  \n",
       "28                  [aparelh, cheg, com, defeit]       0  \n",
       "13                        [gost, faz, uma, troc]       1  \n",
       "12                      [gost, faz, uma, reclam]       1  \n",
       "14                      [gost, faz, uma, devolu]       1  \n",
       "4                         [mas, faz, cinc, dias]       1  \n",
       "22                         [aparelh, muit, ruim]       2  \n",
       "26                         [vocês, aceit, cartã]       2  \n",
       "2                     [tem, algum, promoçã, hoj]       2  \n",
       "7                    [hum, que, vs, tem, dispon]       2  \n",
       "24                                   [bom, noit]       3  \n",
       "9                                     [bom, dia]       3  \n",
       "10                                   [bom, tard]       3  \n",
       "11                                   [bom, noit]       3  \n",
       "21                          [qual, praz, entreg]       3  \n",
       "23                                   [bom, tard]       3  \n",
       "8                  [samsung, melhor, que, iphon]       4  \n",
       "25  [precis, ajud, par, escolh, meu, nov, celul]       4  \n",
       "15                         [qual, melhor, celul]       4  \n",
       "6                                   [cad, iphon]       4  \n",
       "3                                   [cad, iphon]       4  \n",
       "16                           [meu, celul, quebr]       4  \n",
       "18                            [sit, nã, funcion]       5  \n",
       "5                                   [ah, verdad]       5  \n",
       "17               [nã, consig, fech, minh, compr]       5  \n",
       "29                        [aparelh, nã, funcion]       5  \n",
       "1                                          [bem]       6  "
      ]
     },
     "execution_count": 24,
     "metadata": {},
     "output_type": "execute_result"
    }
   ],
   "source": [
    "import pandas as pd\n",
    "df = pd.DataFrame({\"mensagens\": todas_msg})\n",
    "\n",
    "df[\"tokens\"] = df.mensagens.apply(lambda x: tokenizador(x))\n",
    "\n",
    "df[\"topico\"] = df.mensagens.apply(lambda x: get_topico(x))\n",
    "\n",
    "df.sort_values(by=\"topico\")"
   ]
  },
  {
   "cell_type": "markdown",
   "metadata": {},
   "source": [
    "## Identificando os tópicos\n",
    "\n",
    "Após aplicação do modelo para identificar os agrupamentos de mensagens,\n",
    "devemos analizar manualmente uma pequena amostra de cada grupo para então rotulá-los de forma amigável.\n",
    "\n",
    "Importante notar que, caso o modelo seja treinado novamente, mas com outros parâmetros, a ordem dos rótulos atribuídos a cada grupo pode mudar, o que pode arruinar todo o restante do trabalho.\n",
    "\n",
    "Esta rotulação e verificação manual dos grupos é, portanto, de suma importância."
   ]
  },
  {
   "cell_type": "code",
   "execution_count": 25,
   "metadata": {},
   "outputs": [
    {
     "data": {
      "text/html": [
       "<div>\n",
       "<style scoped>\n",
       "    .dataframe tbody tr th:only-of-type {\n",
       "        vertical-align: middle;\n",
       "    }\n",
       "\n",
       "    .dataframe tbody tr th {\n",
       "        vertical-align: top;\n",
       "    }\n",
       "\n",
       "    .dataframe thead th {\n",
       "        text-align: right;\n",
       "    }\n",
       "</style>\n",
       "<table border=\"1\" class=\"dataframe\">\n",
       "  <thead>\n",
       "    <tr style=\"text-align: right;\">\n",
       "      <th></th>\n",
       "      <th></th>\n",
       "      <th>mensagens</th>\n",
       "      <th>tokens</th>\n",
       "      <th>topico</th>\n",
       "    </tr>\n",
       "    <tr>\n",
       "      <th>topico</th>\n",
       "      <th></th>\n",
       "      <th></th>\n",
       "      <th></th>\n",
       "      <th></th>\n",
       "    </tr>\n",
       "  </thead>\n",
       "  <tbody>\n",
       "    <tr>\n",
       "      <th rowspan=\"4\" valign=\"top\">0</th>\n",
       "      <th>28</th>\n",
       "      <td>o aparelho chegou com defeito</td>\n",
       "      <td>[aparelh, cheg, com, defeit]</td>\n",
       "      <td>0</td>\n",
       "    </tr>\n",
       "    <tr>\n",
       "      <th>20</th>\n",
       "      <td>quando vai chegar?</td>\n",
       "      <td>[quand, vai, cheg]</td>\n",
       "      <td>0</td>\n",
       "    </tr>\n",
       "    <tr>\n",
       "      <th>0</th>\n",
       "      <td>Oi, como você tá?</td>\n",
       "      <td>[com, voc]</td>\n",
       "      <td>0</td>\n",
       "    </tr>\n",
       "    <tr>\n",
       "      <th>27</th>\n",
       "      <td>a tv chegou com defeito</td>\n",
       "      <td>[cheg, com, defeit]</td>\n",
       "      <td>0</td>\n",
       "    </tr>\n",
       "    <tr>\n",
       "      <th rowspan=\"3\" valign=\"top\">1</th>\n",
       "      <th>12</th>\n",
       "      <td>eu gostaria de fazer uma reclamação</td>\n",
       "      <td>[gost, faz, uma, reclam]</td>\n",
       "      <td>1</td>\n",
       "    </tr>\n",
       "    <tr>\n",
       "      <th>13</th>\n",
       "      <td>eu gostaria de fazer uma troca</td>\n",
       "      <td>[gost, faz, uma, troc]</td>\n",
       "      <td>1</td>\n",
       "    </tr>\n",
       "    <tr>\n",
       "      <th>14</th>\n",
       "      <td>eu gostaria de fazer uma devolução</td>\n",
       "      <td>[gost, faz, uma, devolu]</td>\n",
       "      <td>1</td>\n",
       "    </tr>\n",
       "    <tr>\n",
       "      <th rowspan=\"3\" valign=\"top\">2</th>\n",
       "      <th>7</th>\n",
       "      <td>Huum, o que vcs tem disponível</td>\n",
       "      <td>[hum, que, vs, tem, dispon]</td>\n",
       "      <td>2</td>\n",
       "    </tr>\n",
       "    <tr>\n",
       "      <th>2</th>\n",
       "      <td>tem alguma promoção   hoje?</td>\n",
       "      <td>[tem, algum, promoçã, hoj]</td>\n",
       "      <td>2</td>\n",
       "    </tr>\n",
       "    <tr>\n",
       "      <th>22</th>\n",
       "      <td>o aparelho é muito ruim!</td>\n",
       "      <td>[aparelh, muit, ruim]</td>\n",
       "      <td>2</td>\n",
       "    </tr>\n",
       "    <tr>\n",
       "      <th rowspan=\"5\" valign=\"top\">3</th>\n",
       "      <th>11</th>\n",
       "      <td>boa noite!</td>\n",
       "      <td>[bom, noit]</td>\n",
       "      <td>3</td>\n",
       "    </tr>\n",
       "    <tr>\n",
       "      <th>9</th>\n",
       "      <td>Bom dia!</td>\n",
       "      <td>[bom, dia]</td>\n",
       "      <td>3</td>\n",
       "    </tr>\n",
       "    <tr>\n",
       "      <th>10</th>\n",
       "      <td>boa tarde!</td>\n",
       "      <td>[bom, tard]</td>\n",
       "      <td>3</td>\n",
       "    </tr>\n",
       "    <tr>\n",
       "      <th>21</th>\n",
       "      <td>qual é o prazo de entrega?</td>\n",
       "      <td>[qual, praz, entreg]</td>\n",
       "      <td>3</td>\n",
       "    </tr>\n",
       "    <tr>\n",
       "      <th>23</th>\n",
       "      <td>boa tarde!</td>\n",
       "      <td>[bom, tard]</td>\n",
       "      <td>3</td>\n",
       "    </tr>\n",
       "    <tr>\n",
       "      <th rowspan=\"5\" valign=\"top\">4</th>\n",
       "      <th>15</th>\n",
       "      <td>qual é o melhor celular?</td>\n",
       "      <td>[qual, melhor, celul]</td>\n",
       "      <td>4</td>\n",
       "    </tr>\n",
       "    <tr>\n",
       "      <th>8</th>\n",
       "      <td>O samsung é melhor que o iphone?</td>\n",
       "      <td>[samsung, melhor, que, iphon]</td>\n",
       "      <td>4</td>\n",
       "    </tr>\n",
       "    <tr>\n",
       "      <th>3</th>\n",
       "      <td>Cadê o iphone?!</td>\n",
       "      <td>[cad, iphon]</td>\n",
       "      <td>4</td>\n",
       "    </tr>\n",
       "    <tr>\n",
       "      <th>25</th>\n",
       "      <td>preciso de ajuda para escolher meu novo celular</td>\n",
       "      <td>[precis, ajud, par, escolh, meu, nov, celul]</td>\n",
       "      <td>4</td>\n",
       "    </tr>\n",
       "    <tr>\n",
       "      <th>16</th>\n",
       "      <td>meu celular quebrou!</td>\n",
       "      <td>[meu, celul, quebr]</td>\n",
       "      <td>4</td>\n",
       "    </tr>\n",
       "    <tr>\n",
       "      <th rowspan=\"3\" valign=\"top\">5</th>\n",
       "      <th>29</th>\n",
       "      <td>o aparelho não funciona</td>\n",
       "      <td>[aparelh, nã, funcion]</td>\n",
       "      <td>5</td>\n",
       "    </tr>\n",
       "    <tr>\n",
       "      <th>5</th>\n",
       "      <td>Ahh é verdade xD</td>\n",
       "      <td>[ah, verdad]</td>\n",
       "      <td>5</td>\n",
       "    </tr>\n",
       "    <tr>\n",
       "      <th>18</th>\n",
       "      <td>o site não funciona!</td>\n",
       "      <td>[sit, nã, funcion]</td>\n",
       "      <td>5</td>\n",
       "    </tr>\n",
       "    <tr>\n",
       "      <th>6</th>\n",
       "      <th>1</th>\n",
       "      <td>Eu to bemm!!!</td>\n",
       "      <td>[bem]</td>\n",
       "      <td>6</td>\n",
       "    </tr>\n",
       "  </tbody>\n",
       "</table>\n",
       "</div>"
      ],
      "text/plain": [
       "                                                 mensagens  \\\n",
       "topico                                                       \n",
       "0      28                    o aparelho chegou com defeito   \n",
       "       20                               quando vai chegar?   \n",
       "       0                                 Oi, como você tá?   \n",
       "       27                          a tv chegou com defeito   \n",
       "1      12              eu gostaria de fazer uma reclamação   \n",
       "       13                   eu gostaria de fazer uma troca   \n",
       "       14               eu gostaria de fazer uma devolução   \n",
       "2      7                    Huum, o que vcs tem disponível   \n",
       "       2                       tem alguma promoção   hoje?   \n",
       "       22                         o aparelho é muito ruim!   \n",
       "3      11                                       boa noite!   \n",
       "       9                                          Bom dia!   \n",
       "       10                                       boa tarde!   \n",
       "       21                       qual é o prazo de entrega?   \n",
       "       23                                       boa tarde!   \n",
       "4      15                         qual é o melhor celular?   \n",
       "       8                  O samsung é melhor que o iphone?   \n",
       "       3                                   Cadê o iphone?!   \n",
       "       25  preciso de ajuda para escolher meu novo celular   \n",
       "       16                             meu celular quebrou!   \n",
       "5      29                          o aparelho não funciona   \n",
       "       5                                  Ahh é verdade xD   \n",
       "       18                             o site não funciona!   \n",
       "6      1                                     Eu to bemm!!!   \n",
       "\n",
       "                                                 tokens  topico  \n",
       "topico                                                           \n",
       "0      28                  [aparelh, cheg, com, defeit]       0  \n",
       "       20                            [quand, vai, cheg]       0  \n",
       "       0                                     [com, voc]       0  \n",
       "       27                           [cheg, com, defeit]       0  \n",
       "1      12                      [gost, faz, uma, reclam]       1  \n",
       "       13                        [gost, faz, uma, troc]       1  \n",
       "       14                      [gost, faz, uma, devolu]       1  \n",
       "2      7                    [hum, que, vs, tem, dispon]       2  \n",
       "       2                     [tem, algum, promoçã, hoj]       2  \n",
       "       22                         [aparelh, muit, ruim]       2  \n",
       "3      11                                   [bom, noit]       3  \n",
       "       9                                     [bom, dia]       3  \n",
       "       10                                   [bom, tard]       3  \n",
       "       21                          [qual, praz, entreg]       3  \n",
       "       23                                   [bom, tard]       3  \n",
       "4      15                         [qual, melhor, celul]       4  \n",
       "       8                  [samsung, melhor, que, iphon]       4  \n",
       "       3                                   [cad, iphon]       4  \n",
       "       25  [precis, ajud, par, escolh, meu, nov, celul]       4  \n",
       "       16                           [meu, celul, quebr]       4  \n",
       "5      29                        [aparelh, nã, funcion]       5  \n",
       "       5                                   [ah, verdad]       5  \n",
       "       18                            [sit, nã, funcion]       5  \n",
       "6      1                                          [bem]       6  "
      ]
     },
     "execution_count": 25,
     "metadata": {},
     "output_type": "execute_result"
    }
   ],
   "source": [
    "# vizualisando uma fração das mensagens de cada grupo, para ajudar a definir o título de cada tópico\n",
    "# foi usado 80% porque nosso db é muuuuito pequeno\n",
    "\n",
    "df.groupby('topico').apply(lambda x: x.sample(frac=.8))"
   ]
  },
  {
   "cell_type": "code",
   "execution_count": 26,
   "metadata": {},
   "outputs": [
    {
     "data": {
      "text/plain": [
       "{0: 'entrega',\n",
       " 1: 'solicitação',\n",
       " 2: 'indicação',\n",
       " 3: 'saudação',\n",
       " 4: 'comparacao',\n",
       " 5: 'problema',\n",
       " 6: 'outros'}"
      ]
     },
     "execution_count": 26,
     "metadata": {},
     "output_type": "execute_result"
    }
   ],
   "source": [
    "# um dicionário de tópicos\n",
    "rotulos = [\"entrega\", \"solicitação\", \"indicação\", \"saudação\", \"comparacao\", \"problema\", \"outros\"]\n",
    "rotulos = dict(zip(range(7), rotulos))\n",
    "rotulos"
   ]
  },
  {
   "cell_type": "code",
   "execution_count": 27,
   "metadata": {},
   "outputs": [
    {
     "data": {
      "text/html": [
       "<div>\n",
       "<style scoped>\n",
       "    .dataframe tbody tr th:only-of-type {\n",
       "        vertical-align: middle;\n",
       "    }\n",
       "\n",
       "    .dataframe tbody tr th {\n",
       "        vertical-align: top;\n",
       "    }\n",
       "\n",
       "    .dataframe thead th {\n",
       "        text-align: right;\n",
       "    }\n",
       "</style>\n",
       "<table border=\"1\" class=\"dataframe\">\n",
       "  <thead>\n",
       "    <tr style=\"text-align: right;\">\n",
       "      <th></th>\n",
       "      <th>mensagens</th>\n",
       "      <th>tokens</th>\n",
       "      <th>topico</th>\n",
       "      <th>rotulo</th>\n",
       "    </tr>\n",
       "  </thead>\n",
       "  <tbody>\n",
       "    <tr>\n",
       "      <th>0</th>\n",
       "      <td>Oi, como você tá?</td>\n",
       "      <td>[com, voc]</td>\n",
       "      <td>0</td>\n",
       "      <td>entrega</td>\n",
       "    </tr>\n",
       "    <tr>\n",
       "      <th>1</th>\n",
       "      <td>Eu to bemm!!!</td>\n",
       "      <td>[bem]</td>\n",
       "      <td>6</td>\n",
       "      <td>outros</td>\n",
       "    </tr>\n",
       "    <tr>\n",
       "      <th>2</th>\n",
       "      <td>tem alguma promoção   hoje?</td>\n",
       "      <td>[tem, algum, promoçã, hoj]</td>\n",
       "      <td>2</td>\n",
       "      <td>indicação</td>\n",
       "    </tr>\n",
       "    <tr>\n",
       "      <th>3</th>\n",
       "      <td>Cadê o iphone?!</td>\n",
       "      <td>[cad, iphon]</td>\n",
       "      <td>4</td>\n",
       "      <td>comparacao</td>\n",
       "    </tr>\n",
       "    <tr>\n",
       "      <th>4</th>\n",
       "      <td>Mas já faz cinco dias</td>\n",
       "      <td>[mas, faz, cinc, dias]</td>\n",
       "      <td>1</td>\n",
       "      <td>solicitação</td>\n",
       "    </tr>\n",
       "    <tr>\n",
       "      <th>5</th>\n",
       "      <td>Ahh é verdade xD</td>\n",
       "      <td>[ah, verdad]</td>\n",
       "      <td>5</td>\n",
       "      <td>problema</td>\n",
       "    </tr>\n",
       "    <tr>\n",
       "      <th>6</th>\n",
       "      <td>cade o iphone 10?</td>\n",
       "      <td>[cad, iphon]</td>\n",
       "      <td>4</td>\n",
       "      <td>comparacao</td>\n",
       "    </tr>\n",
       "    <tr>\n",
       "      <th>7</th>\n",
       "      <td>Huum, o que vcs tem disponível</td>\n",
       "      <td>[hum, que, vs, tem, dispon]</td>\n",
       "      <td>2</td>\n",
       "      <td>indicação</td>\n",
       "    </tr>\n",
       "    <tr>\n",
       "      <th>8</th>\n",
       "      <td>O samsung é melhor que o iphone?</td>\n",
       "      <td>[samsung, melhor, que, iphon]</td>\n",
       "      <td>4</td>\n",
       "      <td>comparacao</td>\n",
       "    </tr>\n",
       "    <tr>\n",
       "      <th>9</th>\n",
       "      <td>Bom dia!</td>\n",
       "      <td>[bom, dia]</td>\n",
       "      <td>3</td>\n",
       "      <td>saudação</td>\n",
       "    </tr>\n",
       "    <tr>\n",
       "      <th>10</th>\n",
       "      <td>boa tarde!</td>\n",
       "      <td>[bom, tard]</td>\n",
       "      <td>3</td>\n",
       "      <td>saudação</td>\n",
       "    </tr>\n",
       "    <tr>\n",
       "      <th>11</th>\n",
       "      <td>boa noite!</td>\n",
       "      <td>[bom, noit]</td>\n",
       "      <td>3</td>\n",
       "      <td>saudação</td>\n",
       "    </tr>\n",
       "    <tr>\n",
       "      <th>12</th>\n",
       "      <td>eu gostaria de fazer uma reclamação</td>\n",
       "      <td>[gost, faz, uma, reclam]</td>\n",
       "      <td>1</td>\n",
       "      <td>solicitação</td>\n",
       "    </tr>\n",
       "    <tr>\n",
       "      <th>13</th>\n",
       "      <td>eu gostaria de fazer uma troca</td>\n",
       "      <td>[gost, faz, uma, troc]</td>\n",
       "      <td>1</td>\n",
       "      <td>solicitação</td>\n",
       "    </tr>\n",
       "    <tr>\n",
       "      <th>14</th>\n",
       "      <td>eu gostaria de fazer uma devolução</td>\n",
       "      <td>[gost, faz, uma, devolu]</td>\n",
       "      <td>1</td>\n",
       "      <td>solicitação</td>\n",
       "    </tr>\n",
       "    <tr>\n",
       "      <th>15</th>\n",
       "      <td>qual é o melhor celular?</td>\n",
       "      <td>[qual, melhor, celul]</td>\n",
       "      <td>4</td>\n",
       "      <td>comparacao</td>\n",
       "    </tr>\n",
       "    <tr>\n",
       "      <th>16</th>\n",
       "      <td>meu celular quebrou!</td>\n",
       "      <td>[meu, celul, quebr]</td>\n",
       "      <td>4</td>\n",
       "      <td>comparacao</td>\n",
       "    </tr>\n",
       "    <tr>\n",
       "      <th>17</th>\n",
       "      <td>não consigo fechar minha compra</td>\n",
       "      <td>[nã, consig, fech, minh, compr]</td>\n",
       "      <td>5</td>\n",
       "      <td>problema</td>\n",
       "    </tr>\n",
       "    <tr>\n",
       "      <th>18</th>\n",
       "      <td>o site não funciona!</td>\n",
       "      <td>[sit, nã, funcion]</td>\n",
       "      <td>5</td>\n",
       "      <td>problema</td>\n",
       "    </tr>\n",
       "    <tr>\n",
       "      <th>19</th>\n",
       "      <td>quando vai ser entregue?</td>\n",
       "      <td>[quand, vai, ser, entreg]</td>\n",
       "      <td>0</td>\n",
       "      <td>entrega</td>\n",
       "    </tr>\n",
       "    <tr>\n",
       "      <th>20</th>\n",
       "      <td>quando vai chegar?</td>\n",
       "      <td>[quand, vai, cheg]</td>\n",
       "      <td>0</td>\n",
       "      <td>entrega</td>\n",
       "    </tr>\n",
       "    <tr>\n",
       "      <th>21</th>\n",
       "      <td>qual é o prazo de entrega?</td>\n",
       "      <td>[qual, praz, entreg]</td>\n",
       "      <td>3</td>\n",
       "      <td>saudação</td>\n",
       "    </tr>\n",
       "    <tr>\n",
       "      <th>22</th>\n",
       "      <td>o aparelho é muito ruim!</td>\n",
       "      <td>[aparelh, muit, ruim]</td>\n",
       "      <td>2</td>\n",
       "      <td>indicação</td>\n",
       "    </tr>\n",
       "    <tr>\n",
       "      <th>23</th>\n",
       "      <td>boa tarde!</td>\n",
       "      <td>[bom, tard]</td>\n",
       "      <td>3</td>\n",
       "      <td>saudação</td>\n",
       "    </tr>\n",
       "    <tr>\n",
       "      <th>24</th>\n",
       "      <td>boa noite!</td>\n",
       "      <td>[bom, noit]</td>\n",
       "      <td>3</td>\n",
       "      <td>saudação</td>\n",
       "    </tr>\n",
       "    <tr>\n",
       "      <th>25</th>\n",
       "      <td>preciso de ajuda para escolher meu novo celular</td>\n",
       "      <td>[precis, ajud, par, escolh, meu, nov, celul]</td>\n",
       "      <td>4</td>\n",
       "      <td>comparacao</td>\n",
       "    </tr>\n",
       "    <tr>\n",
       "      <th>26</th>\n",
       "      <td>vocês aceitam cartão?</td>\n",
       "      <td>[vocês, aceit, cartã]</td>\n",
       "      <td>2</td>\n",
       "      <td>indicação</td>\n",
       "    </tr>\n",
       "    <tr>\n",
       "      <th>27</th>\n",
       "      <td>a tv chegou com defeito</td>\n",
       "      <td>[cheg, com, defeit]</td>\n",
       "      <td>0</td>\n",
       "      <td>entrega</td>\n",
       "    </tr>\n",
       "    <tr>\n",
       "      <th>28</th>\n",
       "      <td>o aparelho chegou com defeito</td>\n",
       "      <td>[aparelh, cheg, com, defeit]</td>\n",
       "      <td>0</td>\n",
       "      <td>entrega</td>\n",
       "    </tr>\n",
       "    <tr>\n",
       "      <th>29</th>\n",
       "      <td>o aparelho não funciona</td>\n",
       "      <td>[aparelh, nã, funcion]</td>\n",
       "      <td>5</td>\n",
       "      <td>problema</td>\n",
       "    </tr>\n",
       "  </tbody>\n",
       "</table>\n",
       "</div>"
      ],
      "text/plain": [
       "                                          mensagens  \\\n",
       "0                                 Oi, como você tá?   \n",
       "1                                     Eu to bemm!!!   \n",
       "2                       tem alguma promoção   hoje?   \n",
       "3                                   Cadê o iphone?!   \n",
       "4                             Mas já faz cinco dias   \n",
       "5                                  Ahh é verdade xD   \n",
       "6                                 cade o iphone 10?   \n",
       "7                    Huum, o que vcs tem disponível   \n",
       "8                  O samsung é melhor que o iphone?   \n",
       "9                                          Bom dia!   \n",
       "10                                       boa tarde!   \n",
       "11                                       boa noite!   \n",
       "12              eu gostaria de fazer uma reclamação   \n",
       "13                   eu gostaria de fazer uma troca   \n",
       "14               eu gostaria de fazer uma devolução   \n",
       "15                         qual é o melhor celular?   \n",
       "16                             meu celular quebrou!   \n",
       "17                  não consigo fechar minha compra   \n",
       "18                             o site não funciona!   \n",
       "19                         quando vai ser entregue?   \n",
       "20                               quando vai chegar?   \n",
       "21                       qual é o prazo de entrega?   \n",
       "22                         o aparelho é muito ruim!   \n",
       "23                                       boa tarde!   \n",
       "24                                       boa noite!   \n",
       "25  preciso de ajuda para escolher meu novo celular   \n",
       "26                            vocês aceitam cartão?   \n",
       "27                          a tv chegou com defeito   \n",
       "28                    o aparelho chegou com defeito   \n",
       "29                          o aparelho não funciona   \n",
       "\n",
       "                                          tokens  topico       rotulo  \n",
       "0                                     [com, voc]       0      entrega  \n",
       "1                                          [bem]       6       outros  \n",
       "2                     [tem, algum, promoçã, hoj]       2    indicação  \n",
       "3                                   [cad, iphon]       4   comparacao  \n",
       "4                         [mas, faz, cinc, dias]       1  solicitação  \n",
       "5                                   [ah, verdad]       5     problema  \n",
       "6                                   [cad, iphon]       4   comparacao  \n",
       "7                    [hum, que, vs, tem, dispon]       2    indicação  \n",
       "8                  [samsung, melhor, que, iphon]       4   comparacao  \n",
       "9                                     [bom, dia]       3     saudação  \n",
       "10                                   [bom, tard]       3     saudação  \n",
       "11                                   [bom, noit]       3     saudação  \n",
       "12                      [gost, faz, uma, reclam]       1  solicitação  \n",
       "13                        [gost, faz, uma, troc]       1  solicitação  \n",
       "14                      [gost, faz, uma, devolu]       1  solicitação  \n",
       "15                         [qual, melhor, celul]       4   comparacao  \n",
       "16                           [meu, celul, quebr]       4   comparacao  \n",
       "17               [nã, consig, fech, minh, compr]       5     problema  \n",
       "18                            [sit, nã, funcion]       5     problema  \n",
       "19                     [quand, vai, ser, entreg]       0      entrega  \n",
       "20                            [quand, vai, cheg]       0      entrega  \n",
       "21                          [qual, praz, entreg]       3     saudação  \n",
       "22                         [aparelh, muit, ruim]       2    indicação  \n",
       "23                                   [bom, tard]       3     saudação  \n",
       "24                                   [bom, noit]       3     saudação  \n",
       "25  [precis, ajud, par, escolh, meu, nov, celul]       4   comparacao  \n",
       "26                         [vocês, aceit, cartã]       2    indicação  \n",
       "27                           [cheg, com, defeit]       0      entrega  \n",
       "28                  [aparelh, cheg, com, defeit]       0      entrega  \n",
       "29                        [aparelh, nã, funcion]       5     problema  "
      ]
     },
     "execution_count": 27,
     "metadata": {},
     "output_type": "execute_result"
    }
   ],
   "source": [
    "df[\"rotulo\"] = df.topico.replace(rotulos)\n",
    "df"
   ]
  },
  {
   "cell_type": "markdown",
   "metadata": {},
   "source": [
    "## Aplicando o modelo para novas mensagens"
   ]
  },
  {
   "cell_type": "code",
   "execution_count": 28,
   "metadata": {},
   "outputs": [
    {
     "data": {
      "text/plain": [
       "'entrega'"
      ]
     },
     "execution_count": 28,
     "metadata": {},
     "output_type": "execute_result"
    }
   ],
   "source": [
    "mensagem = \"qundo vai chegar?\"\n",
    "rotulos[get_topico(mensagem)]"
   ]
  },
  {
   "cell_type": "code",
   "execution_count": 29,
   "metadata": {},
   "outputs": [
    {
     "data": {
      "text/plain": [
       "'outros'"
      ]
     },
     "execution_count": 29,
     "metadata": {},
     "output_type": "execute_result"
    }
   ],
   "source": [
    "mensagem = \"ah!\"\n",
    "rotulos[get_topico(mensagem)]"
   ]
  },
  {
   "cell_type": "markdown",
   "metadata": {},
   "source": [
    " # Detecção de palavras-chave\n",
    " \n",
    " As palavras-chave, associadas à informação obtida na modelagem de tópicos, ajudará a construir uma resposta mais útil.\n",
    " \n",
    " ## Número de pedido\n",
    " "
   ]
  },
  {
   "cell_type": "code",
   "execution_count": 30,
   "metadata": {},
   "outputs": [
    {
     "data": {
      "text/plain": [
       "['1234567890']"
      ]
     },
     "execution_count": 30,
     "metadata": {},
     "output_type": "execute_result"
    }
   ],
   "source": [
    "def get_pedido(msg):\n",
    "    tokens = re.findall(\"[0-9]+\", msg)\n",
    "    pedido = [token for token in tokens if len(token)==10] # o número de pedido contém 10 números\n",
    "    \n",
    "    return pedido\n",
    "    \n",
    "get_pedido(\"comprei 10 iphone, o pedido é 1234567890\")"
   ]
  },
  {
   "cell_type": "markdown",
   "metadata": {},
   "source": [
    "## Tipo de aparelho (ou objeto de interesse do cliente)"
   ]
  },
  {
   "cell_type": "code",
   "execution_count": 31,
   "metadata": {},
   "outputs": [
    {
     "data": {
      "text/plain": [
       "['tv', 'celular']"
      ]
     },
     "execution_count": 31,
     "metadata": {},
     "output_type": "execute_result"
    }
   ],
   "source": [
    "def get_aparelho(msg):\n",
    "    tokens = tokenizador(msg, tamanho=1, stem=0, corrige=0)\n",
    "    \n",
    "    # uma lista de objetos de interesse do cliente - alimentar com os produtos vendidos\n",
    "    # podemos utilizar NLP POS - parts of speech para reconhecer o objeto, mas aqui acabou o tempo =D\n",
    "    \n",
    "    possibilidades = [\"tv\", \"celular\", \"televisão\", \"microondas\", \"site\", \"geladeira\", \"pneu\", \"roupa\"] \n",
    "    \n",
    "    aparelho = [token for token in tokens if token in possibilidades]\n",
    "    return aparelho\n",
    "    \n",
    "\n",
    "get_aparelho(\"preciso de indicação para tv e celular!\")\n",
    "#get_aparelho(\"preciso de indicação para tv\")"
   ]
  },
  {
   "cell_type": "markdown",
   "metadata": {},
   "source": [
    "# Preparando a resposta\n",
    "\n",
    "A resposta ao usuário deverá ser composta de acordo com:\n",
    "\n",
    "- o tópico escolhido - cada tópico terá uma função auxiliar\n",
    "- palavras-chave detectadas\n",
    "\n",
    "Serão utilizadas as funções auxiliares:\n",
    "- get_topico() - ok\n",
    "- get_aparelho() - ok\n",
    "- get_pedido() - ok\n",
    "- status_pedido()\n",
    "- faz_cumprimento() \n",
    "- nao_entendeu()\n"
   ]
  },
  {
   "cell_type": "code",
   "execution_count": 32,
   "metadata": {},
   "outputs": [
    {
     "data": {
      "text/plain": [
       "'Boa tarde, caro cliente!'"
      ]
     },
     "execution_count": 32,
     "metadata": {},
     "output_type": "execute_result"
    }
   ],
   "source": [
    "import datetime\n",
    "\n",
    "def faz_cumprimento(tipo=\"cumprimenta\"):\n",
    "    agora = datetime.datetime.now()\n",
    "    hora = agora.hour\n",
    "    \n",
    "    if tipo == \"cumprimenta\":\n",
    "        saudacao = \"Boa noite\"\n",
    "        if hora in range(12,19):\n",
    "            saudacao = \"Boa tarde\"\n",
    "        if hora in range(6,13):\n",
    "            saudacao = \"Boa bom dia\"\n",
    "        \n",
    "        mensagem = saudacao + \", caro cliente!\"\n",
    "            \n",
    "    else:\n",
    "        mensagem = \"São {} horas\".format(hora)\n",
    "        \n",
    "    return mensagem\n",
    "        \n",
    "faz_cumprimento()"
   ]
  },
  {
   "cell_type": "code",
   "execution_count": 33,
   "metadata": {},
   "outputs": [
    {
     "data": {
      "text/plain": [
       "'São 15 horas'"
      ]
     },
     "execution_count": 33,
     "metadata": {},
     "output_type": "execute_result"
    }
   ],
   "source": [
    "faz_cumprimento(\"hora\")"
   ]
  },
  {
   "cell_type": "code",
   "execution_count": 34,
   "metadata": {},
   "outputs": [
    {
     "data": {
      "text/plain": [
       "' Status do pedido 128312983, de acordo com o db: status'"
      ]
     },
     "execution_count": 34,
     "metadata": {},
     "output_type": "execute_result"
    }
   ],
   "source": [
    "def status_pedido(numero):\n",
    "    # query sql ou afim para buscar no sistema informações sobre o andamento do pedido\n",
    "    # %%sql\n",
    "    # select pedido, andamento, data\n",
    "    # from pedidos\n",
    "    # where pedido = numero\n",
    "    # order by data\n",
    "    \n",
    "    return(\" Status do pedido {}, de acordo com o db: status\".format(numero))\n",
    "\n",
    "status_pedido(128312983)"
   ]
  },
  {
   "cell_type": "code",
   "execution_count": 35,
   "metadata": {
    "collapsed": true
   },
   "outputs": [],
   "source": [
    "contador_erros = 0"
   ]
  },
  {
   "cell_type": "code",
   "execution_count": 36,
   "metadata": {},
   "outputs": [
    {
     "data": {
      "text/plain": [
       "'Boa tarde, caro cliente! São 15 horas e está tudo bem aqui na Terra! Em que podemos ajudá-lo?'"
      ]
     },
     "execution_count": 36,
     "metadata": {},
     "output_type": "execute_result"
    }
   ],
   "source": [
    "def nao_entendeu():\n",
    "    global contador_erros\n",
    "    mensagens = [\"está tudo bem aqui na Terra! Em que podemos ajudá-lo?\",\n",
    "                \"Por favor seja mais específico...\",\n",
    "                \"Eu sou apenas um robô cansado. Repita, devagar...\",\n",
    "                \"isso é uma pegadinha?\"\n",
    "                ]\n",
    "    \n",
    "    if not contador_erros:\n",
    "        mensagem = \"{} {} e {}\".format(faz_cumprimento(), faz_cumprimento(\"hora\"), mensagens[0])\n",
    "    else:\n",
    "        mensagem = mensagens[contador_erros]\n",
    "    \n",
    "    contador_erros += 1\n",
    "    if contador_erros == 4:\n",
    "        contador_erros = 1\n",
    "    \n",
    "    return mensagem\n",
    "\n",
    "nao_entendeu()\n"
   ]
  },
  {
   "cell_type": "code",
   "execution_count": 37,
   "metadata": {},
   "outputs": [
    {
     "data": {
      "text/plain": [
       "'Por favor seja mais específico...'"
      ]
     },
     "execution_count": 37,
     "metadata": {},
     "output_type": "execute_result"
    }
   ],
   "source": [
    "nao_entendeu() # cada vez retorna uma resposta diferente"
   ]
  },
  {
   "cell_type": "code",
   "execution_count": 38,
   "metadata": {},
   "outputs": [
    {
     "data": {
      "text/plain": [
       "{0: 'entrega',\n",
       " 1: 'solicitação',\n",
       " 2: 'indicação',\n",
       " 3: 'saudação',\n",
       " 4: 'comparacao',\n",
       " 5: 'problema',\n",
       " 6: 'outros'}"
      ]
     },
     "execution_count": 38,
     "metadata": {},
     "output_type": "execute_result"
    }
   ],
   "source": [
    "rotulos # para guiar a contrução das respostas"
   ]
  },
  {
   "cell_type": "code",
   "execution_count": null,
   "metadata": {
    "collapsed": true
   },
   "outputs": [],
   "source": [
    "Vamos agora criar um dicionário contendo respostas para cada classe (tópico) de mensagem. \n",
    "A reposta 0 da classe assume que o cliente não informou palavras-chave. Por outro lado, a resposta 1 assume que sim:"
   ]
  },
  {
   "cell_type": "code",
   "execution_count": 39,
   "metadata": {},
   "outputs": [
    {
     "data": {
      "text/plain": [
       "'Boa tarde, caro cliente!'"
      ]
     },
     "execution_count": 39,
     "metadata": {},
     "output_type": "execute_result"
    }
   ],
   "source": [
    "m_entrega = [\"Nosso prazo é de 5 dias úteis. Por favor informe o número do pedido que eu vou buscar mais detalhes\",\n",
    "             \"Nosso prazo é de 5 dias úteis. Vamos checar o status do pedido {}.\"]\n",
    "\n",
    "m_solicitacao = [\"Pois não, vamos por partes. Qual é o número do pedido?\",\n",
    "                 \"Ok. Vamos checar o status do pedido {}.\"]\n",
    "\n",
    "m_indicacao = [\"Você quer indicação para qual tipo de aparelho?\",\n",
    "               \"Aqui estão as melhores ofertas para {}.\"]\n",
    "\n",
    "m_comparacao = [\"Nós podemos ajudar a escolher. Qual tipo de aparelho você está procurando?\",\n",
    "                \"Estas são as melhores opções para {}.\"]\n",
    "\n",
    "m_problema = [\"Calma, tudo tem jeito! O que está acontecendo?\",\n",
    "              \"Calma, vamos resolver esse problema com {} da melhor forma possível.\"]\n",
    "\n",
    "todas_repostas = {\n",
    "    0: m_entrega,\n",
    "    1: m_solicitacao,\n",
    "    2: m_indicacao,\n",
    "    3: faz_cumprimento(),\n",
    "    4: m_comparacao,\n",
    "    5: m_problema,\n",
    "    6: nao_entendeu()\n",
    "}\n",
    "\n",
    "todas_repostas[3]"
   ]
  },
  {
   "cell_type": "markdown",
   "metadata": {},
   "source": [
    "## Respondendo ao cliente\n",
    "\n",
    "Agora que temos todas as funções auxiliares definidas, podemos montar nossa resposta ao cliente:"
   ]
  },
  {
   "cell_type": "code",
   "execution_count": 40,
   "metadata": {
    "collapsed": true
   },
   "outputs": [],
   "source": [
    "def sub_resp(var, topico): # ok, mais uma auxiliar, para acelerar o \"coding\" da main\n",
    "    if var:\n",
    "        if var[0].isdigit():\n",
    "            resposta = todas_repostas[topico][1].format(var[0]) + status_pedido(var[0])\n",
    "        else:\n",
    "            resposta = todas_repostas[topico][1].format(var[0])\n",
    "    else:\n",
    "        resposta = todas_repostas[topico][0]\n",
    "            \n",
    "    return resposta\n",
    "\n",
    "def responde_cliente(mensagem): # agora sim\n",
    "\n",
    "    topico = get_topico(mensagem)\n",
    "    n_pedido = get_pedido(mensagem)\n",
    "    aparelho = get_aparelho(mensagem)\n",
    "    \n",
    "    if topico in [0,1]:\n",
    "        return sub_resp(n_pedido, topico)\n",
    "    \n",
    "    if topico in [2,4,5]:\n",
    "        return sub_resp(aparelho, topico)\n",
    "    \n",
    "    if topico == 3:\n",
    "        return todas_repostas[topico]\n",
    "    else:\n",
    "        return todas_repostas[topico]\n",
    "    \n",
    "contador_erros = 0"
   ]
  },
  {
   "cell_type": "code",
   "execution_count": 41,
   "metadata": {
    "collapsed": true
   },
   "outputs": [],
   "source": [
    "mensagem = \"tem promoção de tv ou celular hoje?\""
   ]
  },
  {
   "cell_type": "code",
   "execution_count": 42,
   "metadata": {},
   "outputs": [
    {
     "data": {
      "text/plain": [
       "'Aqui estão as melhores ofertas para tv.'"
      ]
     },
     "execution_count": 42,
     "metadata": {},
     "output_type": "execute_result"
    }
   ],
   "source": [
    "responde_cliente(mensagem)"
   ]
  },
  {
   "cell_type": "code",
   "execution_count": 43,
   "metadata": {},
   "outputs": [
    {
     "data": {
      "text/plain": [
       "'Boa tarde, caro cliente!'"
      ]
     },
     "execution_count": 43,
     "metadata": {},
     "output_type": "execute_result"
    }
   ],
   "source": [
    "responde_cliente(\"bom dia!\")"
   ]
  },
  {
   "cell_type": "code",
   "execution_count": 44,
   "metadata": {},
   "outputs": [
    {
     "data": {
      "text/plain": [
       "'Eu sou apenas um robô cansado. Repita, devagar...'"
      ]
     },
     "execution_count": 44,
     "metadata": {},
     "output_type": "execute_result"
    }
   ],
   "source": [
    "responde_cliente(\"whacka whacka whacka!\")"
   ]
  },
  {
   "cell_type": "code",
   "execution_count": 45,
   "metadata": {},
   "outputs": [
    {
     "data": {
      "text/plain": [
       "'Calma, vamos resolver esse problema com site da melhor forma possível.'"
      ]
     },
     "execution_count": 45,
     "metadata": {},
     "output_type": "execute_result"
    }
   ],
   "source": [
    "responde_cliente(\"o site tá ruim\")"
   ]
  },
  {
   "cell_type": "code",
   "execution_count": 46,
   "metadata": {},
   "outputs": [
    {
     "data": {
      "text/plain": [
       "'Nosso prazo é de 5 dias úteis. Vamos checar o status do pedido 1234567890. Status do pedido 1234567890, de acordo com o db: status'"
      ]
     },
     "execution_count": 46,
     "metadata": {},
     "output_type": "execute_result"
    }
   ],
   "source": [
    "responde_cliente(\"quando chega o pedido 1234567890\")"
   ]
  },
  {
   "cell_type": "markdown",
   "metadata": {},
   "source": [
    "# Escalabilidade\n",
    "\n",
    "A fim de otimizar o tempo de computação, o pacote *gensim* fornece algumas formas alternativas para treinamento do modelo LDA.\n",
    "\n",
    "Entre as opções estão: \n",
    "\n",
    "- montar um cluster de computadores e processar o trabalho neste cluster de forma distribuída;\n",
    "- em vez de realizar 100 ou n \"passadas\" por todas as mensagens, no modo batch, podemos utilizar o modo \"on line\", que considere apenas um subconjunto das mensagens, de tamanho m, monta o modelo, processa mais um subconjunto, atualiza o modelo, processa mais um sobconjunto e assim por diante;\n",
    "- os dois anteriores\n",
    "\n",
    "A seguir, vamos comparar o modo online com o modo batch (10 passadas). Para isso, vamos simular um \"corpo\" com tamanho 1000 vezes maior que o nosso \"corpo de mensagens\"\n"
   ]
  },
  {
   "cell_type": "code",
   "execution_count": 47,
   "metadata": {
    "collapsed": true
   },
   "outputs": [],
   "source": [
    "import time\n",
    "corpo2 = corpo*1000"
   ]
  },
  {
   "cell_type": "code",
   "execution_count": 48,
   "metadata": {},
   "outputs": [
    {
     "name": "stdout",
     "output_type": "stream",
     "text": [
      "\n",
      " --- 75.273 segundos ---\n"
     ]
    }
   ],
   "source": [
    "start = time.time()\n",
    "\n",
    "modelo_bath = models.ldamodel.LdaModel(corpo2, num_topics=6, id2word = dicionario, passes=10)\n",
    "    \n",
    "print(\"\\n --- %s segundos ---\" % round((time.time() - start),4))"
   ]
  },
  {
   "cell_type": "markdown",
   "metadata": {},
   "source": [
    "Foram necessários 75 segundos para processar o modelo em modo batch nesta máquina (Core i5 com 4Gb de RAM)"
   ]
  },
  {
   "cell_type": "code",
   "execution_count": 49,
   "metadata": {},
   "outputs": [
    {
     "name": "stdout",
     "output_type": "stream",
     "text": [
      "\n",
      " --- 6.0613 segundos ---\n"
     ]
    }
   ],
   "source": [
    "start = time.time()\n",
    "\n",
    "modelo_online = models.ldamodel.LdaModel(corpo2, num_topics=6, id2word = dicionario, update_every=1, chunksize=100, passes=1)\n",
    "    \n",
    "print(\"\\n --- %s segundos ---\" % round((time.time() - start),4))"
   ]
  },
  {
   "cell_type": "markdown",
   "metadata": {},
   "source": [
    "Foram necessários 7 segundos para processar o modelo em modo on line"
   ]
  },
  {
   "cell_type": "code",
   "execution_count": 50,
   "metadata": {},
   "outputs": [
    {
     "data": {
      "text/plain": [
       "[(0, '0.091*\"celul\" + 0.091*\"uma\" + 0.091*\"gost\"'),\n",
       " (1, '0.091*\"com\" + 0.091*\"defeit\" + 0.091*\"cheg\"'),\n",
       " (2, '0.182*\"nã\" + 0.182*\"funcion\" + 0.091*\"aparelh\"'),\n",
       " (3, '0.182*\"vai\" + 0.182*\"quand\" + 0.182*\"entreg\"'),\n",
       " (4, '0.125*\"iphon\" + 0.125*\"cad\" + 0.063*\"ruim\"'),\n",
       " (5, '0.231*\"bom\" + 0.154*\"noit\" + 0.077*\"meu\"')]"
      ]
     },
     "execution_count": 50,
     "metadata": {},
     "output_type": "execute_result"
    }
   ],
   "source": [
    "modelo_bath.print_topics(num_words=3)"
   ]
  },
  {
   "cell_type": "code",
   "execution_count": 51,
   "metadata": {},
   "outputs": [
    {
     "data": {
      "text/plain": [
       "[(0, '0.154*\"qual\" + 0.153*\"melhor\" + 0.077*\"entreg\"'),\n",
       " (1, '0.264*\"bom\" + 0.106*\"tard\" + 0.106*\"noit\"'),\n",
       " (2, '0.200*\"tem\" + 0.200*\"que\" + 0.200*\"hum\"'),\n",
       " (3, '0.210*\"faz\" + 0.158*\"gost\" + 0.158*\"uma\"'),\n",
       " (4, '0.100*\"celul\" + 0.100*\"meu\" + 0.099*\"cad\"'),\n",
       " (5, '0.158*\"com\" + 0.106*\"aparelh\" + 0.106*\"cheg\"')]"
      ]
     },
     "execution_count": 51,
     "metadata": {},
     "output_type": "execute_result"
    }
   ],
   "source": [
    "modelo_online.print_topics(num_words=3)"
   ]
  },
  {
   "cell_type": "markdown",
   "metadata": {
    "collapsed": true
   },
   "source": [
    "# Considerações finais\n",
    "\n",
    "## Foco no problema, foco na solução\n",
    "\n",
    "Eu sei que, inicialmente, a proposta era comparar através de uma forma de pontuação a resposta obtida pelo modelo com a resposta tipicamente fornecida por um atendente real. MAS, focar em imitar o atendente real pode não ser o mais indicado até mesmo porque nem sempre as conversas tomam rumos eficazes.\n",
    "\n",
    "\n",
    "### Scoring\n",
    "\n",
    "De qualquer forma, caso se queira mesmo comparar as repostas registradas no BD com as fornecidas pelo modelo, pode-se empregar o método difflib.SequenceMatcher().ratio() para scoring. Exemplos:\n"
   ]
  },
  {
   "cell_type": "code",
   "execution_count": 52,
   "metadata": {},
   "outputs": [
    {
     "data": {
      "text/plain": [
       "0.5"
      ]
     },
     "execution_count": 52,
     "metadata": {},
     "output_type": "execute_result"
    }
   ],
   "source": [
    "import difflib\n",
    "difflib.SequenceMatcher(None, \"resposta do atendente humano\", \"humano atendente do resposta\").ratio()"
   ]
  },
  {
   "cell_type": "code",
   "execution_count": 53,
   "metadata": {},
   "outputs": [
    {
     "data": {
      "text/plain": [
       "0.8571428571428571"
      ]
     },
     "execution_count": 53,
     "metadata": {},
     "output_type": "execute_result"
    }
   ],
   "source": [
    "difflib.SequenceMatcher(None, \"resposta do atendente humano\", \"resposta do atendente\").ratio()"
   ]
  },
  {
   "cell_type": "code",
   "execution_count": 54,
   "metadata": {},
   "outputs": [
    {
     "data": {
      "text/plain": [
       "0.5806451612903226"
      ]
     },
     "execution_count": 54,
     "metadata": {},
     "output_type": "execute_result"
    }
   ],
   "source": [
    "difflib.SequenceMatcher(None, \"resposta do atendente humano\", \"outra resposta parecida com humano\").ratio()"
   ]
  },
  {
   "cell_type": "markdown",
   "metadata": {},
   "source": [
    "## Outras possibilidades\n",
    "\n",
    "NLP POS - Parts of speech poderia ter sido empregado para detectar palavras-chave, a fim de guiar a preparação da resposta ao cliente.\n",
    "\n",
    "Além disso, utilizei uma solução extremamente simples para correção gramatical. Existem possibilidades muito mais sofisticadas mas que dependem de um treino realizado sobre um texto de referência, para \"aprender\" o vocabulário.\n",
    "\n",
    "Eu desenvolvi este esboço de solução em Python a fim de demonstrar minhas habilidades nesta linguagem.\n",
    "No entanto, a linguagem R, na qual sou ainda mais fluente, possui ferramentas mais ricas, tanto para análise de dados como para elaboração de relatórios, apresentações, dashboards e afins. Vide, por exemplo, o meu repositório no github, onde eu apresento relatórios, apresentações e dashboards sobre assuntos variados  - https://github.com/erickfis\n",
    "\n",
    "\n",
    "## Sobre mim\n",
    "\n",
    "Eu adoro criar e ser desafiado. \n",
    "\n",
    "\n",
    "Aqui vai um resumo das minhas habilidades:\n",
    "\n",
    "    - R & Python (Pandas, SciPy, scikit-learn, dplyr, caret)\n",
    "    - BI Tableau, Google Vis, ggPlot, Shiny Dashboards\n",
    "    - MySQL / Teradata, NoSQL, MongoDB, Apache Cassandra\n",
    "    - Hadoop, Amazon Web Services – AWS EC2\n",
    "    - Machine Learning & Modelos de regresão linear, Árvores de Classificação e etc\n",
    "    - Natural Language Processing – NLP\n",
    "    - Clustering / Regras de associação\n",
    "    - Inferência estatística, testes A/B\n",
    "    - Análise exploratória\n",
    "    - Git / Github\n",
    "    - Rmarkdown Reproducible Research / Jupyter Notebooks\n",
    "    - Fluente em inglês\n",
    "    - Físico formado pela USP\n",
    "    \n",
    "*Erick Gomes Anastácio*\n"
   ]
  },
  {
   "cell_type": "code",
   "execution_count": null,
   "metadata": {
    "collapsed": true
   },
   "outputs": [],
   "source": []
  }
 ],
 "metadata": {
  "kernelspec": {
   "display_name": "Python 3",
   "language": "python",
   "name": "python3"
  },
  "language_info": {
   "codemirror_mode": {
    "name": "ipython",
    "version": 3
   },
   "file_extension": ".py",
   "mimetype": "text/x-python",
   "name": "python",
   "nbconvert_exporter": "python",
   "pygments_lexer": "ipython3",
   "version": "3.6.2"
  }
 },
 "nbformat": 4,
 "nbformat_minor": 2
}
