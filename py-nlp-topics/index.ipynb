{
 "cells": [
  {
   "cell_type": "markdown",
   "metadata": {},
   "source": [
    "# NLP Topic Modeling - Building a chat bot with LDA\n",
    "\n",
    "\n",
    "Using python + natural language processing for topic modeling: a unsupervised technique for document classification.\n",
    "\n",
    "https://github.com/erickfis\n",
    "\n",
    "\n",
    "## Topic modeling\n",
    "\n",
    "Imagine you have a huge collection of documents, each one talking about a specific matter|subject.\n",
    "A document could be a movie description, or part of a book, a message, a tweet, etc...\n",
    "\n",
    "\n",
    "If you take the time to read each document, you will learn that they are talking about science, or politics,\n",
    "or medicine, or sports, etc, but very often they don't have a label specifying the subject.\n",
    "\n",
    "\n",
    "Now it's your job to group them by subject. Will you read each one of them and label one by one?\n",
    "What if your collection contains 1 billion documents?\n",
    "\n",
    "\n",
    "This is where *Topic modeling* comes in hand: it is a very useful technique for document classification through unsupervised learning. It will learn from the collection of documents as a whole and then suggest groups (clusters) of documents by similarities, such as frequency or probabilities for words on each document.\n",
    "\n",
    "\n",
    "After the documents are split into the suggested groups, we can then look at each group (through samples of them) and choose a proper label for it.\n",
    "\n",
    "\n",
    "This clustering of documents by topic|subject can be achieved by different techniques:\n",
    "\n",
    "- tf-idf + clustering\n",
    "- tf-idf + PCA\n",
    "- Latent semantic analysis - LSA\n",
    "- Latent Dirichlet Allocation - LDA\n",
    "\n",
    "On this notebook we will discuss the LDA method.\n",
    "\n",
    "## LDA - Latent Dirichlet Allocation\n",
    "\n",
    "LDA is a especial case of the Latent semantic analysis, where the priors distribution of topics are assumed to be\n",
    "of the beta multivariate type, aka. Dirichlet distribution.\n",
    "\n",
    "The main advantage of LDA over LSI, PCA or regular clustering is that LDA is capable of detecting intermediary topics between the ones that would be detected by the former, as they will work on principal components and detect only orthogonal\n",
    "topics. Thus, LDA reduces overfitting and increases accuracy.\n",
    "\n",
    "\n",
    "On the other hand, LDA demands more computation time.\n",
    "\n",
    "\n",
    "https://en.wikipedia.org/wiki/Latent_Dirichlet_allocation\n",
    "\n",
    "\n",
    "## Use case: chat bots\n",
    "\n",
    "Imagine we are a big on line retailer and we want to provide a new communication channel for our costumers.\n",
    "\n",
    "We had a real time on line chat before and we were using a human attendant to answer our costumers. We have stored all of the costumers messages on our database and now we want to create an algorithm that is capable of answering costumers just like a human attendant would.\n",
    "\n",
    "But how to answer our costumers in a natural way, simulating the behavior of a human attendant?\n",
    "\n",
    "The achieve that goal, we are going to use natural language processing and topic modeling. We will combine different techniques for analyzing the costumers queries and questions to elaborate an appropriate natural answer.\n",
    "\n",
    "The techniques are:\n",
    "\n",
    "- topic modeling - to orient the composition of a proper answer according to the detected subject of conversation.\n",
    "IE: if the subject is a complaint, the algorithm should compose an answer taking this information into account.\n",
    "If the message is a salutation, then salute back.\n",
    "- keyword detection, as order number, or some specific product.\n",
    "\n",
    "\n",
    "## Retrieving stored messages from our database\n",
    "\n",
    "In order to \"train\" our algorithm, we must retrieve stored data from our databases.\n",
    "Note that this is not the typical training process because we don't have any targets or labels ready at this point. This is, in fact, a unsupervised training process.\n",
    "\n",
    "If the database in question is a NoSQL, like MongoDB, we could run queries like:\n",
    "\n",
    "    db.mensagens.find(\n",
    "        {\n",
    "        $and: [\n",
    "                {\"user\": {$in: [\"user_1\", \"user_2\", \"attd_1\", \"sell_1\"]}},\n",
    "                {\"message\": {$ne: null}}\n",
    "              ]\n",
    "        }\n",
    "    ).pretty()\n",
    "\n",
    "on MongoDB Compass.\n",
    "\n",
    "\n",
    "If the messages are stored in a xml format, we could use the Beautiful Soup library to scrap the data:\n",
    "\n",
    "    db = BeautifulSoup(open('db.xml').read(), \"lxml\")\n",
    "    messages = db.findAll('message')\n",
    "\n",
    "If the messages are stored on a txt file, we could scrap then using something as simple as:\n",
    "\n",
    "    messages = []\n",
    "    with open(db.txt, \"rb\") as incoming:\n",
    "            for line in incoming:\n",
    "                if line.startswith('user'):\n",
    "                    messages.append(line)\n",
    "\n",
    "### Getting the messages from the available database\n",
    "\n",
    "For this very particular notebook, we are going to use a very small set of messages containing some conversation between costumers and the attendants. The costumers are identified by the id \"user_1\"\n"
   ]
  },
  {
   "cell_type": "code",
   "execution_count": 1,
   "metadata": {
    "collapsed": true
   },
   "outputs": [],
   "source": [
    "conversations = [\n",
    "\n",
    "    # small talk\n",
    "    [\n",
    "        {'user': 'user_1', 'message': 'Hi, how are you?', 'status': ''},\n",
    "        {'user': 'user_2', 'message': 'fine! and you?   ', 'status': ''},\n",
    "        {'user': 'user_1', 'message': ' I\\'m ok!!!', 'status': ''},\n",
    "        {'user': 'user_1', 'message': 'got any sale today?', 'status': ''},\n",
    "        {'user': 'user_2', 'message': 'today we have a 50\\\"tv\" \\n ', 'status': ''},\n",
    "    ],\n",
    "    \n",
    "    # customer service\n",
    "    [\n",
    "        {'user': 'user_1', 'message': 'Where is my iphone?!'                          , 'status': 'payment_approved'},\n",
    "        {'user': 'attd_1', 'message': 'Hello, your payment has been approved'         , 'status': 'payment_approved'},\n",
    "        {'user': 'attd_1', 'message': 'Is the product on delivery route'              , 'status': 'payment_approved'},\n",
    "        {'user': 'user_1', 'message': 'But it\\'s 5 days already!'                     , 'status': 'payment_approved'},\n",
    "        {'user': 'attd_1', 'message': 'our delivery should take five working days '   , 'status': 'payment_approved'},\n",
    "        {'user': 'user_1', 'message': 'ow it\\'s true'                                 , 'status': 'payment_approved'},\n",
    "    ],\n",
    "    \n",
    "    # sale\n",
    "    [\n",
    "        {'user': 'user_1', 'message': 'Where is the iphone 10?'                     , 'status': 'shopping'},\n",
    "        {'user': 'sell_1', 'message': 'Hello! the iphone X it is out of stock;'     , 'status': 'shopping'},\n",
    "        {'user': 'user_1', 'message': 'Huum, what do you have available?'           , 'status': 'shopping'},\n",
    "        {'user': 'sell_1', 'message': 'We have the iphone X plus and the samsung s8', 'status': 'shopping'},\n",
    "        {'user': 'user_1', 'message': 'Is the samsung better than the iphone?'      , 'status': 'shopping'},\n",
    "        {'user': 'sell_1', 'message': 'They are different, but they are the best'   , 'status': 'shopping'},\n",
    "    ],\n",
    "]"
   ]
  },
  {
   "cell_type": "code",
   "execution_count": 2,
   "metadata": {},
   "outputs": [
    {
     "data": {
      "text/plain": [
       "['Hi, how are you?',\n",
       " \" I'm ok!!!\",\n",
       " 'got any sale today?',\n",
       " 'Where is my iphone?!',\n",
       " \"But it's 5 days already!\",\n",
       " \"ow it's true\",\n",
       " 'Where is the iphone 10?',\n",
       " 'Huum, what do you have available?',\n",
       " 'Is the samsung better than the iphone?']"
      ]
     },
     "execution_count": 2,
     "metadata": {},
     "output_type": "execute_result"
    }
   ],
   "source": [
    "# lets retrieve only the costumers messages\n",
    "user_messages = []\n",
    "\n",
    "for chat in conversations:\n",
    "    user_messages.append([message[\"message\"] for message in chat if message[\"user\"]==\"user_1\"])\n",
    "\n",
    "user_messages = sum(user_messages, [])\n",
    "user_messages"
   ]
  },
  {
   "cell_type": "code",
   "execution_count": 3,
   "metadata": {
    "collapsed": true
   },
   "outputs": [],
   "source": [
    "# lets add some commom costumer messages to the list\n",
    "\n",
    "add_msg = [\"Good morning!\",\n",
    "              \"Good night!\",\n",
    "              \"Good evening\",\n",
    "              \"I'd like to make a complaint\",\n",
    "              \"I'd like to make a exchange\",\n",
    "              \"I'd like to make a refund\",\n",
    "              \"What's the best mobile?\",\n",
    "              \"my smart phone is broken!\",\n",
    "              \"I can't finish my purchase\",\n",
    "              \"the site is not working!\",\n",
    "              \"When it is going to arrive?\",\n",
    "              \"What's is the delivery time?\",\n",
    "              \"this device is really bad\",\n",
    "              \"I need some help choosing a mobile\",\n",
    "              \"do you accept credit cards?\",\n",
    "              \"the tv arrived already broken\",\n",
    "              \"the device arrived already broken\",\n",
    "              \"the device doesn't work\"\n",
    "             ]"
   ]
  },
  {
   "cell_type": "code",
   "execution_count": 4,
   "metadata": {},
   "outputs": [
    {
     "data": {
      "text/plain": [
       "['Hi, how are you?',\n",
       " \" I'm ok!!!\",\n",
       " 'got any sale today?',\n",
       " 'Where is my iphone?!',\n",
       " \"But it's 5 days already!\",\n",
       " \"ow it's true\",\n",
       " 'Where is the iphone 10?',\n",
       " 'Huum, what do you have available?',\n",
       " 'Is the samsung better than the iphone?',\n",
       " 'Good morning!',\n",
       " 'Good night!',\n",
       " 'Good evening',\n",
       " \"I'd like to make a complaint\",\n",
       " \"I'd like to make a exchange\",\n",
       " \"I'd like to make a refund\",\n",
       " \"What's the best mobile?\",\n",
       " 'my smart phone is broken!',\n",
       " \"I can't finish my purchase\",\n",
       " 'the site is not working!',\n",
       " 'When it is going to arrive?',\n",
       " \"What's is the delivery time?\",\n",
       " 'this device is really bad',\n",
       " 'I need some help choosing a mobile',\n",
       " 'do you accept credit cards?',\n",
       " 'the tv arrived already broken',\n",
       " 'the device arrived already broken',\n",
       " \"the device doesn't work\"]"
      ]
     },
     "execution_count": 4,
     "metadata": {},
     "output_type": "execute_result"
    }
   ],
   "source": [
    "all_msg = user_messages+add_msg\n",
    "all_msg"
   ]
  },
  {
   "cell_type": "markdown",
   "metadata": {},
   "source": [
    "# Pre-processing\n",
    "\n",
    "In order to get the messages classified by topics, we must perform some pre-processing on them. \n",
    "\n",
    "The LDA Topic Modeling sees the documents as bag of words (BOW), \n",
    "so we need to start by transforming each message that way.\n",
    "\n",
    "The first step to get our BOW, we must build a token generator that provides:\n",
    "\n",
    "- lowercase on each word\n",
    "- remove numbers, we are assuming here that they won't help here\n",
    "- remove small words, with less than 2 characters long\n",
    "- spell check\n",
    "- stem|lemmatize the words (IE get only their \"root\")\n",
    "\n",
    "Those restrictions are going to be applied in order to avoid unnecessary complexity: there's no evident gains otherwise.\n",
    "\n",
    "So, we are assuming the following words to be seen as the same by our model:\n",
    "- Mobile|mobile|mobiles\n",
    "- boy|boys\n",
    "- girl|girls\n",
    "- samsung|sansumg|Sannsungui"
   ]
  },
  {
   "cell_type": "markdown",
   "metadata": {},
   "source": [
    "## Spell Check\n",
    "\n",
    "The chosen spell checker is the *enchant project*: https://github.com/AbiWord/enchant\n",
    "\n",
    "It depends on the local dictionary, so we must install myspell:\n",
    "\n",
    "    # sudo apt-get install myspell-en-us\n",
    "\n",
    "Besides, lets add some words to the dictionary, as manufactures and products:"
   ]
  },
  {
   "cell_type": "code",
   "execution_count": 5,
   "metadata": {
    "collapsed": true
   },
   "outputs": [],
   "source": [
    "terms = [\"samsung\", \"motorola\", \"apple\", \"iphone\", \"pixel\", \"google\"]\n",
    "\n",
    "file = \"terms.txt\"\n",
    "with open(file, \"w\") as text_file:\n",
    "    for term in terms:\n",
    "        print(term, file=text_file)\n"
   ]
  },
  {
   "cell_type": "code",
   "execution_count": 6,
   "metadata": {},
   "outputs": [
    {
     "data": {
      "text/plain": [
       "True"
      ]
     },
     "execution_count": 6,
     "metadata": {},
     "output_type": "execute_result"
    }
   ],
   "source": [
    "import enchant\n",
    "d = enchant.DictWithPWL(\"en_US\",file)\n",
    "d.check(\"Samsung\") # if true, it means that the spell checker knowns the word"
   ]
  },
  {
   "cell_type": "markdown",
   "metadata": {},
   "source": [
    "### Getting better suggestions from enchant\n",
    "\n",
    "The enchant.suggest() method provides a list of candidates for fixing the spelling. \n",
    "Usually the first option is the best, but it doesn't always works as expected:"
   ]
  },
  {
   "cell_type": "code",
   "execution_count": 7,
   "metadata": {},
   "outputs": [
    {
     "data": {
      "text/plain": [
       "['Jung', 'Smugging', 'Samarkand', 'Samsung']"
      ]
     },
     "execution_count": 7,
     "metadata": {},
     "output_type": "execute_result"
    }
   ],
   "source": [
    "d.suggest(\"Samjung\")"
   ]
  },
  {
   "cell_type": "markdown",
   "metadata": {},
   "source": [
    "Instead, we should chose a proper fix through a similarity comparison:\n",
    "\n",
    "Thus, we will use the methods:\n",
    "\n",
    "    difflib.SequenceMatcher()\n",
    "    difflib.SequenceMatcher().ratio()\n",
    "\n",
    "The sequenceMatcher method compares pairs in a human friendly way. \n",
    "The ratio() method evaluates the similarity of the pair. Values above 0.6 indicates we have a match."
   ]
  },
  {
   "cell_type": "code",
   "execution_count": 8,
   "metadata": {},
   "outputs": [
    {
     "data": {
      "text/plain": [
       "0.36363636363636365"
      ]
     },
     "execution_count": 8,
     "metadata": {},
     "output_type": "execute_result"
    }
   ],
   "source": [
    "import difflib\n",
    "difflib.SequenceMatcher(None, \"samsung\", \"sony\").ratio()"
   ]
  },
  {
   "cell_type": "code",
   "execution_count": 9,
   "metadata": {},
   "outputs": [
    {
     "data": {
      "text/plain": [
       "0.7142857142857143"
      ]
     },
     "execution_count": 9,
     "metadata": {},
     "output_type": "execute_result"
    }
   ],
   "source": [
    "difflib.SequenceMatcher(None, \"samsung\", \"sansumg\").ratio()"
   ]
  },
  {
   "cell_type": "code",
   "execution_count": 10,
   "metadata": {
    "collapsed": true
   },
   "outputs": [],
   "source": [
    "def spell_checker(word):\n",
    "    \n",
    "    best_fix = \"\"\n",
    "    best_ratio = 0 # começando com similaridade 0\n",
    "\n",
    "    sugestions = set(d.suggest(word))\n",
    "    for sugestion in sugestions:\n",
    "        tmp = difflib.SequenceMatcher(None, word, sugestion).ratio()\n",
    "        if tmp > best_ratio:\n",
    "            best_fix = sugestion\n",
    "            best_ratio = tmp # aumenta o nível para próximas comparações\n",
    "\n",
    "    return best_fix\n"
   ]
  },
  {
   "cell_type": "code",
   "execution_count": 11,
   "metadata": {},
   "outputs": [
    {
     "data": {
      "text/plain": [
       "'samsung'"
      ]
     },
     "execution_count": 11,
     "metadata": {},
     "output_type": "execute_result"
    }
   ],
   "source": [
    "spell_checker(\"samsungui\")"
   ]
  },
  {
   "cell_type": "code",
   "execution_count": 12,
   "metadata": {},
   "outputs": [
    {
     "data": {
      "text/plain": [
       "'samsung'"
      ]
     },
     "execution_count": 12,
     "metadata": {},
     "output_type": "execute_result"
    }
   ],
   "source": [
    "spell_checker(\"samjung\")"
   ]
  },
  {
   "cell_type": "markdown",
   "metadata": {},
   "source": [
    "## The token generator\n",
    "\n",
    "\n",
    "The token generator will transform the messages into BOW.\n",
    "\n",
    "It musts:\n",
    "\n",
    "- lowercase on each word\n",
    "- split the message into words, removing numbers\n",
    "- remove small words, with less than 2 characters long\n",
    "- apply spell check\n",
    "- stem or lemmatize the words\n",
    "\n",
    "\n",
    "Stemming is faster but lemmatizing is more precise, although it takes more computing time.\n",
    "\n",
    "From the wikipedia\n",
    "\n",
    "    Lemmatisation is closely related to stemming. The difference is that a stemmer operates on a single word without knowledge of the context, and therefore cannot discriminate between words which have different meanings depending on part of speech. However, stemmers are typically easier to implement and run faster, and the reduced accuracy may not matter for some applications.\n",
    "\n",
    "http://en.wikipedia.org/wiki/Lemmatisation\n",
    "\n",
    "\n",
    "The choice between the former or the later really depends on the application. Sometimes just stemming will be enough.\n"
   ]
  },
  {
   "cell_type": "code",
   "execution_count": 13,
   "metadata": {
    "collapsed": true
   },
   "outputs": [],
   "source": [
    "import nltk\n",
    "from nltk.stem import WordNetLemmatizer\n",
    "lemma = WordNetLemmatizer()\n",
    "from nltk.corpus import stopwords\n",
    "stopWords = set(stopwords.words('english'))\n",
    "import re # for regular expressions"
   ]
  },
  {
   "cell_type": "code",
   "execution_count": 22,
   "metadata": {
    "collapsed": true
   },
   "outputs": [],
   "source": [
    "def tokenizator(message, size=1, fix=1, lemmatize=1):\n",
    "\n",
    "    message = message.lower() # lowercase\n",
    "    \n",
    "    # get tokens, including acentuation, exclude pontuation and numbers\n",
    "    #tokens = re.findall(\"[-'a-zA-ZÀ-ÖØ-öø-ÿ]+\", message) \n",
    "    tokens = nltk.tokenize.word_tokenize(message)\n",
    "    ## filter words by size\n",
    "    tokens = [token for token in tokens if len(token) > size] \n",
    "    \n",
    "    # spell check and correction only if needed and only if len > 2\n",
    "    if fix:\n",
    "        #tokens = [spell_checker(token) if not d.check(token) else token for token in tokens]\n",
    "        tokens = [spell_checker(token) if (not d.check(token) and len(token) > 2) else token for token in tokens]\n",
    "    \n",
    "    # stemming words\n",
    "    if lemmatize:\n",
    "        tokens = [lemma.lemmatize(t) for t in tokens] \n",
    "    \n",
    "    # lets keep stop words by now because the documents are already too small\n",
    "    #tokens = [t for t in tokens if t not in stopWords] # remove stopwords\n",
    "    \n",
    "    return tokens"
   ]
  },
  {
   "cell_type": "markdown",
   "metadata": {},
   "source": [
    "### Applying the token generator\n",
    "\n",
    "Lets now transform the messages from our database in tokens, as this is required to later obtain our bag of words."
   ]
  },
  {
   "cell_type": "code",
   "execution_count": 23,
   "metadata": {},
   "outputs": [],
   "source": [
    "tokens = map(lambda x: tokenizator(x), all_msg)\n",
    "msg_pro = list(tokens)"
   ]
  },
  {
   "cell_type": "code",
   "execution_count": 24,
   "metadata": {},
   "outputs": [
    {
     "data": {
      "text/html": [
       "<div>\n",
       "<style scoped>\n",
       "    .dataframe tbody tr th:only-of-type {\n",
       "        vertical-align: middle;\n",
       "    }\n",
       "\n",
       "    .dataframe tbody tr th {\n",
       "        vertical-align: top;\n",
       "    }\n",
       "\n",
       "    .dataframe thead th {\n",
       "        text-align: right;\n",
       "    }\n",
       "</style>\n",
       "<table border=\"1\" class=\"dataframe\">\n",
       "  <thead>\n",
       "    <tr style=\"text-align: right;\">\n",
       "      <th></th>\n",
       "      <th>origin</th>\n",
       "      <th>tokenized</th>\n",
       "    </tr>\n",
       "  </thead>\n",
       "  <tbody>\n",
       "    <tr>\n",
       "      <th>0</th>\n",
       "      <td>Hi, how are you?</td>\n",
       "      <td>[hi, how, are, you]</td>\n",
       "    </tr>\n",
       "    <tr>\n",
       "      <th>1</th>\n",
       "      <td>I'm ok!!!</td>\n",
       "      <td>['m, ok]</td>\n",
       "    </tr>\n",
       "    <tr>\n",
       "      <th>2</th>\n",
       "      <td>got any sale today?</td>\n",
       "      <td>[got, any, sale, today]</td>\n",
       "    </tr>\n",
       "    <tr>\n",
       "      <th>3</th>\n",
       "      <td>Where is my iphone?!</td>\n",
       "      <td>[where, is, my, iphone]</td>\n",
       "    </tr>\n",
       "    <tr>\n",
       "      <th>4</th>\n",
       "      <td>But it's 5 days already!</td>\n",
       "      <td>[but, it, 's, day, already]</td>\n",
       "    </tr>\n",
       "    <tr>\n",
       "      <th>5</th>\n",
       "      <td>ow it's true</td>\n",
       "      <td>[ow, it, 's, true]</td>\n",
       "    </tr>\n",
       "    <tr>\n",
       "      <th>6</th>\n",
       "      <td>Where is the iphone 10?</td>\n",
       "      <td>[where, is, the, iphone, 10]</td>\n",
       "    </tr>\n",
       "    <tr>\n",
       "      <th>7</th>\n",
       "      <td>Huum, what do you have available?</td>\n",
       "      <td>[hum, what, do, you, have, available]</td>\n",
       "    </tr>\n",
       "    <tr>\n",
       "      <th>8</th>\n",
       "      <td>Is the samsung better than the iphone?</td>\n",
       "      <td>[is, the, samsung, better, than, the, iphone]</td>\n",
       "    </tr>\n",
       "    <tr>\n",
       "      <th>9</th>\n",
       "      <td>Good morning!</td>\n",
       "      <td>[good, morning]</td>\n",
       "    </tr>\n",
       "    <tr>\n",
       "      <th>10</th>\n",
       "      <td>Good night!</td>\n",
       "      <td>[good, night]</td>\n",
       "    </tr>\n",
       "    <tr>\n",
       "      <th>11</th>\n",
       "      <td>Good evening</td>\n",
       "      <td>[good, evening]</td>\n",
       "    </tr>\n",
       "    <tr>\n",
       "      <th>12</th>\n",
       "      <td>I'd like to make a complaint</td>\n",
       "      <td>['d, like, to, make, complaint]</td>\n",
       "    </tr>\n",
       "    <tr>\n",
       "      <th>13</th>\n",
       "      <td>I'd like to make a exchange</td>\n",
       "      <td>['d, like, to, make, exchange]</td>\n",
       "    </tr>\n",
       "    <tr>\n",
       "      <th>14</th>\n",
       "      <td>I'd like to make a refund</td>\n",
       "      <td>['d, like, to, make, refund]</td>\n",
       "    </tr>\n",
       "    <tr>\n",
       "      <th>15</th>\n",
       "      <td>What's the best mobile?</td>\n",
       "      <td>[what, 's, the, best, mobile]</td>\n",
       "    </tr>\n",
       "    <tr>\n",
       "      <th>16</th>\n",
       "      <td>my smart phone is broken!</td>\n",
       "      <td>[my, smart, phone, is, broken]</td>\n",
       "    </tr>\n",
       "    <tr>\n",
       "      <th>17</th>\n",
       "      <td>I can't finish my purchase</td>\n",
       "      <td>[ca, don't, finish, my, purchase]</td>\n",
       "    </tr>\n",
       "    <tr>\n",
       "      <th>18</th>\n",
       "      <td>the site is not working!</td>\n",
       "      <td>[the, site, is, not, working]</td>\n",
       "    </tr>\n",
       "    <tr>\n",
       "      <th>19</th>\n",
       "      <td>When it is going to arrive?</td>\n",
       "      <td>[when, it, is, going, to, arrive]</td>\n",
       "    </tr>\n",
       "    <tr>\n",
       "      <th>20</th>\n",
       "      <td>What's is the delivery time?</td>\n",
       "      <td>[what, 's, is, the, delivery, time]</td>\n",
       "    </tr>\n",
       "    <tr>\n",
       "      <th>21</th>\n",
       "      <td>this device is really bad</td>\n",
       "      <td>[this, device, is, really, bad]</td>\n",
       "    </tr>\n",
       "    <tr>\n",
       "      <th>22</th>\n",
       "      <td>I need some help choosing a mobile</td>\n",
       "      <td>[need, some, help, choosing, mobile]</td>\n",
       "    </tr>\n",
       "    <tr>\n",
       "      <th>23</th>\n",
       "      <td>do you accept credit cards?</td>\n",
       "      <td>[do, you, accept, credit, card]</td>\n",
       "    </tr>\n",
       "    <tr>\n",
       "      <th>24</th>\n",
       "      <td>the tv arrived already broken</td>\n",
       "      <td>[the, tv, arrived, already, broken]</td>\n",
       "    </tr>\n",
       "    <tr>\n",
       "      <th>25</th>\n",
       "      <td>the device arrived already broken</td>\n",
       "      <td>[the, device, arrived, already, broken]</td>\n",
       "    </tr>\n",
       "    <tr>\n",
       "      <th>26</th>\n",
       "      <td>the device doesn't work</td>\n",
       "      <td>[the, device, doe, don't, work]</td>\n",
       "    </tr>\n",
       "  </tbody>\n",
       "</table>\n",
       "</div>"
      ],
      "text/plain": [
       "                                    origin  \\\n",
       "0                         Hi, how are you?   \n",
       "1                                I'm ok!!!   \n",
       "2                      got any sale today?   \n",
       "3                     Where is my iphone?!   \n",
       "4                 But it's 5 days already!   \n",
       "5                             ow it's true   \n",
       "6                  Where is the iphone 10?   \n",
       "7        Huum, what do you have available?   \n",
       "8   Is the samsung better than the iphone?   \n",
       "9                            Good morning!   \n",
       "10                             Good night!   \n",
       "11                            Good evening   \n",
       "12            I'd like to make a complaint   \n",
       "13             I'd like to make a exchange   \n",
       "14               I'd like to make a refund   \n",
       "15                 What's the best mobile?   \n",
       "16               my smart phone is broken!   \n",
       "17              I can't finish my purchase   \n",
       "18                the site is not working!   \n",
       "19             When it is going to arrive?   \n",
       "20            What's is the delivery time?   \n",
       "21               this device is really bad   \n",
       "22      I need some help choosing a mobile   \n",
       "23             do you accept credit cards?   \n",
       "24           the tv arrived already broken   \n",
       "25       the device arrived already broken   \n",
       "26                 the device doesn't work   \n",
       "\n",
       "                                        tokenized  \n",
       "0                             [hi, how, are, you]  \n",
       "1                                        ['m, ok]  \n",
       "2                         [got, any, sale, today]  \n",
       "3                         [where, is, my, iphone]  \n",
       "4                     [but, it, 's, day, already]  \n",
       "5                              [ow, it, 's, true]  \n",
       "6                    [where, is, the, iphone, 10]  \n",
       "7           [hum, what, do, you, have, available]  \n",
       "8   [is, the, samsung, better, than, the, iphone]  \n",
       "9                                 [good, morning]  \n",
       "10                                  [good, night]  \n",
       "11                                [good, evening]  \n",
       "12                ['d, like, to, make, complaint]  \n",
       "13                 ['d, like, to, make, exchange]  \n",
       "14                   ['d, like, to, make, refund]  \n",
       "15                  [what, 's, the, best, mobile]  \n",
       "16                 [my, smart, phone, is, broken]  \n",
       "17              [ca, don't, finish, my, purchase]  \n",
       "18                  [the, site, is, not, working]  \n",
       "19              [when, it, is, going, to, arrive]  \n",
       "20            [what, 's, is, the, delivery, time]  \n",
       "21                [this, device, is, really, bad]  \n",
       "22           [need, some, help, choosing, mobile]  \n",
       "23                [do, you, accept, credit, card]  \n",
       "24            [the, tv, arrived, already, broken]  \n",
       "25        [the, device, arrived, already, broken]  \n",
       "26                [the, device, doe, don't, work]  "
      ]
     },
     "execution_count": 24,
     "metadata": {},
     "output_type": "execute_result"
    }
   ],
   "source": [
    "import pandas as pd\n",
    "compare = pd.DataFrame({\"origin\": all_msg, \"tokenized\": msg_pro})\n",
    "compare"
   ]
  },
  {
   "cell_type": "markdown",
   "metadata": {},
   "source": [
    "## Applying the LDA\n",
    "\n",
    "\n",
    "The *gensin* package brings the tools needed to implement a LDA analysis in python\n",
    "\n",
    "https://radimrehurek.com/gensim/models/ldamodel.html\n",
    "\n"
   ]
  },
  {
   "cell_type": "code",
   "execution_count": 25,
   "metadata": {},
   "outputs": [
    {
     "name": "stderr",
     "output_type": "stream",
     "text": [
      "/data/data-erick/anaconda3/lib/python3.6/site-packages/requests/__init__.py:80: RequestsDependencyWarning: urllib3 (1.22) or chardet (2.3.0) doesn't match a supported version!\n",
      "  RequestsDependencyWarning)\n"
     ]
    }
   ],
   "source": [
    "from gensim import corpora, models\n",
    "\n",
    "dictionary = corpora.Dictionary(msg_pro) # getting a dictionary from our collection"
   ]
  },
  {
   "cell_type": "code",
   "execution_count": 26,
   "metadata": {
    "collapsed": true
   },
   "outputs": [],
   "source": [
    "body = [dictionary.doc2bow(msg) for msg in msg_pro] # term matrix from our collection"
   ]
  },
  {
   "cell_type": "markdown",
   "metadata": {},
   "source": [
    "## Training our LDA model\n",
    "\n",
    "We must choose a starting number of topics according to our knowledge about the collection, just as we would do when performing a k-mens clustering, where we have to choose a starting number of clusters. Later we will analyze the proper metrics and decide whether to increase or decrease the number of clusters|topics.\n",
    "\n",
    "Setting the parameters for the lda training:\n",
    "\n",
    "- lets start assuming our collection contains 5 different topics.\n",
    "- lets run 100 passes over the collection until it reaches convergence about topic separation.\n",
    "- the alpha parameter its about the document-topic density. A higher value indicates that each document contains more topics. We expect the messages from our costumers to be about one topic only, so we should use a small number here.\n",
    "\n",
    "\n",
    "Lets also record the time it takes to finish the process.\n"
   ]
  },
  {
   "cell_type": "code",
   "execution_count": 52,
   "metadata": {
    "scrolled": true
   },
   "outputs": [
    {
     "name": "stdout",
     "output_type": "stream",
     "text": [
      "\n",
      " --- 1.892 seconds ---\n"
     ]
    }
   ],
   "source": [
    "import time\n",
    "import random\n",
    "\n",
    "start = time.time()\n",
    "random.seed(95276)\n",
    "model = models.ldamodel.LdaModel(body,num_topics=6, id2word = dictionary, passes=100, \n",
    "#                                 alpha=.1, eta=5, random_state=95276)\n",
    "                                 alpha=.05, eta=5, random_state=95276)\n",
    "\n",
    "    # alpha (document/topic relationship) and eta (topic-words relationship) \n",
    "    # could be set to learn from data - \"auto\" setting\n",
    "    \n",
    "print(\"\\n --- %s seconds ---\" % round((time.time() - start),4))"
   ]
  },
  {
   "cell_type": "markdown",
   "metadata": {},
   "source": [
    "### Showing the 3 main terms for each topic"
   ]
  },
  {
   "cell_type": "code",
   "execution_count": 38,
   "metadata": {},
   "outputs": [
    {
     "data": {
      "text/plain": [
       "[(0, '0.032*\"the\" + 0.030*\"is\" + 0.018*\"iphone\"'),\n",
       " (1, '0.016*\"today\" + 0.016*\"got\" + 0.016*\"sale\"'),\n",
       " (2, '0.020*\"to\" + 0.020*\"\\'d\" + 0.020*\"make\"'),\n",
       " (3, '0.016*\"mobile\" + 0.016*\"choosing\" + 0.016*\"some\"'),\n",
       " (4, '0.016*\"my\" + 0.016*\"don\\'t\" + 0.016*\"finish\"'),\n",
       " (5, '0.020*\"good\" + 0.020*\"you\" + 0.018*\"do\"')]"
      ]
     },
     "execution_count": 38,
     "metadata": {},
     "output_type": "execute_result"
    }
   ],
   "source": [
    "model.print_topics(num_topics=6, num_words=3)"
   ]
  },
  {
   "cell_type": "markdown",
   "metadata": {},
   "source": [
    "### Serializing the model\n",
    "\n",
    "So we don't have to train the model again - lets save it to disk."
   ]
  },
  {
   "cell_type": "code",
   "execution_count": 39,
   "metadata": {},
   "outputs": [
    {
     "data": {
      "text/plain": [
       "[(0, '0.032*\"the\" + 0.030*\"is\" + 0.018*\"iphone\"'),\n",
       " (1, '0.016*\"today\" + 0.016*\"got\" + 0.016*\"sale\"'),\n",
       " (2, '0.020*\"to\" + 0.020*\"\\'d\" + 0.020*\"make\"'),\n",
       " (3, '0.016*\"mobile\" + 0.016*\"choosing\" + 0.016*\"some\"'),\n",
       " (4, '0.016*\"my\" + 0.016*\"don\\'t\" + 0.016*\"finish\"'),\n",
       " (5, '0.020*\"good\" + 0.020*\"you\" + 0.018*\"do\"')]"
      ]
     },
     "execution_count": 39,
     "metadata": {},
     "output_type": "execute_result"
    }
   ],
   "source": [
    "import pickle\n",
    "\n",
    "# writes to disk\n",
    "pickle.dump(model, open(\"lda.model\", 'wb'))\n",
    "pickle.dump(dictionary, open(\"dictionary.model\", 'wb'))\n",
    "\n",
    "# loads back\n",
    "model = pickle.load(open(\"lda.model\", 'rb'))\n",
    "dictionary = pickle.load(open(\"dictionary.model\", 'rb'))\n",
    "\n",
    "model.print_topics(num_topics=6, num_words=3)\n"
   ]
  },
  {
   "cell_type": "markdown",
   "metadata": {},
   "source": [
    "## Visual analysis of the topics\n",
    "\n",
    "The bigger the distinction between groups, the better.\n",
    "We can improve this distinction by adjusting the model parameters when training it.\n"
   ]
  },
  {
   "cell_type": "code",
   "execution_count": 62,
   "metadata": {},
   "outputs": [
    {
     "name": "stderr",
     "output_type": "stream",
     "text": [
      "/data/data-erick/anaconda3/lib/python3.6/site-packages/pyLDAvis/_prepare.py:387: DeprecationWarning: \n",
      ".ix is deprecated. Please use\n",
      ".loc for label based indexing or\n",
      ".iloc for positional indexing\n",
      "\n",
      "See the documentation here:\n",
      "http://pandas.pydata.org/pandas-docs/stable/indexing.html#ix-indexer-is-deprecated\n",
      "  topic_term_dists = topic_term_dists.ix[topic_order]\n"
     ]
    },
    {
     "data": {
      "text/html": [
       "\n",
       "<link rel=\"stylesheet\" type=\"text/css\" href=\"https://cdn.rawgit.com/bmabey/pyLDAvis/files/ldavis.v1.0.0.css\">\n",
       "\n",
       "\n",
       "<div id=\"ldavis_el20636139709275718064789292211\"></div>\n",
       "<script type=\"text/javascript\">\n",
       "\n",
       "var ldavis_el20636139709275718064789292211_data = {\"mdsDat\": {\"Freq\": [37.66535186767578, 19.231582641601562, 16.230838775634766, 12.427827835083008, 9.62561321258545, 4.818782329559326], \"cluster\": [1, 1, 1, 1, 1, 1], \"topics\": [1, 2, 3, 4, 5, 6], \"x\": [0.004656908722728345, 0.00015737623200023595, -0.002032275695429589, -0.001395011858027988, -0.0011679584474915817, -0.0002190389537794206], \"y\": [-0.0006772719468984771, 0.0020571069540640456, -0.0015641350192055876, 0.00016200846512982734, 0.00012394438273441173, -0.00010165283582422026]}, \"tinfo\": {\"Category\": [\"Default\", \"Default\", \"Default\", \"Default\", \"Default\", \"Default\", \"Default\", \"Default\", \"Default\", \"Default\", \"Default\", \"Default\", \"Default\", \"Default\", \"Default\", \"Default\", \"Default\", \"Default\", \"Default\", \"Default\", \"Default\", \"Default\", \"Default\", \"Default\", \"Default\", \"Default\", \"Default\", \"Default\", \"Default\", \"Default\", \"Topic1\", \"Topic1\", \"Topic1\", \"Topic1\", \"Topic1\", \"Topic1\", \"Topic1\", \"Topic1\", \"Topic1\", \"Topic1\", \"Topic1\", \"Topic1\", \"Topic1\", \"Topic1\", \"Topic1\", \"Topic1\", \"Topic1\", \"Topic1\", \"Topic1\", \"Topic1\", \"Topic1\", \"Topic1\", \"Topic1\", \"Topic1\", \"Topic1\", \"Topic1\", \"Topic1\", \"Topic1\", \"Topic1\", \"Topic1\", \"Topic2\", \"Topic2\", \"Topic2\", \"Topic2\", \"Topic2\", \"Topic2\", \"Topic2\", \"Topic2\", \"Topic2\", \"Topic2\", \"Topic2\", \"Topic2\", \"Topic2\", \"Topic2\", \"Topic2\", \"Topic2\", \"Topic2\", \"Topic2\", \"Topic2\", \"Topic2\", \"Topic2\", \"Topic2\", \"Topic2\", \"Topic2\", \"Topic2\", \"Topic2\", \"Topic2\", \"Topic2\", \"Topic2\", \"Topic2\", \"Topic2\", \"Topic2\", \"Topic2\", \"Topic2\", \"Topic2\", \"Topic2\", \"Topic3\", \"Topic3\", \"Topic3\", \"Topic3\", \"Topic3\", \"Topic3\", \"Topic3\", \"Topic3\", \"Topic3\", \"Topic3\", \"Topic3\", \"Topic3\", \"Topic3\", \"Topic3\", \"Topic3\", \"Topic3\", \"Topic3\", \"Topic3\", \"Topic3\", \"Topic3\", \"Topic3\", \"Topic3\", \"Topic3\", \"Topic3\", \"Topic3\", \"Topic3\", \"Topic3\", \"Topic3\", \"Topic3\", \"Topic3\", \"Topic3\", \"Topic3\", \"Topic3\", \"Topic3\", \"Topic3\", \"Topic3\", \"Topic3\", \"Topic3\", \"Topic3\", \"Topic3\", \"Topic3\", \"Topic4\", \"Topic4\", \"Topic4\", \"Topic4\", \"Topic4\", \"Topic4\", \"Topic4\", \"Topic4\", \"Topic4\", \"Topic4\", \"Topic4\", \"Topic4\", \"Topic4\", \"Topic4\", \"Topic4\", \"Topic4\", \"Topic4\", \"Topic4\", \"Topic4\", \"Topic4\", \"Topic4\", \"Topic4\", \"Topic4\", \"Topic4\", \"Topic4\", \"Topic4\", \"Topic4\", \"Topic4\", \"Topic4\", \"Topic4\", \"Topic4\", \"Topic4\", \"Topic4\", \"Topic4\", \"Topic4\", \"Topic4\", \"Topic4\", \"Topic4\", \"Topic4\", \"Topic5\", \"Topic5\", \"Topic5\", \"Topic5\", \"Topic5\", \"Topic5\", \"Topic5\", \"Topic5\", \"Topic5\", \"Topic5\", \"Topic5\", \"Topic5\", \"Topic5\", \"Topic5\", \"Topic5\", \"Topic5\", \"Topic5\", \"Topic5\", \"Topic5\", \"Topic5\", \"Topic5\", \"Topic5\", \"Topic5\", \"Topic5\", \"Topic5\", \"Topic5\", \"Topic5\", \"Topic5\", \"Topic5\", \"Topic5\", \"Topic5\", \"Topic5\", \"Topic5\", \"Topic5\", \"Topic5\", \"Topic5\", \"Topic5\", \"Topic5\", \"Topic5\", \"Topic5\", \"Topic6\", \"Topic6\", \"Topic6\", \"Topic6\", \"Topic6\", \"Topic6\", \"Topic6\", \"Topic6\", \"Topic6\", \"Topic6\", \"Topic6\", \"Topic6\", \"Topic6\", \"Topic6\", \"Topic6\", \"Topic6\", \"Topic6\", \"Topic6\", \"Topic6\", \"Topic6\", \"Topic6\", \"Topic6\", \"Topic6\", \"Topic6\", \"Topic6\", \"Topic6\", \"Topic6\", \"Topic6\", \"Topic6\", \"Topic6\", \"Topic6\", \"Topic6\", \"Topic6\", \"Topic6\", \"Topic6\", \"Topic6\", \"Topic6\", \"Topic6\", \"Topic6\", \"Topic6\", \"Topic6\", \"Topic6\", \"Topic6\", \"Topic6\"], \"Freq\": [1.0, 1.0, 1.0, 1.0, 1.0, 1.0, 1.0, 1.0, 1.0, 1.0, 1.0, 1.0, 1.0, 1.0, 1.0, 1.0, 1.0, 1.0, 1.0, 1.0, 1.0, 1.0, 1.0, 1.0, 1.0, 1.0, 1.0, 1.0, 1.0, 1.0, 1.4560880661010742, 1.2010550498962402, 0.8960580229759216, 0.7840507626533508, 0.7840507626533508, 0.7438964247703552, 0.753982663154602, 0.6720435619354248, 0.6720435619354248, 0.6720435619354248, 0.6720435619354248, 0.6720435619354248, 0.6720435619354248, 0.6720435619354248, 0.6720435619354248, 0.6720435619354248, 0.6720435619354248, 0.6720435619354248, 0.6720435619354248, 0.6720435619354248, 0.6720435619354248, 0.6720435619354248, 0.6720371842384338, 0.6720371842384338, 0.6821298003196716, 0.6318956017494202, 0.6318956017494202, 0.6811733245849609, 0.6720435619354248, 0.6720435619354248, 0.4829106330871582, 0.42254677414894104, 0.4176264703273773, 0.4225468337535858, 0.4176264703273773, 0.36218297481536865, 0.36218297481536865, 0.36218297481536865, 0.36218297481536865, 0.36218297481536865, 0.36218297481536865, 0.35726261138916016, 0.35726261138916016, 0.36857035756111145, 0.4780210554599762, 0.36860114336013794, 0.36218297481536865, 0.3082065284252167, 0.3082065284252167, 0.3018191456794739, 0.3018191456794739, 0.3018191456794739, 0.3018191456794739, 0.30295872688293457, 0.30183252692222595, 0.30183252692222595, 0.3018191456794739, 0.3018191456794739, 0.30182915925979614, 0.30182915925979614, 0.30182915925979614, 0.30182915925979614, 0.30295872688293457, 0.30184993147850037, 0.30184993147850037, 0.30184993147850037, 0.41817519068717957, 0.41817519068717957, 0.41817519068717957, 0.41817519068717957, 0.3136313855648041, 0.3136313855648041, 0.3136313855648041, 0.26135948300361633, 0.26135948300361633, 0.26135948300361633, 0.26135948300361633, 0.2620927095413208, 0.2620927095413208, 0.2613595128059387, 0.2613595128059387, 0.26137489080429077, 0.26137489080429077, 0.26137489080429077, 0.26137489080429077, 0.26135948300361633, 0.26135948300361633, 0.26135948300361633, 0.2613670229911804, 0.2613670229911804, 0.2613670229911804, 0.26135948300361633, 0.26135948300361633, 0.26135948300361633, 0.26135948300361633, 0.26135948300361633, 0.2613670229911804, 0.26135948300361633, 0.26135948300361633, 0.26135948300361633, 0.26135948300361633, 0.26135948300361633, 0.26135948300361633, 0.2613595128059387, 0.26135948300361633, 0.26135948300361633, 0.26135948300361633, 0.32018300890922546, 0.28016647696495056, 0.24014268815517426, 0.24014268815517426, 0.24014268815517426, 0.24014265835285187, 0.24014265835285187, 0.24014265835285187, 0.24013552069664001, 0.24013552069664001, 0.24013552069664001, 0.24014268815517426, 0.20011891424655914, 0.20011891424655914, 0.20011891424655914, 0.20011891424655914, 0.20080766081809998, 0.20080766081809998, 0.20011892914772034, 0.20011892914772034, 0.20011891424655914, 0.20011891424655914, 0.20011910796165466, 0.20011910796165466, 0.20011910796165466, 0.20011910796165466, 0.20011891424655914, 0.20011891424655914, 0.20011891424655914, 0.20011891424655914, 0.20011891424655914, 0.20011891424655914, 0.20011891424655914, 0.20011891424655914, 0.20011891424655914, 0.20011891424655914, 0.20011891424655914, 0.20011892914772034, 0.20011891424655914, 0.2495315670967102, 0.18764734268188477, 0.18764734268188477, 0.18761548399925232, 0.18761548399925232, 0.18761548399925232, 0.18761548399925232, 0.18698246777057648, 0.18281295895576477, 0.18281295895576477, 0.1563727855682373, 0.1563727855682373, 0.1563727855682373, 0.1563727855682373, 0.1563727855682373, 0.1563727855682373, 0.15637388825416565, 0.15637388825416565, 0.15637388825416565, 0.1563728153705597, 0.1563728153705597, 0.1563728153705597, 0.1563727855682373, 0.1563727855682373, 0.1563727855682373, 0.1563727855682373, 0.1563727855682373, 0.1563727855682373, 0.1563727855682373, 0.1563727855682373, 0.1563727855682373, 0.15637391805648804, 0.1563728153705597, 0.1563727855682373, 0.1563727855682373, 0.1563727855682373, 0.1563727855682373, 0.1563727855682373, 0.1563727855682373, 0.1563727855682373, 0.09990847855806351, 0.09428395330905914, 0.09428395330905914, 0.09428395330905914, 0.09428395330905914, 0.0912061259150505, 0.0912061259150505, 0.0968315526843071, 0.0912061259150505, 0.08419448882341385, 0.08050467818975449, 0.08050467818975449, 0.07856996357440948, 0.07856996357440948, 0.07856996357440948, 0.07856996357440948, 0.07856996357440948, 0.07856996357440948, 0.07856996357440948, 0.07856996357440948, 0.07856996357440948, 0.07856996357440948, 0.07856996357440948, 0.07856996357440948, 0.07856996357440948, 0.07856996357440948, 0.07856996357440948, 0.07856996357440948, 0.07856996357440948, 0.07856996357440948, 0.08419538289308548, 0.08419541269540787, 0.07857087254524231, 0.07857086509466171, 0.07857086509466171, 0.07856998592615128, 0.07856997102499008, 0.07856998592615128, 0.07856998592615128, 0.07856997102499008, 0.07856997102499008, 0.07856998592615128, 0.07856996357440948, 0.07856996357440948], \"Term\": [\"good\", \"you\", \"mobile\", \"help\", \"some\", \"choosing\", \"need\", \"true\", \"ow\", \"do\", \"'d\", \"make\", \"like\", \"ok\", \"'m\", \"morning\", \"night\", \"today\", \"sale\", \"got\", \"any\", \"evening\", \"'s\", \"have\", \"hum\", \"accept\", \"credit\", \"available\", \"card\", \"hi\", \"is\", \"the\", \"iphone\", \"where\", \"my\", \"what\", \"'s\", \"smart\", \"working\", \"arrive\", \"going\", \"when\", \"bad\", \"this\", \"really\", \"not\", \"than\", \"samsung\", \"better\", \"10\", \"phone\", \"site\", \"time\", \"delivery\", \"it\", \"best\", \"mobile\", \"device\", \"broken\", \"to\", \"already\", \"arrived\", \"don't\", \"broken\", \"device\", \"tv\", \"day\", \"but\", \"ca\", \"finish\", \"purchase\", \"work\", \"doe\", \"it\", \"the\", \"'s\", \"my\", \"true\", \"ow\", \"need\", \"choosing\", \"some\", \"help\", \"evening\", \"'m\", \"ok\", \"night\", \"morning\", \"sale\", \"any\", \"today\", \"got\", \"good\", \"mobile\", \"best\", \"what\", \"make\", \"like\", \"'d\", \"to\", \"complaint\", \"refund\", \"exchange\", \"some\", \"help\", \"choosing\", \"need\", \"'m\", \"ok\", \"ow\", \"true\", \"today\", \"any\", \"got\", \"sale\", \"morning\", \"night\", \"evening\", \"how\", \"hi\", \"are\", \"hum\", \"credit\", \"card\", \"accept\", \"available\", \"you\", \"when\", \"what\", \"have\", \"do\", \"the\", \"10\", \"it\", \"day\", \"but\", \"already\", \"you\", \"do\", \"have\", \"available\", \"hum\", \"credit\", \"card\", \"accept\", \"hi\", \"how\", \"are\", \"what\", \"choosing\", \"help\", \"need\", \"some\", \"ok\", \"'m\", \"ow\", \"true\", \"night\", \"morning\", \"any\", \"today\", \"sale\", \"got\", \"evening\", \"refund\", \"exchange\", \"complaint\", \"good\", \"than\", \"samsung\", \"better\", \"10\", \"the\", \"already\", \"it\", \"day\", \"good\", \"night\", \"morning\", \"any\", \"today\", \"got\", \"sale\", \"evening\", \"'m\", \"ok\", \"some\", \"need\", \"help\", \"choosing\", \"true\", \"ow\", \"are\", \"how\", \"hi\", \"accept\", \"card\", \"credit\", \"available\", \"have\", \"hum\", \"refund\", \"exchange\", \"complaint\", \"finish\", \"tv\", \"but\", \"you\", \"do\", \"the\", \"than\", \"samsung\", \"better\", \"what\", \"10\", \"it\", \"mobile\", \"some\", \"need\", \"help\", \"choosing\", \"true\", \"ow\", \"'s\", \"it\", \"best\", \"'m\", \"ok\", \"night\", \"morning\", \"today\", \"sale\", \"got\", \"any\", \"evening\", \"accept\", \"card\", \"credit\", \"available\", \"have\", \"hum\", \"how\", \"hi\", \"are\", \"exchange\", \"refund\", \"what\", \"the\", \"is\", \"time\", \"delivery\", \"work\", \"site\", \"doe\", \"don't\", \"not\", \"working\", \"device\", \"samsung\", \"do\"], \"Total\": [1.0, 1.0, 1.0, 1.0, 1.0, 1.0, 1.0, 1.0, 1.0, 1.0, 1.0, 1.0, 1.0, 1.0, 1.0, 1.0, 1.0, 1.0, 1.0, 1.0, 1.0, 1.0, 1.0, 1.0, 1.0, 1.0, 1.0, 1.0, 1.0, 1.0, 2.454329252243042, 2.381122589111328, 1.8942983150482178, 1.782291054725647, 1.8426549434661865, 1.7878166437149048, 1.8372665643692017, 1.6702839136123657, 1.6702839136123657, 1.6702839136123657, 1.6702839136123657, 1.6702839136123657, 1.6702839136123657, 1.6702839136123657, 1.6702839136123657, 1.6702839136123657, 1.6702839136123657, 1.6702839136123657, 1.6702839136123657, 1.6702839136123657, 1.6702839136123657, 1.6702839136123657, 1.6702783107757568, 1.6702783107757568, 1.759757399559021, 1.6357911825180054, 1.6515051126480103, 1.795220971107483, 1.7910115718841553, 1.8270995616912842, 1.7393680810928345, 1.679004192352295, 1.6832135915756226, 1.7910115718841553, 1.795220971107483, 1.618640422821045, 1.618640422821045, 1.618640422821045, 1.618640422821045, 1.618640422821045, 1.618640422821045, 1.6228498220443726, 1.6228498220443726, 1.759757399559021, 2.381122589111328, 1.8372665643692017, 1.8426549434661865, 1.5873862504959106, 1.5873862504959106, 1.5739905834197998, 1.5739905834197998, 1.5739905834197998, 1.5739905834197998, 1.5902925729751587, 1.5880869626998901, 1.5880869626998901, 1.5895512104034424, 1.5895512104034424, 1.5896070003509521, 1.5896070003509521, 1.5896070003509521, 1.5896070003509521, 1.6528416872024536, 1.6515051126480103, 1.6357911825180054, 1.7878166437149048, 1.7150923013687134, 1.7150923013687134, 1.7150923013687134, 1.8270995616912842, 1.610548496246338, 1.610548496246338, 1.610548496246338, 1.5739905834197998, 1.5739905834197998, 1.5739905834197998, 1.5739905834197998, 1.5880869626998901, 1.5880869626998901, 1.5873862504959106, 1.5873862504959106, 1.5896070003509521, 1.5896070003509521, 1.5896070003509521, 1.5896070003509521, 1.5895512104034424, 1.5895512104034424, 1.5902925729751587, 1.598301887512207, 1.598301887512207, 1.598301887512207, 1.5983004570007324, 1.5983004570007324, 1.5983004570007324, 1.5983004570007324, 1.5983004570007324, 1.6783493757247925, 1.6702839136123657, 1.7878166437149048, 1.5983004570007324, 1.63832426071167, 2.381122589111328, 1.6702839136123657, 1.759757399559021, 1.618640422821045, 1.618640422821045, 1.7393680810928345, 1.6783493757247925, 1.63832426071167, 1.5983004570007324, 1.5983004570007324, 1.5983004570007324, 1.5983004570007324, 1.5983004570007324, 1.5983004570007324, 1.598301887512207, 1.598301887512207, 1.598301887512207, 1.7878166437149048, 1.5739905834197998, 1.5739905834197998, 1.5739905834197998, 1.5739905834197998, 1.5880869626998901, 1.5880869626998901, 1.5873862504959106, 1.5873862504959106, 1.5895512104034424, 1.5895512104034424, 1.5896070003509521, 1.5896070003509521, 1.5896070003509521, 1.5896070003509521, 1.5902925729751587, 1.610548496246338, 1.610548496246338, 1.610548496246338, 1.6528416872024536, 1.6702839136123657, 1.6702839136123657, 1.6702839136123657, 1.6702839136123657, 2.381122589111328, 1.7393680810928345, 1.759757399559021, 1.618640422821045, 1.6528416872024536, 1.5895512104034424, 1.5895512104034424, 1.5896070003509521, 1.5896070003509521, 1.5896070003509521, 1.5896070003509521, 1.5902925729751587, 1.5880869626998901, 1.5880869626998901, 1.5739905834197998, 1.5739905834197998, 1.5739905834197998, 1.5739905834197998, 1.5873862504959106, 1.5873862504959106, 1.598301887512207, 1.598301887512207, 1.598301887512207, 1.5983004570007324, 1.5983004570007324, 1.5983004570007324, 1.5983004570007324, 1.5983004570007324, 1.5983004570007324, 1.610548496246338, 1.610548496246338, 1.610548496246338, 1.618640422821045, 1.618640422821045, 1.618640422821045, 1.6783493757247925, 1.63832426071167, 2.381122589111328, 1.6702839136123657, 1.6702839136123657, 1.6702839136123657, 1.7878166437149048, 1.6702839136123657, 1.759757399559021, 1.6515051126480103, 1.5739905834197998, 1.5739905834197998, 1.5739905834197998, 1.5739905834197998, 1.5873862504959106, 1.5873862504959106, 1.8372665643692017, 1.759757399559021, 1.6357911825180054, 1.5880869626998901, 1.5880869626998901, 1.5895512104034424, 1.5895512104034424, 1.5896070003509521, 1.5896070003509521, 1.5896070003509521, 1.5896070003509521, 1.5902925729751587, 1.5983004570007324, 1.5983004570007324, 1.5983004570007324, 1.5983004570007324, 1.5983004570007324, 1.5983004570007324, 1.598301887512207, 1.598301887512207, 1.598301887512207, 1.610548496246338, 1.610548496246338, 1.7878166437149048, 2.381122589111328, 2.454329252243042, 1.6702783107757568, 1.6702783107757568, 1.6228498220443726, 1.6702839136123657, 1.6228498220443726, 1.6832135915756226, 1.6702839136123657, 1.6702839136123657, 1.795220971107483, 1.6702839136123657, 1.63832426071167], \"loglift\": [30.0, 29.0, 28.0, 27.0, 26.0, 25.0, 24.0, 23.0, 22.0, 21.0, 20.0, 19.0, 18.0, 17.0, 16.0, 15.0, 14.0, 13.0, 12.0, 11.0, 10.0, 9.0, 8.0, 7.0, 6.0, 5.0, 4.0, 3.0, 2.0, 1.0, 0.4542999863624573, 0.2921000123023987, 0.22779999673366547, 0.15520000457763672, 0.12189999967813492, 0.09960000216960907, 0.08579999953508377, 0.06599999964237213, 0.06599999964237213, 0.06599999964237213, 0.06599999964237213, 0.06599999964237213, 0.06599999964237213, 0.06599999964237213, 0.06599999964237213, 0.06599999964237213, 0.06599999964237213, 0.06599999964237213, 0.06599999964237213, 0.06599999964237213, 0.06599999964237213, 0.06599999964237213, 0.06599999964237213, 0.06599999964237213, 0.028699999675154686, 0.025299999862909317, 0.015699999406933784, 0.007400000002235174, -0.003800000064074993, -0.02370000071823597, 0.36719998717308044, 0.26899999380111694, 0.2547000050544739, 0.20440000295639038, 0.19030000269412994, 0.15139999985694885, 0.15139999985694885, 0.15139999985694885, 0.15139999985694885, 0.15139999985694885, 0.15139999985694885, 0.13510000705718994, 0.13510000705718994, 0.08529999852180481, 0.042899999767541885, 0.04230000078678131, 0.021800000220537186, 0.009499999694526196, 0.009499999694526196, -0.002899999963119626, -0.002899999963119626, -0.002899999963119626, -0.002899999963119626, -0.009499999694526196, -0.011800000444054604, -0.011800000444054604, -0.012799999676644802, -0.012799999676644802, -0.012799999676644802, -0.012799999676644802, -0.012799999676644802, -0.012799999676644802, -0.04800000041723251, -0.05090000107884407, -0.04129999876022339, -0.13019999861717224, 0.40689998865127563, 0.40689998865127563, 0.40689998865127563, 0.34369999170303345, 0.18209999799728394, 0.18209999799728394, 0.18209999799728394, 0.02280000038444996, 0.02280000038444996, 0.02280000038444996, 0.02280000038444996, 0.016699999570846558, 0.016699999570846558, 0.014299999922513962, 0.014299999922513962, 0.013000000268220901, 0.013000000268220901, 0.013000000268220901, 0.013000000268220901, 0.012900000438094139, 0.012900000438094139, 0.012500000186264515, 0.007499999832361937, 0.007499999832361937, 0.007499999832361937, 0.007499999832361937, 0.007499999832361937, 0.007499999832361937, 0.007499999832361937, 0.007499999832361937, -0.0414000004529953, -0.03660000115633011, -0.10459999740123749, 0.007499999832361937, -0.01730000041425228, -0.3912000060081482, -0.03660000115633011, -0.08879999816417694, -0.005200000014156103, -0.005200000014156103, -0.0771000012755394, 0.428600013256073, 0.3192000091075897, 0.18979999423027039, 0.18979999423027039, 0.18979999423027039, 0.18979999423027039, 0.18979999423027039, 0.18979999423027039, 0.18970000743865967, 0.18970000743865967, 0.18970000743865967, 0.07769999653100967, 0.02280000038444996, 0.02280000038444996, 0.02280000038444996, 0.02280000038444996, 0.01730000041425228, 0.01730000041425228, 0.014299999922513962, 0.014299999922513962, 0.012900000438094139, 0.012900000438094139, 0.012900000438094139, 0.012900000438094139, 0.012900000438094139, 0.012900000438094139, 0.012500000186264515, -0.00019999999494757503, -0.00019999999494757503, -0.00019999999494757503, -0.026100000366568565, -0.03660000115633011, -0.03660000115633011, -0.03660000115633011, -0.03660000115633011, -0.3912000060081482, -0.0771000012755394, -0.08879999816417694, -0.005200000014156103, 0.45010000467300415, 0.20409999787807465, 0.20409999787807465, 0.20389999449253082, 0.20389999449253082, 0.20389999449253082, 0.20389999449253082, 0.20010000467300415, 0.17890000343322754, 0.17890000343322754, 0.031599998474121094, 0.031599998474121094, 0.031599998474121094, 0.031599998474121094, 0.023099999874830246, 0.023099999874830246, 0.016300000250339508, 0.016300000250339508, 0.016300000250339508, 0.016300000250339508, 0.016300000250339508, 0.016300000250339508, 0.016300000250339508, 0.016300000250339508, 0.016300000250339508, 0.008700000122189522, 0.008700000122189522, 0.008700000122189522, 0.003599999938160181, 0.003599999938160181, 0.003599999938160181, -0.032600000500679016, -0.00839999970048666, -0.3822999894618988, -0.027799999341368675, -0.027799999341368675, -0.027799999341368675, -0.0957999974489212, -0.027799999341368675, -0.07989999651908875, 0.22750000655651093, 0.2176000028848648, 0.2176000028848648, 0.2176000028848648, 0.2176000028848648, 0.17589999735355377, 0.17589999735355377, 0.08959999680519104, 0.07280000299215317, 0.06589999794960022, 0.050700001418590546, 0.050700001418590546, 0.02539999969303608, 0.02539999969303608, 0.02539999969303608, 0.02539999969303608, 0.02539999969303608, 0.02539999969303608, 0.02500000037252903, 0.019899999722838402, 0.019899999722838402, 0.019899999722838402, 0.019899999722838402, 0.019899999722838402, 0.019899999722838402, 0.019899999722838402, 0.019899999722838402, 0.019899999722838402, 0.012299999594688416, 0.012299999594688416, -0.023000000044703484, -0.3095000088214874, -0.4090000092983246, -0.02410000003874302, -0.02410000003874302, 0.004699999932199717, -0.02410000003874302, 0.004699999932199717, -0.03180000185966492, -0.02410000003874302, -0.02410000003874302, -0.09619999676942825, -0.02410000003874302, -0.004800000227987766], \"logprob\": [30.0, 29.0, 28.0, 27.0, 26.0, 25.0, 24.0, 23.0, 22.0, 21.0, 20.0, 19.0, 18.0, 17.0, 16.0, 15.0, 14.0, 13.0, 12.0, 11.0, 10.0, 9.0, 8.0, 7.0, 6.0, 5.0, 4.0, 3.0, 2.0, 1.0, -3.468100070953369, -3.6607000827789307, -3.9535999298095703, -4.087100028991699, -4.087100028991699, -4.139699935913086, -4.126200199127197, -4.241300106048584, -4.241300106048584, -4.241300106048584, -4.241300106048584, -4.241300106048584, -4.241300106048584, -4.241300106048584, -4.241300106048584, -4.241300106048584, -4.241300106048584, -4.241300106048584, -4.241300106048584, -4.241300106048584, -4.241300106048584, -4.241300106048584, -4.241300106048584, -4.241300106048584, -4.226399898529053, -4.3028998374938965, -4.3028998374938965, -4.227799892425537, -4.241300106048584, -4.241300106048584, -3.899600028991699, -4.033100128173828, -4.0447998046875, -4.033100128173828, -4.0447998046875, -4.187300205230713, -4.187300205230713, -4.187300205230713, -4.187300205230713, -4.187300205230713, -4.187300205230713, -4.200900077819824, -4.200900077819824, -4.1697998046875, -3.9098000526428223, -4.1697001457214355, -4.187300205230713, -4.348700046539307, -4.348700046539307, -4.36959981918335, -4.36959981918335, -4.36959981918335, -4.36959981918335, -4.365799903869629, -4.369500160217285, -4.369500160217285, -4.36959981918335, -4.36959981918335, -4.36959981918335, -4.36959981918335, -4.36959981918335, -4.36959981918335, -4.365799903869629, -4.369500160217285, -4.369500160217285, -4.369500160217285, -3.8738999366760254, -3.8738999366760254, -3.8738999366760254, -3.8738999366760254, -4.161600112915039, -4.161600112915039, -4.161600112915039, -4.343900203704834, -4.343900203704834, -4.343900203704834, -4.343900203704834, -4.341100215911865, -4.341100215911865, -4.343900203704834, -4.343900203704834, -4.343800067901611, -4.343800067901611, -4.343800067901611, -4.343800067901611, -4.343900203704834, -4.343900203704834, -4.343900203704834, -4.343900203704834, -4.343900203704834, -4.343900203704834, -4.343900203704834, -4.343900203704834, -4.343900203704834, -4.343900203704834, -4.343900203704834, -4.343900203704834, -4.343900203704834, -4.343900203704834, -4.343900203704834, -4.343900203704834, -4.343900203704834, -4.343900203704834, -4.343900203704834, -4.343900203704834, -4.343900203704834, -4.343900203704834, -3.8738999366760254, -4.007400035858154, -4.161600112915039, -4.161600112915039, -4.161600112915039, -4.161600112915039, -4.161600112915039, -4.161600112915039, -4.161600112915039, -4.161600112915039, -4.161600112915039, -4.161600112915039, -4.343900203704834, -4.343900203704834, -4.343900203704834, -4.343900203704834, -4.3404998779296875, -4.3404998779296875, -4.343900203704834, -4.343900203704834, -4.343900203704834, -4.343900203704834, -4.343900203704834, -4.343900203704834, -4.343900203704834, -4.343900203704834, -4.343900203704834, -4.343900203704834, -4.343900203704834, -4.343900203704834, -4.343900203704834, -4.343900203704834, -4.343900203704834, -4.343900203704834, -4.343900203704834, -4.343900203704834, -4.343900203704834, -4.343900203704834, -4.343900203704834, -3.8677000999450684, -4.152699947357178, -4.152699947357178, -4.152900218963623, -4.152900218963623, -4.152900218963623, -4.152900218963623, -4.156300067901611, -4.178800106048584, -4.178800106048584, -4.335100173950195, -4.335100173950195, -4.335100173950195, -4.335100173950195, -4.335100173950195, -4.335100173950195, -4.335000038146973, -4.335000038146973, -4.335000038146973, -4.335100173950195, -4.335100173950195, -4.335100173950195, -4.335100173950195, -4.335100173950195, -4.335100173950195, -4.335100173950195, -4.335100173950195, -4.335100173950195, -4.335100173950195, -4.335100173950195, -4.335100173950195, -4.335000038146973, -4.335100173950195, -4.335100173950195, -4.335100173950195, -4.335100173950195, -4.335100173950195, -4.335100173950195, -4.335100173950195, -4.335100173950195, -4.091100215911865, -4.149099826812744, -4.149099826812744, -4.149099826812744, -4.149099826812744, -4.182300090789795, -4.182300090789795, -4.122399806976318, -4.182300090789795, -4.26230001449585, -4.30709981918335, -4.30709981918335, -4.331399917602539, -4.331399917602539, -4.331399917602539, -4.331399917602539, -4.331399917602539, -4.331399917602539, -4.331399917602539, -4.331399917602539, -4.331399917602539, -4.331399917602539, -4.331399917602539, -4.331399917602539, -4.331399917602539, -4.331399917602539, -4.331399917602539, -4.331399917602539, -4.331399917602539, -4.331399917602539, -4.262199878692627, -4.262199878692627, -4.331399917602539, -4.331399917602539, -4.331399917602539, -4.331399917602539, -4.331399917602539, -4.331399917602539, -4.331399917602539, -4.331399917602539, -4.331399917602539, -4.331399917602539, -4.331399917602539, -4.331399917602539]}, \"token.table\": {\"Topic\": [1, 1, 1, 1, 1, 1, 1, 1, 1, 1, 1, 1, 1, 1, 1, 1, 1, 1, 1, 1, 1, 1, 1, 1, 1, 1, 1, 1, 1, 1, 1, 1, 1, 1, 1, 1, 1, 1, 1, 1, 1, 1, 1, 1, 1, 1, 1, 1, 1, 1, 1, 1, 1, 1, 1, 1, 1, 1, 1, 1, 1, 1, 1, 1, 1, 1, 1, 1, 1, 1, 1, 1, 1, 1], \"Freq\": [0.5830590128898621, 0.6296884417533875, 0.544286847114563, 0.5987005829811096, 0.6256645917892456, 0.5749214291572571, 0.6290863156318665, 0.6256640553474426, 0.5987005829811096, 0.595591127872467, 0.6256645917892456, 0.5987005829811096, 0.6113249659538269, 0.5987005829811096, 0.5583437085151672, 0.6178024411201477, 0.6178024411201477, 0.6256645917892456, 0.6353278160095215, 0.6209064722061157, 0.6256645917892456, 0.6178024411201477, 0.598702609539032, 0.5570344924926758, 0.6103797554969788, 0.6161999702453613, 0.5941016674041748, 0.6288151144981384, 0.6209064722061157, 0.6178024411201477, 0.5987005829811096, 0.6050186157226562, 0.6290863156318665, 0.6256645917892456, 0.6353278160095215, 0.6256640553474426, 0.6256640553474426, 0.6256645917892456, 0.527899980545044, 0.4074432849884033, 0.568260133266449, 0.5830590128898621, 0.5830590128898621, 0.6055082678794861, 0.6291083693504333, 0.5426952242851257, 0.6353278160095215, 0.6291083693504333, 0.5987005829811096, 0.6296884417533875, 0.6299663782119751, 0.5987005829811096, 0.6178024411201477, 0.5987005829811096, 0.6209064722061157, 0.6290863156318665, 0.5987005829811096, 0.5987005829811096, 0.5987005829811096, 0.6353278160095215, 0.5987005829811096, 0.41996997594833374, 0.5987005829811096, 0.598702609539032, 0.5473155379295349, 0.6290863156318665, 0.6299663782119751, 0.6178024411201477, 0.5593414902687073, 0.5987005829811096, 0.5610755681991577, 0.6161999702453613, 0.5987005829811096, 0.5958235263824463], \"Term\": [\"'d\", \"'m\", \"'s\", \"10\", \"accept\", \"already\", \"any\", \"are\", \"arrive\", \"arrived\", \"available\", \"bad\", \"best\", \"better\", \"broken\", \"but\", \"ca\", \"card\", \"choosing\", \"complaint\", \"credit\", \"day\", \"delivery\", \"device\", \"do\", \"doe\", \"don't\", \"evening\", \"exchange\", \"finish\", \"going\", \"good\", \"got\", \"have\", \"help\", \"hi\", \"how\", \"hum\", \"iphone\", \"is\", \"it\", \"like\", \"make\", \"mobile\", \"morning\", \"my\", \"need\", \"night\", \"not\", \"ok\", \"ow\", \"phone\", \"purchase\", \"really\", \"refund\", \"sale\", \"samsung\", \"site\", \"smart\", \"some\", \"than\", \"the\", \"this\", \"time\", \"to\", \"today\", \"true\", \"tv\", \"what\", \"when\", \"where\", \"work\", \"working\", \"you\"]}, \"R\": 30, \"lambda.step\": 0.01, \"plot.opts\": {\"xlab\": \"PC1\", \"ylab\": \"PC2\"}, \"topic.order\": [1, 5, 3, 6, 2, 4]};\n",
       "\n",
       "function LDAvis_load_lib(url, callback){\n",
       "  var s = document.createElement('script');\n",
       "  s.src = url;\n",
       "  s.async = true;\n",
       "  s.onreadystatechange = s.onload = callback;\n",
       "  s.onerror = function(){console.warn(\"failed to load library \" + url);};\n",
       "  document.getElementsByTagName(\"head\")[0].appendChild(s);\n",
       "}\n",
       "\n",
       "if(typeof(LDAvis) !== \"undefined\"){\n",
       "   // already loaded: just create the visualization\n",
       "   !function(LDAvis){\n",
       "       new LDAvis(\"#\" + \"ldavis_el20636139709275718064789292211\", ldavis_el20636139709275718064789292211_data);\n",
       "   }(LDAvis);\n",
       "}else if(typeof define === \"function\" && define.amd){\n",
       "   // require.js is available: use it to load d3/LDAvis\n",
       "   require.config({paths: {d3: \"https://cdnjs.cloudflare.com/ajax/libs/d3/3.5.5/d3.min\"}});\n",
       "   require([\"d3\"], function(d3){\n",
       "      window.d3 = d3;\n",
       "      LDAvis_load_lib(\"https://cdn.rawgit.com/bmabey/pyLDAvis/files/ldavis.v1.0.0.js\", function(){\n",
       "        new LDAvis(\"#\" + \"ldavis_el20636139709275718064789292211\", ldavis_el20636139709275718064789292211_data);\n",
       "      });\n",
       "    });\n",
       "}else{\n",
       "    // require.js not available: dynamically load d3 & LDAvis\n",
       "    LDAvis_load_lib(\"https://cdnjs.cloudflare.com/ajax/libs/d3/3.5.5/d3.min.js\", function(){\n",
       "         LDAvis_load_lib(\"https://cdn.rawgit.com/bmabey/pyLDAvis/files/ldavis.v1.0.0.js\", function(){\n",
       "                 new LDAvis(\"#\" + \"ldavis_el20636139709275718064789292211\", ldavis_el20636139709275718064789292211_data);\n",
       "            })\n",
       "         });\n",
       "}\n",
       "</script>"
      ],
      "text/plain": [
       "PreparedData(topic_coordinates=            Freq  cluster  topics         x         y\n",
       "topic                                                \n",
       "0      37.665352        1       1  0.004657 -0.000677\n",
       "4      19.231583        1       2  0.000157  0.002057\n",
       "2      16.230839        1       3 -0.002032 -0.001564\n",
       "5      12.427828        1       4 -0.001395  0.000162\n",
       "1       9.625613        1       5 -0.001168  0.000124\n",
       "3       4.818782        1       6 -0.000219 -0.000102, topic_info=     Category      Freq       Term     Total  loglift  logprob\n",
       "term                                                          \n",
       "31    Default  1.000000       good  1.000000  30.0000  30.0000\n",
       "3     Default  1.000000        you  1.000000  29.0000  29.0000\n",
       "43    Default  1.000000     mobile  1.000000  28.0000  28.0000\n",
       "64    Default  1.000000       help  1.000000  27.0000  27.0000\n",
       "66    Default  1.000000       some  1.000000  26.0000  26.0000\n",
       "63    Default  1.000000   choosing  1.000000  25.0000  25.0000\n",
       "65    Default  1.000000       need  1.000000  24.0000  24.0000\n",
       "20    Default  1.000000       true  1.000000  23.0000  23.0000\n",
       "19    Default  1.000000         ow  1.000000  22.0000  22.0000\n",
       "24    Default  1.000000         do  1.000000  21.0000  21.0000\n",
       "35    Default  1.000000         'd  1.000000  20.0000  20.0000\n",
       "38    Default  1.000000       make  1.000000  19.0000  19.0000\n",
       "37    Default  1.000000       like  1.000000  18.0000  18.0000\n",
       "5     Default  1.000000         ok  1.000000  17.0000  17.0000\n",
       "4     Default  1.000000         'm  1.000000  16.0000  16.0000\n",
       "32    Default  1.000000    morning  1.000000  15.0000  15.0000\n",
       "33    Default  1.000000      night  1.000000  14.0000  14.0000\n",
       "9     Default  1.000000      today  1.000000  13.0000  13.0000\n",
       "8     Default  1.000000       sale  1.000000  12.0000  12.0000\n",
       "7     Default  1.000000        got  1.000000  11.0000  11.0000\n",
       "6     Default  1.000000        any  1.000000  10.0000  10.0000\n",
       "34    Default  1.000000    evening  1.000000   9.0000   9.0000\n",
       "14    Default  1.000000         's  1.000000   8.0000   8.0000\n",
       "25    Default  1.000000       have  1.000000   7.0000   7.0000\n",
       "26    Default  1.000000        hum  1.000000   6.0000   6.0000\n",
       "67    Default  1.000000     accept  1.000000   5.0000   5.0000\n",
       "69    Default  1.000000     credit  1.000000   4.0000   4.0000\n",
       "23    Default  1.000000  available  1.000000   3.0000   3.0000\n",
       "68    Default  1.000000       card  1.000000   2.0000   2.0000\n",
       "1     Default  1.000000         hi  1.000000   1.0000   1.0000\n",
       "...       ...       ...        ...       ...      ...      ...\n",
       "9      Topic6  0.078570      today  1.589607   0.0254  -4.3314\n",
       "8      Topic6  0.078570       sale  1.589607   0.0254  -4.3314\n",
       "7      Topic6  0.078570        got  1.589607   0.0254  -4.3314\n",
       "6      Topic6  0.078570        any  1.589607   0.0254  -4.3314\n",
       "34     Topic6  0.078570    evening  1.590293   0.0250  -4.3314\n",
       "67     Topic6  0.078570     accept  1.598300   0.0199  -4.3314\n",
       "68     Topic6  0.078570       card  1.598300   0.0199  -4.3314\n",
       "69     Topic6  0.078570     credit  1.598300   0.0199  -4.3314\n",
       "23     Topic6  0.078570  available  1.598300   0.0199  -4.3314\n",
       "25     Topic6  0.078570       have  1.598300   0.0199  -4.3314\n",
       "26     Topic6  0.078570        hum  1.598300   0.0199  -4.3314\n",
       "2      Topic6  0.078570        how  1.598302   0.0199  -4.3314\n",
       "1      Topic6  0.078570         hi  1.598302   0.0199  -4.3314\n",
       "0      Topic6  0.078570        are  1.598302   0.0199  -4.3314\n",
       "40     Topic6  0.078570   exchange  1.610548   0.0123  -4.3314\n",
       "41     Topic6  0.078570     refund  1.610548   0.0123  -4.3314\n",
       "27     Topic6  0.084195       what  1.787817  -0.0230  -4.2622\n",
       "22     Topic6  0.084195        the  2.381123  -0.3095  -4.2622\n",
       "11     Topic6  0.078571         is  2.454329  -0.4090  -4.3314\n",
       "58     Topic6  0.078571       time  1.670278  -0.0241  -4.3314\n",
       "57     Topic6  0.078571   delivery  1.670278  -0.0241  -4.3314\n",
       "73     Topic6  0.078570       work  1.622850   0.0047  -4.3314\n",
       "52     Topic6  0.078570       site  1.670284  -0.0241  -4.3314\n",
       "72     Topic6  0.078570        doe  1.622850   0.0047  -4.3314\n",
       "48     Topic6  0.078570      don't  1.683214  -0.0318  -4.3314\n",
       "51     Topic6  0.078570        not  1.670284  -0.0241  -4.3314\n",
       "53     Topic6  0.078570    working  1.670284  -0.0241  -4.3314\n",
       "60     Topic6  0.078570     device  1.795221  -0.0962  -4.3314\n",
       "29     Topic6  0.078570    samsung  1.670284  -0.0241  -4.3314\n",
       "24     Topic6  0.078570         do  1.638324  -0.0048  -4.3314\n",
       "\n",
       "[260 rows x 6 columns], token_table=      Topic      Freq       Term\n",
       "term                            \n",
       "35        1  0.583059         'd\n",
       "4         1  0.629688         'm\n",
       "14        1  0.544287         's\n",
       "21        1  0.598701         10\n",
       "67        1  0.625665     accept\n",
       "15        1  0.574921    already\n",
       "6         1  0.629086        any\n",
       "0         1  0.625664        are\n",
       "54        1  0.598701     arrive\n",
       "70        1  0.595591    arrived\n",
       "23        1  0.625665  available\n",
       "59        1  0.598701        bad\n",
       "42        1  0.611325       best\n",
       "28        1  0.598701     better\n",
       "44        1  0.558344     broken\n",
       "16        1  0.617802        but\n",
       "47        1  0.617802         ca\n",
       "68        1  0.625665       card\n",
       "63        1  0.635328   choosing\n",
       "36        1  0.620906  complaint\n",
       "69        1  0.625665     credit\n",
       "17        1  0.617802        day\n",
       "57        1  0.598703   delivery\n",
       "60        1  0.557034     device\n",
       "24        1  0.610380         do\n",
       "72        1  0.616200        doe\n",
       "48        1  0.594102      don't\n",
       "34        1  0.628815    evening\n",
       "40        1  0.620906   exchange\n",
       "49        1  0.617802     finish\n",
       "...     ...       ...        ...\n",
       "32        1  0.629108    morning\n",
       "12        1  0.542695         my\n",
       "65        1  0.635328       need\n",
       "33        1  0.629108      night\n",
       "51        1  0.598701        not\n",
       "5         1  0.629688         ok\n",
       "19        1  0.629966         ow\n",
       "45        1  0.598701      phone\n",
       "50        1  0.617802   purchase\n",
       "61        1  0.598701     really\n",
       "41        1  0.620906     refund\n",
       "8         1  0.629086       sale\n",
       "29        1  0.598701    samsung\n",
       "52        1  0.598701       site\n",
       "46        1  0.598701      smart\n",
       "66        1  0.635328       some\n",
       "30        1  0.598701       than\n",
       "22        1  0.419970        the\n",
       "62        1  0.598701       this\n",
       "58        1  0.598703       time\n",
       "39        1  0.547316         to\n",
       "9         1  0.629086      today\n",
       "20        1  0.629966       true\n",
       "71        1  0.617802         tv\n",
       "27        1  0.559341       what\n",
       "56        1  0.598701       when\n",
       "13        1  0.561076      where\n",
       "73        1  0.616200       work\n",
       "53        1  0.598701    working\n",
       "3         1  0.595824        you\n",
       "\n",
       "[74 rows x 3 columns], R=30, lambda_step=0.01, plot_opts={'xlab': 'PC1', 'ylab': 'PC2'}, topic_order=[1, 5, 3, 6, 2, 4])"
      ]
     },
     "execution_count": 62,
     "metadata": {},
     "output_type": "execute_result"
    }
   ],
   "source": [
    "import pyLDAvis.gensim\n",
    "vis = pyLDAvis.gensim.prepare(model, body, dictionary)\n",
    "pyLDAvis.enable_notebook()\n",
    "\n",
    "vis"
   ]
  },
  {
   "cell_type": "markdown",
   "metadata": {},
   "source": [
    "## Showing the identified topics"
   ]
  },
  {
   "cell_type": "code",
   "execution_count": 50,
   "metadata": {
    "collapsed": true
   },
   "outputs": [],
   "source": [
    "def get_topic(message):\n",
    "    tokens = tokenizator(message)\n",
    "    map = dictionary.doc2bow(tokens)\n",
    "    # model[map] will return all the possible topics and a score that tells \n",
    "    # the probability of the message belonging to that topic.\n",
    "    # \n",
    "    # we will order it to get the topic which has the biggest probability.\n",
    "    # Also, if the probability is lower than 60%, we will chose to say that we just \n",
    "    # don't know what the message is about (category 6)\n",
    "    #guess = sorted(model[map][0], key=lambda y: y[1], reverse=True)[0] # retorna o tópico mais provável e sua pontuação\n",
    "    guess = sorted(model[map], key=lambda y: y[1], reverse=True)[0] # retorna o tópico mais provável e sua pontuação\n",
    "\n",
    "    return 6 if guess[1] < .6 else guess[0]"
   ]
  },
  {
   "cell_type": "code",
   "execution_count": 53,
   "metadata": {},
   "outputs": [
    {
     "data": {
      "text/html": [
       "<div>\n",
       "<style scoped>\n",
       "    .dataframe tbody tr th:only-of-type {\n",
       "        vertical-align: middle;\n",
       "    }\n",
       "\n",
       "    .dataframe tbody tr th {\n",
       "        vertical-align: top;\n",
       "    }\n",
       "\n",
       "    .dataframe thead th {\n",
       "        text-align: right;\n",
       "    }\n",
       "</style>\n",
       "<table border=\"1\" class=\"dataframe\">\n",
       "  <thead>\n",
       "    <tr style=\"text-align: right;\">\n",
       "      <th></th>\n",
       "      <th>messages</th>\n",
       "      <th>tokens</th>\n",
       "      <th>topic</th>\n",
       "    </tr>\n",
       "  </thead>\n",
       "  <tbody>\n",
       "    <tr>\n",
       "      <th>19</th>\n",
       "      <td>When it is going to arrive?</td>\n",
       "      <td>[when, it, is, going, to, arrive]</td>\n",
       "      <td>0</td>\n",
       "    </tr>\n",
       "    <tr>\n",
       "      <th>20</th>\n",
       "      <td>What's is the delivery time?</td>\n",
       "      <td>[what, 's, is, the, delivery, time]</td>\n",
       "      <td>0</td>\n",
       "    </tr>\n",
       "    <tr>\n",
       "      <th>16</th>\n",
       "      <td>my smart phone is broken!</td>\n",
       "      <td>[my, smart, phone, is, broken]</td>\n",
       "      <td>0</td>\n",
       "    </tr>\n",
       "    <tr>\n",
       "      <th>3</th>\n",
       "      <td>Where is my iphone?!</td>\n",
       "      <td>[where, is, my, iphone]</td>\n",
       "      <td>0</td>\n",
       "    </tr>\n",
       "    <tr>\n",
       "      <th>15</th>\n",
       "      <td>What's the best mobile?</td>\n",
       "      <td>[what, 's, the, best, mobile]</td>\n",
       "      <td>0</td>\n",
       "    </tr>\n",
       "    <tr>\n",
       "      <th>21</th>\n",
       "      <td>this device is really bad</td>\n",
       "      <td>[this, device, is, really, bad]</td>\n",
       "      <td>0</td>\n",
       "    </tr>\n",
       "    <tr>\n",
       "      <th>6</th>\n",
       "      <td>Where is the iphone 10?</td>\n",
       "      <td>[where, is, the, iphone, 10]</td>\n",
       "      <td>0</td>\n",
       "    </tr>\n",
       "    <tr>\n",
       "      <th>8</th>\n",
       "      <td>Is the samsung better than the iphone?</td>\n",
       "      <td>[is, the, samsung, better, than, the, iphone]</td>\n",
       "      <td>0</td>\n",
       "    </tr>\n",
       "    <tr>\n",
       "      <th>18</th>\n",
       "      <td>the site is not working!</td>\n",
       "      <td>[the, site, is, not, working]</td>\n",
       "      <td>0</td>\n",
       "    </tr>\n",
       "    <tr>\n",
       "      <th>11</th>\n",
       "      <td>Good evening</td>\n",
       "      <td>[good, evening]</td>\n",
       "      <td>1</td>\n",
       "    </tr>\n",
       "    <tr>\n",
       "      <th>9</th>\n",
       "      <td>Good morning!</td>\n",
       "      <td>[good, morning]</td>\n",
       "      <td>1</td>\n",
       "    </tr>\n",
       "    <tr>\n",
       "      <th>2</th>\n",
       "      <td>got any sale today?</td>\n",
       "      <td>[got, any, sale, today]</td>\n",
       "      <td>1</td>\n",
       "    </tr>\n",
       "    <tr>\n",
       "      <th>1</th>\n",
       "      <td>I'm ok!!!</td>\n",
       "      <td>['m, ok]</td>\n",
       "      <td>1</td>\n",
       "    </tr>\n",
       "    <tr>\n",
       "      <th>10</th>\n",
       "      <td>Good night!</td>\n",
       "      <td>[good, night]</td>\n",
       "      <td>1</td>\n",
       "    </tr>\n",
       "    <tr>\n",
       "      <th>12</th>\n",
       "      <td>I'd like to make a complaint</td>\n",
       "      <td>['d, like, to, make, complaint]</td>\n",
       "      <td>2</td>\n",
       "    </tr>\n",
       "    <tr>\n",
       "      <th>14</th>\n",
       "      <td>I'd like to make a refund</td>\n",
       "      <td>['d, like, to, make, refund]</td>\n",
       "      <td>2</td>\n",
       "    </tr>\n",
       "    <tr>\n",
       "      <th>13</th>\n",
       "      <td>I'd like to make a exchange</td>\n",
       "      <td>['d, like, to, make, exchange]</td>\n",
       "      <td>2</td>\n",
       "    </tr>\n",
       "    <tr>\n",
       "      <th>22</th>\n",
       "      <td>I need some help choosing a mobile</td>\n",
       "      <td>[need, some, help, choosing, mobile]</td>\n",
       "      <td>3</td>\n",
       "    </tr>\n",
       "    <tr>\n",
       "      <th>5</th>\n",
       "      <td>ow it's true</td>\n",
       "      <td>[ow, it, 's, true]</td>\n",
       "      <td>3</td>\n",
       "    </tr>\n",
       "    <tr>\n",
       "      <th>24</th>\n",
       "      <td>the tv arrived already broken</td>\n",
       "      <td>[the, tv, arrived, already, broken]</td>\n",
       "      <td>4</td>\n",
       "    </tr>\n",
       "    <tr>\n",
       "      <th>26</th>\n",
       "      <td>the device doesn't work</td>\n",
       "      <td>[the, device, doe, don't, work]</td>\n",
       "      <td>4</td>\n",
       "    </tr>\n",
       "    <tr>\n",
       "      <th>25</th>\n",
       "      <td>the device arrived already broken</td>\n",
       "      <td>[the, device, arrived, already, broken]</td>\n",
       "      <td>4</td>\n",
       "    </tr>\n",
       "    <tr>\n",
       "      <th>4</th>\n",
       "      <td>But it's 5 days already!</td>\n",
       "      <td>[but, it, 's, day, already]</td>\n",
       "      <td>4</td>\n",
       "    </tr>\n",
       "    <tr>\n",
       "      <th>17</th>\n",
       "      <td>I can't finish my purchase</td>\n",
       "      <td>[ca, don't, finish, my, purchase]</td>\n",
       "      <td>4</td>\n",
       "    </tr>\n",
       "    <tr>\n",
       "      <th>7</th>\n",
       "      <td>Huum, what do you have available?</td>\n",
       "      <td>[hum, what, do, you, have, available]</td>\n",
       "      <td>5</td>\n",
       "    </tr>\n",
       "    <tr>\n",
       "      <th>23</th>\n",
       "      <td>do you accept credit cards?</td>\n",
       "      <td>[do, you, accept, credit, card]</td>\n",
       "      <td>5</td>\n",
       "    </tr>\n",
       "    <tr>\n",
       "      <th>0</th>\n",
       "      <td>Hi, how are you?</td>\n",
       "      <td>[hi, how, are, you]</td>\n",
       "      <td>5</td>\n",
       "    </tr>\n",
       "  </tbody>\n",
       "</table>\n",
       "</div>"
      ],
      "text/plain": [
       "                                  messages  \\\n",
       "19             When it is going to arrive?   \n",
       "20            What's is the delivery time?   \n",
       "16               my smart phone is broken!   \n",
       "3                     Where is my iphone?!   \n",
       "15                 What's the best mobile?   \n",
       "21               this device is really bad   \n",
       "6                  Where is the iphone 10?   \n",
       "8   Is the samsung better than the iphone?   \n",
       "18                the site is not working!   \n",
       "11                            Good evening   \n",
       "9                            Good morning!   \n",
       "2                      got any sale today?   \n",
       "1                                I'm ok!!!   \n",
       "10                             Good night!   \n",
       "12            I'd like to make a complaint   \n",
       "14               I'd like to make a refund   \n",
       "13             I'd like to make a exchange   \n",
       "22      I need some help choosing a mobile   \n",
       "5                             ow it's true   \n",
       "24           the tv arrived already broken   \n",
       "26                 the device doesn't work   \n",
       "25       the device arrived already broken   \n",
       "4                 But it's 5 days already!   \n",
       "17              I can't finish my purchase   \n",
       "7        Huum, what do you have available?   \n",
       "23             do you accept credit cards?   \n",
       "0                         Hi, how are you?   \n",
       "\n",
       "                                           tokens  topic  \n",
       "19              [when, it, is, going, to, arrive]      0  \n",
       "20            [what, 's, is, the, delivery, time]      0  \n",
       "16                 [my, smart, phone, is, broken]      0  \n",
       "3                         [where, is, my, iphone]      0  \n",
       "15                  [what, 's, the, best, mobile]      0  \n",
       "21                [this, device, is, really, bad]      0  \n",
       "6                    [where, is, the, iphone, 10]      0  \n",
       "8   [is, the, samsung, better, than, the, iphone]      0  \n",
       "18                  [the, site, is, not, working]      0  \n",
       "11                                [good, evening]      1  \n",
       "9                                 [good, morning]      1  \n",
       "2                         [got, any, sale, today]      1  \n",
       "1                                        ['m, ok]      1  \n",
       "10                                  [good, night]      1  \n",
       "12                ['d, like, to, make, complaint]      2  \n",
       "14                   ['d, like, to, make, refund]      2  \n",
       "13                 ['d, like, to, make, exchange]      2  \n",
       "22           [need, some, help, choosing, mobile]      3  \n",
       "5                              [ow, it, 's, true]      3  \n",
       "24            [the, tv, arrived, already, broken]      4  \n",
       "26                [the, device, doe, don't, work]      4  \n",
       "25        [the, device, arrived, already, broken]      4  \n",
       "4                     [but, it, 's, day, already]      4  \n",
       "17              [ca, don't, finish, my, purchase]      4  \n",
       "7           [hum, what, do, you, have, available]      5  \n",
       "23                [do, you, accept, credit, card]      5  \n",
       "0                             [hi, how, are, you]      5  "
      ]
     },
     "execution_count": 53,
     "metadata": {},
     "output_type": "execute_result"
    }
   ],
   "source": [
    "df = pd.DataFrame({\"messages\": all_msg})\n",
    "df[\"tokens\"] = df.messages.apply(lambda x: tokenizator(x))\n",
    "df[\"topic\"] = df.messages.apply(lambda x: get_topic(x))\n",
    "df.sort_values(by=\"topic\")"
   ]
  },
  {
   "cell_type": "markdown",
   "metadata": {},
   "source": [
    "## Labeling the topics\n",
    "\n",
    "\n",
    "After applying the model, we can now look at a small sample of each group so we can add a friendly label do it."
   ]
  },
  {
   "cell_type": "code",
   "execution_count": 54,
   "metadata": {},
   "outputs": [
    {
     "data": {
      "text/html": [
       "<div>\n",
       "<style scoped>\n",
       "    .dataframe tbody tr th:only-of-type {\n",
       "        vertical-align: middle;\n",
       "    }\n",
       "\n",
       "    .dataframe tbody tr th {\n",
       "        vertical-align: top;\n",
       "    }\n",
       "\n",
       "    .dataframe thead th {\n",
       "        text-align: right;\n",
       "    }\n",
       "</style>\n",
       "<table border=\"1\" class=\"dataframe\">\n",
       "  <thead>\n",
       "    <tr style=\"text-align: right;\">\n",
       "      <th></th>\n",
       "      <th></th>\n",
       "      <th>messages</th>\n",
       "      <th>tokens</th>\n",
       "      <th>topic</th>\n",
       "    </tr>\n",
       "    <tr>\n",
       "      <th>topic</th>\n",
       "      <th></th>\n",
       "      <th></th>\n",
       "      <th></th>\n",
       "      <th></th>\n",
       "    </tr>\n",
       "  </thead>\n",
       "  <tbody>\n",
       "    <tr>\n",
       "      <th rowspan=\"7\" valign=\"top\">0</th>\n",
       "      <th>6</th>\n",
       "      <td>Where is the iphone 10?</td>\n",
       "      <td>[where, is, the, iphone, 10]</td>\n",
       "      <td>0</td>\n",
       "    </tr>\n",
       "    <tr>\n",
       "      <th>8</th>\n",
       "      <td>Is the samsung better than the iphone?</td>\n",
       "      <td>[is, the, samsung, better, than, the, iphone]</td>\n",
       "      <td>0</td>\n",
       "    </tr>\n",
       "    <tr>\n",
       "      <th>3</th>\n",
       "      <td>Where is my iphone?!</td>\n",
       "      <td>[where, is, my, iphone]</td>\n",
       "      <td>0</td>\n",
       "    </tr>\n",
       "    <tr>\n",
       "      <th>16</th>\n",
       "      <td>my smart phone is broken!</td>\n",
       "      <td>[my, smart, phone, is, broken]</td>\n",
       "      <td>0</td>\n",
       "    </tr>\n",
       "    <tr>\n",
       "      <th>15</th>\n",
       "      <td>What's the best mobile?</td>\n",
       "      <td>[what, 's, the, best, mobile]</td>\n",
       "      <td>0</td>\n",
       "    </tr>\n",
       "    <tr>\n",
       "      <th>18</th>\n",
       "      <td>the site is not working!</td>\n",
       "      <td>[the, site, is, not, working]</td>\n",
       "      <td>0</td>\n",
       "    </tr>\n",
       "    <tr>\n",
       "      <th>20</th>\n",
       "      <td>What's is the delivery time?</td>\n",
       "      <td>[what, 's, is, the, delivery, time]</td>\n",
       "      <td>0</td>\n",
       "    </tr>\n",
       "    <tr>\n",
       "      <th rowspan=\"4\" valign=\"top\">1</th>\n",
       "      <th>2</th>\n",
       "      <td>got any sale today?</td>\n",
       "      <td>[got, any, sale, today]</td>\n",
       "      <td>1</td>\n",
       "    </tr>\n",
       "    <tr>\n",
       "      <th>1</th>\n",
       "      <td>I'm ok!!!</td>\n",
       "      <td>['m, ok]</td>\n",
       "      <td>1</td>\n",
       "    </tr>\n",
       "    <tr>\n",
       "      <th>11</th>\n",
       "      <td>Good evening</td>\n",
       "      <td>[good, evening]</td>\n",
       "      <td>1</td>\n",
       "    </tr>\n",
       "    <tr>\n",
       "      <th>9</th>\n",
       "      <td>Good morning!</td>\n",
       "      <td>[good, morning]</td>\n",
       "      <td>1</td>\n",
       "    </tr>\n",
       "    <tr>\n",
       "      <th rowspan=\"2\" valign=\"top\">2</th>\n",
       "      <th>14</th>\n",
       "      <td>I'd like to make a refund</td>\n",
       "      <td>['d, like, to, make, refund]</td>\n",
       "      <td>2</td>\n",
       "    </tr>\n",
       "    <tr>\n",
       "      <th>13</th>\n",
       "      <td>I'd like to make a exchange</td>\n",
       "      <td>['d, like, to, make, exchange]</td>\n",
       "      <td>2</td>\n",
       "    </tr>\n",
       "    <tr>\n",
       "      <th rowspan=\"2\" valign=\"top\">3</th>\n",
       "      <th>5</th>\n",
       "      <td>ow it's true</td>\n",
       "      <td>[ow, it, 's, true]</td>\n",
       "      <td>3</td>\n",
       "    </tr>\n",
       "    <tr>\n",
       "      <th>22</th>\n",
       "      <td>I need some help choosing a mobile</td>\n",
       "      <td>[need, some, help, choosing, mobile]</td>\n",
       "      <td>3</td>\n",
       "    </tr>\n",
       "    <tr>\n",
       "      <th rowspan=\"4\" valign=\"top\">4</th>\n",
       "      <th>26</th>\n",
       "      <td>the device doesn't work</td>\n",
       "      <td>[the, device, doe, don't, work]</td>\n",
       "      <td>4</td>\n",
       "    </tr>\n",
       "    <tr>\n",
       "      <th>17</th>\n",
       "      <td>I can't finish my purchase</td>\n",
       "      <td>[ca, don't, finish, my, purchase]</td>\n",
       "      <td>4</td>\n",
       "    </tr>\n",
       "    <tr>\n",
       "      <th>24</th>\n",
       "      <td>the tv arrived already broken</td>\n",
       "      <td>[the, tv, arrived, already, broken]</td>\n",
       "      <td>4</td>\n",
       "    </tr>\n",
       "    <tr>\n",
       "      <th>4</th>\n",
       "      <td>But it's 5 days already!</td>\n",
       "      <td>[but, it, 's, day, already]</td>\n",
       "      <td>4</td>\n",
       "    </tr>\n",
       "    <tr>\n",
       "      <th rowspan=\"2\" valign=\"top\">5</th>\n",
       "      <th>23</th>\n",
       "      <td>do you accept credit cards?</td>\n",
       "      <td>[do, you, accept, credit, card]</td>\n",
       "      <td>5</td>\n",
       "    </tr>\n",
       "    <tr>\n",
       "      <th>7</th>\n",
       "      <td>Huum, what do you have available?</td>\n",
       "      <td>[hum, what, do, you, have, available]</td>\n",
       "      <td>5</td>\n",
       "    </tr>\n",
       "  </tbody>\n",
       "</table>\n",
       "</div>"
      ],
      "text/plain": [
       "                                        messages  \\\n",
       "topic                                              \n",
       "0     6                  Where is the iphone 10?   \n",
       "      8   Is the samsung better than the iphone?   \n",
       "      3                     Where is my iphone?!   \n",
       "      16               my smart phone is broken!   \n",
       "      15                 What's the best mobile?   \n",
       "      18                the site is not working!   \n",
       "      20            What's is the delivery time?   \n",
       "1     2                      got any sale today?   \n",
       "      1                                I'm ok!!!   \n",
       "      11                            Good evening   \n",
       "      9                            Good morning!   \n",
       "2     14               I'd like to make a refund   \n",
       "      13             I'd like to make a exchange   \n",
       "3     5                             ow it's true   \n",
       "      22      I need some help choosing a mobile   \n",
       "4     26                 the device doesn't work   \n",
       "      17              I can't finish my purchase   \n",
       "      24           the tv arrived already broken   \n",
       "      4                 But it's 5 days already!   \n",
       "5     23             do you accept credit cards?   \n",
       "      7        Huum, what do you have available?   \n",
       "\n",
       "                                                 tokens  topic  \n",
       "topic                                                           \n",
       "0     6                    [where, is, the, iphone, 10]      0  \n",
       "      8   [is, the, samsung, better, than, the, iphone]      0  \n",
       "      3                         [where, is, my, iphone]      0  \n",
       "      16                 [my, smart, phone, is, broken]      0  \n",
       "      15                  [what, 's, the, best, mobile]      0  \n",
       "      18                  [the, site, is, not, working]      0  \n",
       "      20            [what, 's, is, the, delivery, time]      0  \n",
       "1     2                         [got, any, sale, today]      1  \n",
       "      1                                        ['m, ok]      1  \n",
       "      11                                [good, evening]      1  \n",
       "      9                                 [good, morning]      1  \n",
       "2     14                   ['d, like, to, make, refund]      2  \n",
       "      13                 ['d, like, to, make, exchange]      2  \n",
       "3     5                              [ow, it, 's, true]      3  \n",
       "      22           [need, some, help, choosing, mobile]      3  \n",
       "4     26                [the, device, doe, don't, work]      4  \n",
       "      17              [ca, don't, finish, my, purchase]      4  \n",
       "      24            [the, tv, arrived, already, broken]      4  \n",
       "      4                     [but, it, 's, day, already]      4  \n",
       "5     23                [do, you, accept, credit, card]      5  \n",
       "      7           [hum, what, do, you, have, available]      5  "
      ]
     },
     "execution_count": 54,
     "metadata": {},
     "output_type": "execute_result"
    }
   ],
   "source": [
    "#showing a sample of each group, to aid labeling each one\n",
    "df.groupby('topic').apply(lambda x: x.sample(frac=.8))"
   ]
  },
  {
   "cell_type": "code",
   "execution_count": 100,
   "metadata": {},
   "outputs": [
    {
     "data": {
      "text/plain": [
       "{0: 'delivery',\n",
       " 1: 'salutation',\n",
       " 2: 'demand',\n",
       " 3: 'comparisson',\n",
       " 4: 'problem',\n",
       " 5: 'indication',\n",
       " 6: 'unknown'}"
      ]
     },
     "execution_count": 100,
     "metadata": {},
     "output_type": "execute_result"
    }
   ],
   "source": [
    "# um dicionário de tópicos\n",
    "labels = [\"delivery\", \"salutation\", \"demand\", \"comparisson\", \"problem\", \"indication\", \"unknown\"]\n",
    "labels = dict(zip(range(7), labels))\n",
    "labels"
   ]
  },
  {
   "cell_type": "code",
   "execution_count": 56,
   "metadata": {},
   "outputs": [
    {
     "data": {
      "text/html": [
       "<div>\n",
       "<style scoped>\n",
       "    .dataframe tbody tr th:only-of-type {\n",
       "        vertical-align: middle;\n",
       "    }\n",
       "\n",
       "    .dataframe tbody tr th {\n",
       "        vertical-align: top;\n",
       "    }\n",
       "\n",
       "    .dataframe thead th {\n",
       "        text-align: right;\n",
       "    }\n",
       "</style>\n",
       "<table border=\"1\" class=\"dataframe\">\n",
       "  <thead>\n",
       "    <tr style=\"text-align: right;\">\n",
       "      <th></th>\n",
       "      <th>messages</th>\n",
       "      <th>tokens</th>\n",
       "      <th>topic</th>\n",
       "      <th>label</th>\n",
       "    </tr>\n",
       "  </thead>\n",
       "  <tbody>\n",
       "    <tr>\n",
       "      <th>0</th>\n",
       "      <td>Hi, how are you?</td>\n",
       "      <td>[hi, how, are, you]</td>\n",
       "      <td>5</td>\n",
       "      <td>indication</td>\n",
       "    </tr>\n",
       "    <tr>\n",
       "      <th>1</th>\n",
       "      <td>I'm ok!!!</td>\n",
       "      <td>['m, ok]</td>\n",
       "      <td>1</td>\n",
       "      <td>salutation</td>\n",
       "    </tr>\n",
       "    <tr>\n",
       "      <th>2</th>\n",
       "      <td>got any sale today?</td>\n",
       "      <td>[got, any, sale, today]</td>\n",
       "      <td>1</td>\n",
       "      <td>salutation</td>\n",
       "    </tr>\n",
       "    <tr>\n",
       "      <th>3</th>\n",
       "      <td>Where is my iphone?!</td>\n",
       "      <td>[where, is, my, iphone]</td>\n",
       "      <td>0</td>\n",
       "      <td>delivery</td>\n",
       "    </tr>\n",
       "    <tr>\n",
       "      <th>4</th>\n",
       "      <td>But it's 5 days already!</td>\n",
       "      <td>[but, it, 's, day, already]</td>\n",
       "      <td>4</td>\n",
       "      <td>problem</td>\n",
       "    </tr>\n",
       "    <tr>\n",
       "      <th>5</th>\n",
       "      <td>ow it's true</td>\n",
       "      <td>[ow, it, 's, true]</td>\n",
       "      <td>3</td>\n",
       "      <td>comparisson</td>\n",
       "    </tr>\n",
       "    <tr>\n",
       "      <th>6</th>\n",
       "      <td>Where is the iphone 10?</td>\n",
       "      <td>[where, is, the, iphone, 10]</td>\n",
       "      <td>0</td>\n",
       "      <td>delivery</td>\n",
       "    </tr>\n",
       "    <tr>\n",
       "      <th>7</th>\n",
       "      <td>Huum, what do you have available?</td>\n",
       "      <td>[hum, what, do, you, have, available]</td>\n",
       "      <td>5</td>\n",
       "      <td>indication</td>\n",
       "    </tr>\n",
       "    <tr>\n",
       "      <th>8</th>\n",
       "      <td>Is the samsung better than the iphone?</td>\n",
       "      <td>[is, the, samsung, better, than, the, iphone]</td>\n",
       "      <td>0</td>\n",
       "      <td>delivery</td>\n",
       "    </tr>\n",
       "    <tr>\n",
       "      <th>9</th>\n",
       "      <td>Good morning!</td>\n",
       "      <td>[good, morning]</td>\n",
       "      <td>1</td>\n",
       "      <td>salutation</td>\n",
       "    </tr>\n",
       "    <tr>\n",
       "      <th>10</th>\n",
       "      <td>Good night!</td>\n",
       "      <td>[good, night]</td>\n",
       "      <td>1</td>\n",
       "      <td>salutation</td>\n",
       "    </tr>\n",
       "    <tr>\n",
       "      <th>11</th>\n",
       "      <td>Good evening</td>\n",
       "      <td>[good, evening]</td>\n",
       "      <td>1</td>\n",
       "      <td>salutation</td>\n",
       "    </tr>\n",
       "    <tr>\n",
       "      <th>12</th>\n",
       "      <td>I'd like to make a complaint</td>\n",
       "      <td>['d, like, to, make, complaint]</td>\n",
       "      <td>2</td>\n",
       "      <td>demand</td>\n",
       "    </tr>\n",
       "    <tr>\n",
       "      <th>13</th>\n",
       "      <td>I'd like to make a exchange</td>\n",
       "      <td>['d, like, to, make, exchange]</td>\n",
       "      <td>2</td>\n",
       "      <td>demand</td>\n",
       "    </tr>\n",
       "    <tr>\n",
       "      <th>14</th>\n",
       "      <td>I'd like to make a refund</td>\n",
       "      <td>['d, like, to, make, refund]</td>\n",
       "      <td>2</td>\n",
       "      <td>demand</td>\n",
       "    </tr>\n",
       "    <tr>\n",
       "      <th>15</th>\n",
       "      <td>What's the best mobile?</td>\n",
       "      <td>[what, 's, the, best, mobile]</td>\n",
       "      <td>0</td>\n",
       "      <td>delivery</td>\n",
       "    </tr>\n",
       "    <tr>\n",
       "      <th>16</th>\n",
       "      <td>my smart phone is broken!</td>\n",
       "      <td>[my, smart, phone, is, broken]</td>\n",
       "      <td>0</td>\n",
       "      <td>delivery</td>\n",
       "    </tr>\n",
       "    <tr>\n",
       "      <th>17</th>\n",
       "      <td>I can't finish my purchase</td>\n",
       "      <td>[ca, don't, finish, my, purchase]</td>\n",
       "      <td>4</td>\n",
       "      <td>problem</td>\n",
       "    </tr>\n",
       "    <tr>\n",
       "      <th>18</th>\n",
       "      <td>the site is not working!</td>\n",
       "      <td>[the, site, is, not, working]</td>\n",
       "      <td>0</td>\n",
       "      <td>delivery</td>\n",
       "    </tr>\n",
       "    <tr>\n",
       "      <th>19</th>\n",
       "      <td>When it is going to arrive?</td>\n",
       "      <td>[when, it, is, going, to, arrive]</td>\n",
       "      <td>0</td>\n",
       "      <td>delivery</td>\n",
       "    </tr>\n",
       "    <tr>\n",
       "      <th>20</th>\n",
       "      <td>What's is the delivery time?</td>\n",
       "      <td>[what, 's, is, the, delivery, time]</td>\n",
       "      <td>0</td>\n",
       "      <td>delivery</td>\n",
       "    </tr>\n",
       "    <tr>\n",
       "      <th>21</th>\n",
       "      <td>this device is really bad</td>\n",
       "      <td>[this, device, is, really, bad]</td>\n",
       "      <td>0</td>\n",
       "      <td>delivery</td>\n",
       "    </tr>\n",
       "    <tr>\n",
       "      <th>22</th>\n",
       "      <td>I need some help choosing a mobile</td>\n",
       "      <td>[need, some, help, choosing, mobile]</td>\n",
       "      <td>3</td>\n",
       "      <td>comparisson</td>\n",
       "    </tr>\n",
       "    <tr>\n",
       "      <th>23</th>\n",
       "      <td>do you accept credit cards?</td>\n",
       "      <td>[do, you, accept, credit, card]</td>\n",
       "      <td>5</td>\n",
       "      <td>indication</td>\n",
       "    </tr>\n",
       "    <tr>\n",
       "      <th>24</th>\n",
       "      <td>the tv arrived already broken</td>\n",
       "      <td>[the, tv, arrived, already, broken]</td>\n",
       "      <td>4</td>\n",
       "      <td>problem</td>\n",
       "    </tr>\n",
       "    <tr>\n",
       "      <th>25</th>\n",
       "      <td>the device arrived already broken</td>\n",
       "      <td>[the, device, arrived, already, broken]</td>\n",
       "      <td>4</td>\n",
       "      <td>problem</td>\n",
       "    </tr>\n",
       "    <tr>\n",
       "      <th>26</th>\n",
       "      <td>the device doesn't work</td>\n",
       "      <td>[the, device, doe, don't, work]</td>\n",
       "      <td>4</td>\n",
       "      <td>problem</td>\n",
       "    </tr>\n",
       "  </tbody>\n",
       "</table>\n",
       "</div>"
      ],
      "text/plain": [
       "                                  messages  \\\n",
       "0                         Hi, how are you?   \n",
       "1                                I'm ok!!!   \n",
       "2                      got any sale today?   \n",
       "3                     Where is my iphone?!   \n",
       "4                 But it's 5 days already!   \n",
       "5                             ow it's true   \n",
       "6                  Where is the iphone 10?   \n",
       "7        Huum, what do you have available?   \n",
       "8   Is the samsung better than the iphone?   \n",
       "9                            Good morning!   \n",
       "10                             Good night!   \n",
       "11                            Good evening   \n",
       "12            I'd like to make a complaint   \n",
       "13             I'd like to make a exchange   \n",
       "14               I'd like to make a refund   \n",
       "15                 What's the best mobile?   \n",
       "16               my smart phone is broken!   \n",
       "17              I can't finish my purchase   \n",
       "18                the site is not working!   \n",
       "19             When it is going to arrive?   \n",
       "20            What's is the delivery time?   \n",
       "21               this device is really bad   \n",
       "22      I need some help choosing a mobile   \n",
       "23             do you accept credit cards?   \n",
       "24           the tv arrived already broken   \n",
       "25       the device arrived already broken   \n",
       "26                 the device doesn't work   \n",
       "\n",
       "                                           tokens  topic        label  \n",
       "0                             [hi, how, are, you]      5   indication  \n",
       "1                                        ['m, ok]      1   salutation  \n",
       "2                         [got, any, sale, today]      1   salutation  \n",
       "3                         [where, is, my, iphone]      0     delivery  \n",
       "4                     [but, it, 's, day, already]      4      problem  \n",
       "5                              [ow, it, 's, true]      3  comparisson  \n",
       "6                    [where, is, the, iphone, 10]      0     delivery  \n",
       "7           [hum, what, do, you, have, available]      5   indication  \n",
       "8   [is, the, samsung, better, than, the, iphone]      0     delivery  \n",
       "9                                 [good, morning]      1   salutation  \n",
       "10                                  [good, night]      1   salutation  \n",
       "11                                [good, evening]      1   salutation  \n",
       "12                ['d, like, to, make, complaint]      2       demand  \n",
       "13                 ['d, like, to, make, exchange]      2       demand  \n",
       "14                   ['d, like, to, make, refund]      2       demand  \n",
       "15                  [what, 's, the, best, mobile]      0     delivery  \n",
       "16                 [my, smart, phone, is, broken]      0     delivery  \n",
       "17              [ca, don't, finish, my, purchase]      4      problem  \n",
       "18                  [the, site, is, not, working]      0     delivery  \n",
       "19              [when, it, is, going, to, arrive]      0     delivery  \n",
       "20            [what, 's, is, the, delivery, time]      0     delivery  \n",
       "21                [this, device, is, really, bad]      0     delivery  \n",
       "22           [need, some, help, choosing, mobile]      3  comparisson  \n",
       "23                [do, you, accept, credit, card]      5   indication  \n",
       "24            [the, tv, arrived, already, broken]      4      problem  \n",
       "25        [the, device, arrived, already, broken]      4      problem  \n",
       "26                [the, device, doe, don't, work]      4      problem  "
      ]
     },
     "execution_count": 56,
     "metadata": {},
     "output_type": "execute_result"
    }
   ],
   "source": [
    "df[\"label\"] = df.topic.replace(labels)\n",
    "df"
   ]
  },
  {
   "cell_type": "markdown",
   "metadata": {},
   "source": [
    "## Applying the model to new messages"
   ]
  },
  {
   "cell_type": "code",
   "execution_count": 61,
   "metadata": {},
   "outputs": [
    {
     "data": {
      "text/plain": [
       "'salutation'"
      ]
     },
     "execution_count": 61,
     "metadata": {},
     "output_type": "execute_result"
    }
   ],
   "source": [
    "message = \"Hello! Good evening\"\n",
    "labels[get_topic(message)]"
   ]
  },
  {
   "cell_type": "code",
   "execution_count": 58,
   "metadata": {},
   "outputs": [
    {
     "data": {
      "text/plain": [
       "'unknown'"
      ]
     },
     "execution_count": 58,
     "metadata": {},
     "output_type": "execute_result"
    }
   ],
   "source": [
    "message = \"ah!\"\n",
    "labels[get_topic(message)]"
   ]
  },
  {
   "cell_type": "markdown",
   "metadata": {},
   "source": [
    " # Keyword detection\n",
    "\n",
    "The keywords, together with the topic prediction, will help to compose a helpful answer.\n",
    " \n",
    " \n",
    " ## Order Number\n",
    " "
   ]
  },
  {
   "cell_type": "code",
   "execution_count": 63,
   "metadata": {},
   "outputs": [
    {
     "data": {
      "text/plain": [
       "['1234567890']"
      ]
     },
     "execution_count": 63,
     "metadata": {},
     "output_type": "execute_result"
    }
   ],
   "source": [
    "def get_order(msg):\n",
    "    tokens = re.findall(\"[0-9]+\", msg)\n",
    "    order = [token for token in tokens if len(token)==10] # order number has size 10\n",
    "    \n",
    "    return order\n",
    "    \n",
    "get_order(\"just bought a iphone, the order is 1234567890\")"
   ]
  },
  {
   "cell_type": "markdown",
   "metadata": {},
   "source": [
    "## Device type"
   ]
  },
  {
   "cell_type": "code",
   "execution_count": 64,
   "metadata": {},
   "outputs": [
    {
     "data": {
      "text/plain": [
       "['mobile', 'freezer']"
      ]
     },
     "execution_count": 64,
     "metadata": {},
     "output_type": "execute_result"
    }
   ],
   "source": [
    "def get_device(msg):\n",
    "    tokens = tokenizator(msg, size=1, lemmatize=0, fix=0)\n",
    "    \n",
    "    # uma lista de objetos de interesse do cliente - alimentar com os produtos vendidos\n",
    "    # podemos utilizar NLP POS - parts of speech para reconhecer o objeto, mas aqui acabou o tempo =D\n",
    "    \n",
    "    possibilities = [\"tv\", \"mobile\", \"television\", \"microwave\", \"site\", \"freezer\", \"tire\", \"pants\"] \n",
    "    \n",
    "    device = [token for token in tokens if token in possibilities]\n",
    "    return device\n",
    "    \n",
    "\n",
    "get_device(\"I need info on a new mobile and freezer\")\n",
    "#get_aparelho(\"preciso de indicação para tv\")"
   ]
  },
  {
   "cell_type": "markdown",
   "metadata": {},
   "source": [
    "# Composing the answer\n",
    "\n",
    "The final answer to the user message will be composed according to:\n",
    "\n",
    "- the predicted topic - each topic will have an auxiliary function\n",
    "- detected keywords\n",
    "\n",
    "\n",
    "We will make use of the following auxiliary functions:\n",
    "\n",
    "- get_topic() - ok\n",
    "- get_device() - ok\n",
    "- get_order() - ok\n",
    "- order_status() # queries a order database to retrive info on the transaction\n",
    "- salute_back() \n",
    "- unknown_msg()\n"
   ]
  },
  {
   "cell_type": "code",
   "execution_count": 65,
   "metadata": {},
   "outputs": [
    {
     "data": {
      "text/plain": [
       "'Good night, dear costumer!'"
      ]
     },
     "execution_count": 65,
     "metadata": {},
     "output_type": "execute_result"
    }
   ],
   "source": [
    "import datetime\n",
    "\n",
    "def salute_back(tipo=\"salute\"):\n",
    "    agora = datetime.datetime.now()\n",
    "    hora = agora.hour\n",
    "    \n",
    "    if tipo == \"salute\":\n",
    "        saudacao = \"Good night\"\n",
    "        if hora in range(12,19):\n",
    "            saudacao = \"Good afternoon\"\n",
    "        if hora in range(6,13):\n",
    "            saudacao = \"Good morning\"\n",
    "        \n",
    "        mensagem = saudacao + \", dear costumer!\"\n",
    "            \n",
    "    else:\n",
    "        mensagem = \"It's {} hours\".format(hora)\n",
    "        \n",
    "    return mensagem\n",
    "        \n",
    "salute_back()"
   ]
  },
  {
   "cell_type": "code",
   "execution_count": 66,
   "metadata": {},
   "outputs": [
    {
     "data": {
      "text/plain": [
       "\"It's 20 hours\""
      ]
     },
     "execution_count": 66,
     "metadata": {},
     "output_type": "execute_result"
    }
   ],
   "source": [
    "salute_back(\"hora\")"
   ]
  },
  {
   "cell_type": "code",
   "execution_count": 68,
   "metadata": {},
   "outputs": [
    {
     "data": {
      "text/plain": [
       "' Status for order 128312983, according to db: status'"
      ]
     },
     "execution_count": 68,
     "metadata": {},
     "output_type": "execute_result"
    }
   ],
   "source": [
    "def order_status(number):\n",
    "    return(\" Status for order {}, according to db: status\".format(number))\n",
    "\n",
    "order_status(128312983)"
   ]
  },
  {
   "cell_type": "code",
   "execution_count": 70,
   "metadata": {
    "collapsed": true
   },
   "outputs": [],
   "source": [
    "unknown_counter = 0"
   ]
  },
  {
   "cell_type": "code",
   "execution_count": 71,
   "metadata": {},
   "outputs": [
    {
     "data": {
      "text/plain": [
       "\"Good night, dear costumer! It's 20 hours and It's all ok here on Earth. How can I help you?\""
      ]
     },
     "execution_count": 71,
     "metadata": {},
     "output_type": "execute_result"
    }
   ],
   "source": [
    "def unknown_msg():\n",
    "    global unknown_counter\n",
    "    messages = [\"It's all ok here on Earth. How can I help you?\",\n",
    "                \"Please be more specific...\",\n",
    "                \"I'm just a tired robot. Please explain, slowly...\",\n",
    "                \"is this a new kind of joke?\"\n",
    "                ]\n",
    "    \n",
    "    if not unknown_counter:\n",
    "        message = \"{} {} and {}\".format(salute_back(), salute_back(\"hora\"), messages[0])\n",
    "    else:\n",
    "        message = messages[unknown_counter]\n",
    "    \n",
    "    unknown_counter += 1\n",
    "    if unknown_counter == 4:\n",
    "        unknown_counter = 1\n",
    "    \n",
    "    return message\n",
    "\n",
    "unknown_msg()\n"
   ]
  },
  {
   "cell_type": "markdown",
   "metadata": {
    "collapsed": true
   },
   "source": [
    "Lets now create a dictionary containing answers to each topic.\n",
    "The first answer on each class assumes that there are no keywords on the message.\n",
    "The second message on each class assumes that keywords are present."
   ]
  },
  {
   "cell_type": "code",
   "execution_count": 97,
   "metadata": {},
   "outputs": [
    {
     "data": {
      "text/plain": [
       "'Good night, dear costumer!'"
      ]
     },
     "execution_count": 97,
     "metadata": {},
     "output_type": "execute_result"
    }
   ],
   "source": [
    "m_delivery = [\"Our delivery time is 5 working days. Please inform the order number so I can fetch more information on it\",\n",
    "              \"Our delivery time is 5 working days. Lets check the order status {}.\"]\n",
    "\n",
    "m_request = [\"Sure thing! What's the order number?\",\n",
    "                 \"Ok. Lets check the order status {}.\"]\n",
    "\n",
    "m_indication = [\"You want indications for what type of device?\",\n",
    "                \"Here are the best deals for {}.\"]\n",
    "\n",
    "m_comparisson = [\"We can help you to choose the best options. What kind of device are you looking for?\",\n",
    "                \"These are the best options for {}.\"]\n",
    "\n",
    "m_problem= [\"Easy! Everything can be fixed. What's going on?\",\n",
    "              \"Easy! Lets fix this issue with {} the best we can.\"]\n",
    "\n",
    "\n",
    "\n",
    "all_answers = {\n",
    "    0: m_delivery,\n",
    "    1: salute_back(),\n",
    "    2: m_request,\n",
    "    3: m_comparisson,\n",
    "    4: m_problem,\n",
    "    5: m_indication,\n",
    "    6: unknown_msg()\n",
    "}\n",
    "\n",
    "all_answers[1]"
   ]
  },
  {
   "cell_type": "markdown",
   "metadata": {},
   "source": [
    "## Answering the costumer\n",
    "\n",
    "Now that all the auxiliary functions are ready, we can compose our answer:"
   ]
  },
  {
   "cell_type": "code",
   "execution_count": 101,
   "metadata": {},
   "outputs": [
    {
     "data": {
      "text/plain": [
       "{0: 'delivery',\n",
       " 1: 'salutation',\n",
       " 2: 'demand',\n",
       " 3: 'comparisson',\n",
       " 4: 'problem',\n",
       " 5: 'indication',\n",
       " 6: 'unknown'}"
      ]
     },
     "execution_count": 101,
     "metadata": {},
     "output_type": "execute_result"
    }
   ],
   "source": [
    "labels"
   ]
  },
  {
   "cell_type": "code",
   "execution_count": 102,
   "metadata": {
    "collapsed": true
   },
   "outputs": [],
   "source": [
    "def sub_resp(var, topic): # ok, just one more auxiliary function\n",
    "    if var:\n",
    "        if var[0].isdigit():\n",
    "            answer = all_answers[topic][1].format(var[0]) + order_status(var[0])\n",
    "        else:\n",
    "            answer = all_answers[topic][1].format(var[0])\n",
    "    else:\n",
    "        answer = all_answers[topic][0]\n",
    "            \n",
    "    return answer\n",
    "\n",
    "def answer_costumer(message): # agora sim\n",
    "\n",
    "    topic = get_topic(message)\n",
    "    n_order = get_order(message)\n",
    "    device = get_device(message)\n",
    "    \n",
    "    if topic in [0,2]:\n",
    "        return sub_resp(n_order, topic)\n",
    "    \n",
    "    if topic in [3,4,5]:\n",
    "        return sub_resp(device, topic)\n",
    "    \n",
    "    if topic == 1:\n",
    "        return all_answers[topic]\n",
    "    else:\n",
    "        return all_answers[topic]\n",
    "    \n",
    "unknown_counter = 0"
   ]
  },
  {
   "cell_type": "code",
   "execution_count": 109,
   "metadata": {
    "collapsed": true
   },
   "outputs": [],
   "source": [
    "message = \"I want a new mobile\""
   ]
  },
  {
   "cell_type": "code",
   "execution_count": 110,
   "metadata": {},
   "outputs": [
    {
     "data": {
      "text/plain": [
       "'These are the best options for mobile.'"
      ]
     },
     "execution_count": 110,
     "metadata": {},
     "output_type": "execute_result"
    }
   ],
   "source": [
    "answer_costumer(message)"
   ]
  },
  {
   "cell_type": "code",
   "execution_count": 105,
   "metadata": {},
   "outputs": [
    {
     "data": {
      "text/plain": [
       "'Good night, dear costumer!'"
      ]
     },
     "execution_count": 105,
     "metadata": {},
     "output_type": "execute_result"
    }
   ],
   "source": [
    "answer_costumer(\"good morning!\")"
   ]
  },
  {
   "cell_type": "code",
   "execution_count": 106,
   "metadata": {},
   "outputs": [
    {
     "data": {
      "text/plain": [
       "'Please be more specific...'"
      ]
     },
     "execution_count": 106,
     "metadata": {},
     "output_type": "execute_result"
    }
   ],
   "source": [
    "answer_costumer(\"whacka whacka whacka!\")"
   ]
  },
  {
   "cell_type": "code",
   "execution_count": 108,
   "metadata": {},
   "outputs": [
    {
     "data": {
      "text/plain": [
       "'Our delivery time is 5 working days. Lets check the order status 1234567890. Status for order 1234567890, according to db: status'"
      ]
     },
     "execution_count": 108,
     "metadata": {},
     "output_type": "execute_result"
    }
   ],
   "source": [
    "answer_costumer(\"whats the eta for order 1234567890?\")"
   ]
  },
  {
   "cell_type": "markdown",
   "metadata": {},
   "source": [
    "# Scalability \n",
    "\n",
    "In order to optimize the processing time, the *gensim* package offers alternate ways to train a LDA model.\n",
    "\n",
    "Among them, are:\n",
    "\n",
    "- set up a cluster and compute the job in a distributed fashion.\n",
    "- Instead of running 100 or n steps, the batch mode, we can use the \"on line\" mode, where only a subset of size m of the messages will be taken into account to train the model. After the model is ready, it will take another subset, process it and then update the model. It will keep processing the subsets and updating the final model.\n",
    "- a mix of both modes\n",
    "\n",
    "\n",
    "Next, we will compare both modes in terms of computation time.\n",
    "\n",
    "To do so, lets simulate a collection 1000 times larger than ours.m o modo batch (10 passadas). Para isso, vamos simular um \"corpo\" com tamanho 1000 vezes maior que o nosso \"corpo de mensagens\"\n"
   ]
  },
  {
   "cell_type": "code",
   "execution_count": 111,
   "metadata": {
    "collapsed": true
   },
   "outputs": [],
   "source": [
    "import time\n",
    "body2 = body*1000"
   ]
  },
  {
   "cell_type": "code",
   "execution_count": 112,
   "metadata": {},
   "outputs": [
    {
     "name": "stdout",
     "output_type": "stream",
     "text": [
      "\n",
      " --- 64.2224 segundos ---\n"
     ]
    }
   ],
   "source": [
    "start = time.time()\n",
    "\n",
    "model_bath = models.ldamodel.LdaModel(body2, num_topics=6, id2word = dictionary, passes=10)\n",
    "    \n",
    "print(\"\\n --- %s seconds ---\" % round((time.time() - start),4))"
   ]
  },
  {
   "cell_type": "markdown",
   "metadata": {},
   "source": [
    "It was necessary 65 seconds to process the model in batch mode on this machine (Core i5, 4Gb of RAM)"
   ]
  },
  {
   "cell_type": "code",
   "execution_count": 113,
   "metadata": {},
   "outputs": [
    {
     "name": "stdout",
     "output_type": "stream",
     "text": [
      "\n",
      " --- 9.1031 seconds ---\n"
     ]
    }
   ],
   "source": [
    "start = time.time()\n",
    "\n",
    "model_online = models.ldamodel.LdaModel(body2, num_topics=6, id2word = dictionary, update_every=1, chunksize=100, passes=1)\n",
    "    \n",
    "print(\"\\n --- %s seconds ---\" % round((time.time() - start),4))"
   ]
  },
  {
   "cell_type": "markdown",
   "metadata": {},
   "source": [
    "It was necessary 9 seconds to process the model in on line mode on this machine (Core i5, 4Gb of RAM)"
   ]
  },
  {
   "cell_type": "code",
   "execution_count": 115,
   "metadata": {},
   "outputs": [
    {
     "data": {
      "text/plain": [
       "[(0, '0.114*\"is\" + 0.086*\"the\" + 0.086*\"my\"'),\n",
       " (1, '0.136*\"to\" + 0.136*\"make\" + 0.136*\"\\'d\"'),\n",
       " (2, '0.111*\"good\" + 0.111*\"is\" + 0.111*\"device\"'),\n",
       " (3, '0.166*\"mobile\" + 0.083*\"good\" + 0.083*\"the\"'),\n",
       " (4, '0.120*\"\\'s\" + 0.120*\"it\" + 0.080*\"is\"'),\n",
       " (5, '0.095*\"broken\" + 0.095*\"the\" + 0.095*\"already\"')]"
      ]
     },
     "execution_count": 115,
     "metadata": {},
     "output_type": "execute_result"
    }
   ],
   "source": [
    "model_bath.print_topics(num_words=3)"
   ]
  },
  {
   "cell_type": "code",
   "execution_count": 114,
   "metadata": {},
   "outputs": [
    {
     "data": {
      "text/plain": [
       "[(0, '0.182*\"\\'s\" + 0.182*\"it\" + 0.091*\"night\"'),\n",
       " (1, '0.143*\"is\" + 0.048*\"mobile\" + 0.048*\"help\"'),\n",
       " (2, '0.143*\"the\" + 0.095*\"device\" + 0.095*\"broken\"'),\n",
       " (3, '0.154*\"good\" + 0.154*\"is\" + 0.154*\"iphone\"'),\n",
       " (4, '0.115*\"you\" + 0.077*\"do\" + 0.077*\"the\"'),\n",
       " (5, '0.094*\"the\" + 0.094*\"to\" + 0.094*\"like\"')]"
      ]
     },
     "execution_count": 114,
     "metadata": {},
     "output_type": "execute_result"
    }
   ],
   "source": [
    "model_online.print_topics(num_words=3)"
   ]
  },
  {
   "cell_type": "markdown",
   "metadata": {},
   "source": [
    "## Final thoughts\n",
    "\n",
    "\n",
    "The model could benefit from more fine tunning. Also, feeding it with a proper collection\n",
    "of documents would help to improve the results.\n",
    "\n",
    "I've used such a small database because originally this was an actual challenge \n",
    "proposed on a job interview. The original notebook was in portuguese, so this is a translation from it.\n",
    "\n",
    "The same task could be done with other methods, such as tf-idf, PCA, LSA, etc... but lda \n",
    "should provide better accuracy, as I mentioned before.\n",
    "\n",
    "\n"
   ]
  },
  {
   "cell_type": "markdown",
   "metadata": {},
   "source": [
    "## About me\n",
    "\n",
    "\n",
    "https://github.com/erickfis\n",
    "\n",
    "My skills:\n",
    "\n",
    "    - R & Python (Pandas, SciPy, scikit-learn, dplyr, caret)\n",
    "    - BI Tableau, Google Vis, ggPlot, Shiny Dashboards\n",
    "    - MySQL / Teradata, NoSQL, MongoDB, Apache Cassandra\n",
    "    - Hadoop, Amazon Web Services – AWS EC2\n",
    "    - Machine Learning & Regression models, Decision Trees, etc\n",
    "    - Natural Language Processing – NLP\n",
    "    - Clustering / Association rules\n",
    "    - Inferential statistics, A/B testing\n",
    "    - Exploratory data analysis\n",
    "    - Git / Github\n",
    "    - Rmarkdown Reproducible Research / Jupyter Notebooks\n",
    "    - Physicist\n",
    "    \n",
    "\n",
    "*Erick Gomes Anastácio*\n"
   ]
  }
 ],
 "metadata": {
  "kernelspec": {
   "display_name": "Python 3",
   "language": "python",
   "name": "python3"
  },
  "language_info": {
   "codemirror_mode": {
    "name": "ipython",
    "version": 3
   },
   "file_extension": ".py",
   "mimetype": "text/x-python",
   "name": "python",
   "nbconvert_exporter": "python",
   "pygments_lexer": "ipython3",
   "version": "3.6.2"
  }
 },
 "nbformat": 4,
 "nbformat_minor": 2
}
