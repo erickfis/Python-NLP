{
 "cells": [
  {
   "cell_type": "markdown",
   "metadata": {},
   "source": [
    "# Natural language processing for Topic Modeling\n",
    "\n",
    "\n",
    "Using python + natural language processing for topic modeling: a unsupervised technique for document classification\n",
    "\n",
    "https://github.com/erickfis\n",
    "\n",
    "\n",
    "## Topic modeling\n",
    "\n",
    "Imagine you have a huge collection of documents, each one talking about a specific matter|subject.\n",
    "A document could be a movie description, or part of a book, a message, a tweet, etc...\n",
    "\n",
    "\n",
    "If you take the time to read each document, you will learn that they are talking about science, or politics,\n",
    "or medicine, or sports, etc, but very often they don't have a label specifying the subject.\n",
    "\n",
    "\n",
    "Now it's your job to group them by subject. Will you read each one of them and label one by one?\n",
    "What if your collection contains 1 billion documents?\n",
    "\n",
    "\n",
    "This is where *Topic modeling* comes in hand: it is a very useful technique for document classification through unsupervised learning. It will learn from the collection of documents as a whole and then suggest groups (clusters) of documents by similarities, such as frequency or probabilities for words on each document.\n",
    "\n",
    "\n",
    "After the documents are split into the suggested groups, we can then look at each group (through samples of them) and choose a proper label for it.\n",
    "\n",
    "\n",
    "This clustering of documents by topic|subject can be achieved by different techniques:\n",
    "\n",
    "- tf-idf + clustering\n",
    "- tf-idf + PCA\n",
    "- Latent semantic analysis - LSA\n",
    "- Latent Dirichlet Allocation - LDA\n",
    "\n",
    "On this notebook we will discuss the LDA method.\n",
    "\n",
    "## LDA - Latent Dirichlet Allocation\n",
    "\n",
    "LDA is a especial case of the Latent semantic analysis, where the priors distribution of topics are assumed to be\n",
    "of the beta multivariate type, aka. Dirichlet distribution.\n",
    "\n",
    "The main advantage of LDA over LSI, PCA or regular clustering is that LDA is capable of detecting intermediary topics between the ones that would be detected by the former, as they will work on principal components and detect only orthogonal\n",
    "topics. Thus, LDA reduces overfitting and increases accuracy.\n",
    "\n",
    "\n",
    "On the other hand, LDA demands more computation time.\n",
    "\n",
    "\n",
    "https://en.wikipedia.org/wiki/Latent_Dirichlet_allocation\n",
    "\n",
    "\n",
    "## Use case: chat bots\n",
    "\n",
    "Imagine we are a big on line retailer and we want to provide a new communication channel for our costumers.\n",
    "\n",
    "We had a real time on line chat before and we were using a human attendant to answer our costumers. We have stored all of the costumers messages on our database and now we want to create an algorithm that is capable of answering costumers just like a human attendant would.\n",
    "\n",
    "But how to answer our costumers in a natural way, simulating the behavior of a human attendant?\n",
    "\n",
    "The achieve that goal, we are going to use natural language processing and topic modeling. We will combine different techniques for analyzing the costumers queries and questions to elaborate an appropriate natural answer.\n",
    "\n",
    "The techniques are:\n",
    "\n",
    "- topic modeling - to orient the composition of a proper answer according to the detected subject of conversation.\n",
    "IE: if the subject is a complaint, the algorithm should compose an answer taking this information into account.\n",
    "If the message is a salutation, then salute back.\n",
    "- keyword detection, as order number, or some specific product.\n",
    "\n",
    "\n",
    "## Retrieving stored messages from our database\n",
    "\n",
    "In order to \"train\" our algorithm, we must retrieve stored data from our databases.\n",
    "Note that this is not the typical training process because we don't have any targets or labels ready at this point. This is, in fact, a unsupervised training process.\n",
    "\n",
    "If the database in question is a NoSQL, like MongoDB, we could run queries like:\n",
    "\n",
    "    db.mensagens.find(\n",
    "        {\n",
    "        $and: [\n",
    "                {\"user\": {$in: [\"user_1\", \"user_2\", \"attd_1\", \"sell_1\"]}},\n",
    "                {\"message\": {$ne: null}}\n",
    "              ]\n",
    "        }\n",
    "    ).pretty()\n",
    "\n",
    "on MongoDB Compass.\n",
    "\n",
    "\n",
    "If the messages are stored in a xml format, we could use the Beautiful Soup library to scrap the data:\n",
    "\n",
    "    db = BeautifulSoup(open('db.xml').read(), \"lxml\")\n",
    "    messages = db.findAll('message')\n",
    "\n",
    "If the messages are stored on a txt file, we could scrap then using something as simple as:\n",
    "\n",
    "    messages = []\n",
    "    with open(db.txt, \"rb\") as incoming:\n",
    "            for line in incoming:\n",
    "                if line.startswith('user'):\n",
    "                    messages.append(line)\n",
    "\n",
    "### Getting the messages from the available database\n",
    "\n",
    "For this very particular notebook, we are going to use a very small set of messages containing some conversation between costumers and the attendants. The costumers are identified by the id \"user_1\"\n"
   ]
  },
  {
   "cell_type": "code",
   "execution_count": 1,
   "metadata": {
    "collapsed": true
   },
   "outputs": [],
   "source": [
    "conversations = [\n",
    "\n",
    "    # small talk\n",
    "    [\n",
    "        {'user': 'user_1', 'message': 'Hi, how are you?', 'status': ''},\n",
    "        {'user': 'user_2', 'message': 'fine! and you?   ', 'status': ''},\n",
    "        {'user': 'user_1', 'message': ' I\\'m ok!!!', 'status': ''},\n",
    "        {'user': 'user_1', 'message': 'got any sale today?', 'status': ''},\n",
    "        {'user': 'user_2', 'message': 'today we have a 50\\\"tv\" \\n ', 'status': ''},\n",
    "    ],\n",
    "    \n",
    "    # customer service\n",
    "    [\n",
    "        {'user': 'user_1', 'message': 'Where is my iphone?!'                          , 'status': 'payment_approved'},\n",
    "        {'user': 'attd_1', 'message': 'Hello, your payment has been approved'         , 'status': 'payment_approved'},\n",
    "        {'user': 'attd_1', 'message': 'Is the product on delivery route'              , 'status': 'payment_approved'},\n",
    "        {'user': 'user_1', 'message': 'But it\\'s 5 days already!'                     , 'status': 'payment_approved'},\n",
    "        {'user': 'attd_1', 'message': 'our delivery should take five working days '   , 'status': 'payment_approved'},\n",
    "        {'user': 'user_1', 'message': 'ow it\\'s true'                                 , 'status': 'payment_approved'},\n",
    "    ],\n",
    "    \n",
    "    # sale\n",
    "    [\n",
    "        {'user': 'user_1', 'message': 'Where is the iphone 10?'                     , 'status': 'shopping'},\n",
    "        {'user': 'sell_1', 'message': 'Hello! the iphone X it is out of stock;'     , 'status': 'shopping'},\n",
    "        {'user': 'user_1', 'message': 'Huum, what do you have available?'           , 'status': 'shopping'},\n",
    "        {'user': 'sell_1', 'message': 'We have the iphone X plus and the samsung s8', 'status': 'shopping'},\n",
    "        {'user': 'user_1', 'message': 'Is the samsung better than the iphone?'      , 'status': 'shopping'},\n",
    "        {'user': 'sell_1', 'message': 'They are different, but they are the best'   , 'status': 'shopping'},\n",
    "    ],\n",
    "]"
   ]
  },
  {
   "cell_type": "code",
   "execution_count": 2,
   "metadata": {},
   "outputs": [
    {
     "data": {
      "text/plain": [
       "['Hi, how are you?',\n",
       " \" I'm ok!!!\",\n",
       " 'got any sale today?',\n",
       " 'Where is my iphone?!',\n",
       " \"But it's 5 days already!\",\n",
       " \"ow it's true\",\n",
       " 'Where is the iphone 10?',\n",
       " 'Huum, what do you have available?',\n",
       " 'Is the samsung better than the iphone?']"
      ]
     },
     "execution_count": 2,
     "metadata": {},
     "output_type": "execute_result"
    }
   ],
   "source": [
    "# lets retrieve only the costumers messages\n",
    "user_messages = []\n",
    "\n",
    "for chat in conversations:\n",
    "    user_messages.append([message[\"message\"] for message in chat if message[\"user\"]==\"user_1\"])\n",
    "\n",
    "user_messages = sum(user_messages, [])\n",
    "user_messages"
   ]
  },
  {
   "cell_type": "code",
   "execution_count": 3,
   "metadata": {
    "collapsed": true
   },
   "outputs": [],
   "source": [
    "# lets add some commom costumer messages to the list\n",
    "\n",
    "add_msg = [\"Good morning!\",\n",
    "              \"Good night!\",\n",
    "              \"Good evening\",\n",
    "              \"I'd like to make a complaint\",\n",
    "              \"I'd like to make a exchange\",\n",
    "              \"I'd like to make a refund\",\n",
    "              \"What's the best mobile?\",\n",
    "              \"my smart phone is broken!\",\n",
    "              \"I can't finish my purchase\",\n",
    "              \"the site is not working!\",\n",
    "              \"When it is going to arrive?\",\n",
    "              \"What's is the delivery time?\",\n",
    "              \"this device is really bad\",\n",
    "              \"I need some help choosing a mobile\",\n",
    "              \"do you accept credit cards?\",\n",
    "              \"the tv arrived already broken\",\n",
    "              \"the device arrived already broken\",\n",
    "              \"the device doesn't work\"\n",
    "             ]"
   ]
  },
  {
   "cell_type": "code",
   "execution_count": 4,
   "metadata": {},
   "outputs": [
    {
     "data": {
      "text/plain": [
       "['Hi, how are you?',\n",
       " \" I'm ok!!!\",\n",
       " 'got any sale today?',\n",
       " 'Where is my iphone?!',\n",
       " \"But it's 5 days already!\",\n",
       " \"ow it's true\",\n",
       " 'Where is the iphone 10?',\n",
       " 'Huum, what do you have available?',\n",
       " 'Is the samsung better than the iphone?',\n",
       " 'Good morning!',\n",
       " 'Good night!',\n",
       " 'Good evening',\n",
       " \"I'd like to make a complaint\",\n",
       " \"I'd like to make a exchange\",\n",
       " \"I'd like to make a refund\",\n",
       " \"What's the best mobile?\",\n",
       " 'my smart phone is broken!',\n",
       " \"I can't finish my purchase\",\n",
       " 'the site is not working!',\n",
       " 'When it is going to arrive?',\n",
       " \"What's is the delivery time?\",\n",
       " 'this device is really bad',\n",
       " 'I need some help choosing a mobile',\n",
       " 'do you accept credit cards?',\n",
       " 'the tv arrived already broken',\n",
       " 'the device arrived already broken',\n",
       " \"the device doesn't work\"]"
      ]
     },
     "execution_count": 4,
     "metadata": {},
     "output_type": "execute_result"
    }
   ],
   "source": [
    "all_msg = user_messages+add_msg\n",
    "all_msg"
   ]
  },
  {
   "cell_type": "markdown",
   "metadata": {},
   "source": [
    "# Pre-processing\n",
    "\n",
    "In order to get the messages classified by topics, we must perform some pre-processing on them. \n",
    "\n",
    "The LDA Topic Modeling sees the documents as bag of words (BOW), \n",
    "so we need to start by transforming each message that way.\n",
    "\n",
    "The first step to get our BOW, we must build a token generator that provides:\n",
    "\n",
    "- lowercase on each word\n",
    "- remove numbers, we are assuming here that they won't help here\n",
    "- remove small words, with less than 2 characters long\n",
    "- spell check\n",
    "- stem|lemmatize the words (IE get only their \"root\")\n",
    "\n",
    "Those restrictions are going to be applied in order to avoid unnecessary complexity: there's no evident gains otherwise.\n",
    "\n",
    "So, we are assuming the following words to be seen as the same by our model:\n",
    "- Mobile|mobile|mobiles\n",
    "- boy|boys\n",
    "- girl|girls\n",
    "- samsung|sansumg|Sannsungui"
   ]
  },
  {
   "cell_type": "markdown",
   "metadata": {},
   "source": [
    "## Spell Check\n",
    "\n",
    "The chosen spell checker is the *enchant project*: https://github.com/AbiWord/enchant\n",
    "\n",
    "It depends on the local dictionary, so we must install myspell:\n",
    "\n",
    "    # sudo apt-get install myspell-en-us\n",
    "\n",
    "Besides, lets add some words to the dictionary, as manufactures and products:"
   ]
  },
  {
   "cell_type": "code",
   "execution_count": 5,
   "metadata": {
    "collapsed": true
   },
   "outputs": [],
   "source": [
    "terms = [\"samsung\", \"motorola\", \"apple\", \"iphone\", \"pixel\", \"google\", \"I'd\" ]\n",
    "\n",
    "file = \"terms.txt\"\n",
    "with open(file, \"w\") as text_file:\n",
    "    for term in terms:\n",
    "        print(term, file=text_file)\n"
   ]
  },
  {
   "cell_type": "code",
   "execution_count": 6,
   "metadata": {},
   "outputs": [
    {
     "data": {
      "text/plain": [
       "True"
      ]
     },
     "execution_count": 6,
     "metadata": {},
     "output_type": "execute_result"
    }
   ],
   "source": [
    "import enchant\n",
    "d = enchant.DictWithPWL(\"en_US\",file)\n",
    "d.check(\"Samsung\") # if true, it means that the spell checker knowns the word"
   ]
  },
  {
   "cell_type": "markdown",
   "metadata": {},
   "source": [
    "### Getting better suggestions from enchant\n",
    "\n",
    "The enchant.suggest() method provides a list of candidates for fixing the spelling. \n",
    "Usually the first option is the best, but it doesn't always works as expected:"
   ]
  },
  {
   "cell_type": "code",
   "execution_count": 7,
   "metadata": {},
   "outputs": [
    {
     "data": {
      "text/plain": [
       "['Jung', 'Smugging', 'Samarkand', 'Samsung']"
      ]
     },
     "execution_count": 7,
     "metadata": {},
     "output_type": "execute_result"
    }
   ],
   "source": [
    "d.suggest(\"Samjung\")"
   ]
  },
  {
   "cell_type": "markdown",
   "metadata": {},
   "source": [
    "Instead, we should chose a proper fix through a similarity comparison:\n",
    "\n",
    "Thus, we will use the methods:\n",
    "\n",
    "    difflib.SequenceMatcher()\n",
    "    difflib.SequenceMatcher().ratio()\n",
    "\n",
    "The sequenceMatcher method compares pairs in a human friendly way. \n",
    "The ratio() method evaluates the similarity of the pair. Values above 0.6 indicates we have a match."
   ]
  },
  {
   "cell_type": "code",
   "execution_count": 8,
   "metadata": {},
   "outputs": [
    {
     "data": {
      "text/plain": [
       "0.36363636363636365"
      ]
     },
     "execution_count": 8,
     "metadata": {},
     "output_type": "execute_result"
    }
   ],
   "source": [
    "import difflib\n",
    "difflib.SequenceMatcher(None, \"samsung\", \"sony\").ratio()"
   ]
  },
  {
   "cell_type": "code",
   "execution_count": 9,
   "metadata": {},
   "outputs": [
    {
     "data": {
      "text/plain": [
       "0.7142857142857143"
      ]
     },
     "execution_count": 9,
     "metadata": {},
     "output_type": "execute_result"
    }
   ],
   "source": [
    "difflib.SequenceMatcher(None, \"samsung\", \"sansumg\").ratio()"
   ]
  },
  {
   "cell_type": "code",
   "execution_count": 10,
   "metadata": {
    "collapsed": true
   },
   "outputs": [],
   "source": [
    "def spell_checker(word):\n",
    "    \n",
    "    best_fix = \"\"\n",
    "    best_ratio = 0 # começando com similaridade 0\n",
    "\n",
    "    sugestions = set(d.suggest(word))\n",
    "    for sugestion in sugestions:\n",
    "        tmp = difflib.SequenceMatcher(None, word, sugestion).ratio()\n",
    "        if tmp > best_ratio:\n",
    "            best_fix = sugestion\n",
    "            best_ratio = tmp # aumenta o nível para próximas comparações\n",
    "\n",
    "    return best_fix\n"
   ]
  },
  {
   "cell_type": "code",
   "execution_count": 11,
   "metadata": {},
   "outputs": [
    {
     "data": {
      "text/plain": [
       "'samsung'"
      ]
     },
     "execution_count": 11,
     "metadata": {},
     "output_type": "execute_result"
    }
   ],
   "source": [
    "spell_checker(\"samsungui\")"
   ]
  },
  {
   "cell_type": "code",
   "execution_count": 12,
   "metadata": {},
   "outputs": [
    {
     "data": {
      "text/plain": [
       "'samsung'"
      ]
     },
     "execution_count": 12,
     "metadata": {},
     "output_type": "execute_result"
    }
   ],
   "source": [
    "spell_checker(\"samjung\")"
   ]
  },
  {
   "cell_type": "markdown",
   "metadata": {},
   "source": [
    "## The token generator\n",
    "\n",
    "\n",
    "The token generator will transform the messages into BOW.\n",
    "\n",
    "It musts:\n",
    "\n",
    "- lowercase on each word\n",
    "- split the message into words, removing numbers\n",
    "- remove small words, with less than 2 characters long\n",
    "- apply spell check\n",
    "- stem or lemmatize the words\n",
    "\n",
    "\n",
    "Stemming is faster but lemmatizing is more precise, although it takes more computing time.\n",
    "\n",
    "From the wikipedia\n",
    "\n",
    "    Lemmatisation is closely related to stemming. The difference is that a stemmer operates on a single word without knowledge of the context, and therefore cannot discriminate between words which have different meanings depending on part of speech. However, stemmers are typically easier to implement and run faster, and the reduced accuracy may not matter for some applications.\n",
    "\n",
    "http://en.wikipedia.org/wiki/Lemmatisation\n",
    "\n",
    "\n",
    "The choice between the former or the later really depends on the application. Sometimes just stemming will be enough.\n"
   ]
  },
  {
   "cell_type": "code",
   "execution_count": 13,
   "metadata": {
    "collapsed": true
   },
   "outputs": [],
   "source": [
    "import nltk\n",
    "from nltk.stem import WordNetLemmatizer\n",
    "lemma = WordNetLemmatizer()\n",
    "from nltk.corpus import stopwords\n",
    "stopWords = set(stopwords.words('english'))\n",
    "import re # for regular expressions"
   ]
  },
  {
   "cell_type": "code",
   "execution_count": 14,
   "metadata": {
    "collapsed": true
   },
   "outputs": [],
   "source": [
    "def tokenizator(message, size=2, fix=1, lemmatize=1):\n",
    "\n",
    "    message = message.lower() # lowercase\n",
    "    \n",
    "    # get tokens, including acentuation, exclude pontuation and numbers\n",
    "    tokens = re.findall(\"[-'a-zA-ZÀ-ÖØ-öø-ÿ]+\", message) \n",
    "    \n",
    "    ## filter words by size\n",
    "    tokens = [token for token in tokens if len(token) > size] \n",
    "    \n",
    "    # spell check and correction only if needed\n",
    "    if fix:\n",
    "        tokens = [spell_checker(token) if not d.check(token) else token for token in tokens]\n",
    "    \n",
    "    # stemming words\n",
    "    if lemmatize:\n",
    "        tokens = [lemma.lemmatize(t) for t in tokens] \n",
    "    \n",
    "    # lets keep stop words by now because the documents are already too small\n",
    "    #tokens = [t for t in tokens if t not in stopWords] # remove stopwords\n",
    "    \n",
    "    return tokens"
   ]
  },
  {
   "cell_type": "markdown",
   "metadata": {},
   "source": [
    "### Applying the token generator\n",
    "\n",
    "Lets now transform the messages from our database in tokens, as this is required to later obtain our bag of words."
   ]
  },
  {
   "cell_type": "code",
   "execution_count": 15,
   "metadata": {},
   "outputs": [],
   "source": [
    "tokens = map(lambda x: tokenizator(x), all_msg)\n",
    "msg_pro = list(tokens)"
   ]
  },
  {
   "cell_type": "code",
   "execution_count": 16,
   "metadata": {},
   "outputs": [
    {
     "data": {
      "text/html": [
       "<div>\n",
       "<style scoped>\n",
       "    .dataframe tbody tr th:only-of-type {\n",
       "        vertical-align: middle;\n",
       "    }\n",
       "\n",
       "    .dataframe tbody tr th {\n",
       "        vertical-align: top;\n",
       "    }\n",
       "\n",
       "    .dataframe thead th {\n",
       "        text-align: right;\n",
       "    }\n",
       "</style>\n",
       "<table border=\"1\" class=\"dataframe\">\n",
       "  <thead>\n",
       "    <tr style=\"text-align: right;\">\n",
       "      <th></th>\n",
       "      <th>origin</th>\n",
       "      <th>tokenized</th>\n",
       "    </tr>\n",
       "  </thead>\n",
       "  <tbody>\n",
       "    <tr>\n",
       "      <th>0</th>\n",
       "      <td>Hi, how are you?</td>\n",
       "      <td>[how, are, you]</td>\n",
       "    </tr>\n",
       "    <tr>\n",
       "      <th>1</th>\n",
       "      <td>I'm ok!!!</td>\n",
       "      <td>[ism]</td>\n",
       "    </tr>\n",
       "    <tr>\n",
       "      <th>2</th>\n",
       "      <td>got any sale today?</td>\n",
       "      <td>[got, any, sale, today]</td>\n",
       "    </tr>\n",
       "    <tr>\n",
       "      <th>3</th>\n",
       "      <td>Where is my iphone?!</td>\n",
       "      <td>[where, iphone]</td>\n",
       "    </tr>\n",
       "    <tr>\n",
       "      <th>4</th>\n",
       "      <td>But it's 5 days already!</td>\n",
       "      <td>[but, it's, day, already]</td>\n",
       "    </tr>\n",
       "    <tr>\n",
       "      <th>5</th>\n",
       "      <td>ow it's true</td>\n",
       "      <td>[it's, true]</td>\n",
       "    </tr>\n",
       "    <tr>\n",
       "      <th>6</th>\n",
       "      <td>Where is the iphone 10?</td>\n",
       "      <td>[where, the, iphone]</td>\n",
       "    </tr>\n",
       "    <tr>\n",
       "      <th>7</th>\n",
       "      <td>Huum, what do you have available?</td>\n",
       "      <td>[hum, what, you, have, available]</td>\n",
       "    </tr>\n",
       "    <tr>\n",
       "      <th>8</th>\n",
       "      <td>Is the samsung better than the iphone?</td>\n",
       "      <td>[the, samsung, better, than, the, iphone]</td>\n",
       "    </tr>\n",
       "    <tr>\n",
       "      <th>9</th>\n",
       "      <td>Good morning!</td>\n",
       "      <td>[good, morning]</td>\n",
       "    </tr>\n",
       "    <tr>\n",
       "      <th>10</th>\n",
       "      <td>Good night!</td>\n",
       "      <td>[good, night]</td>\n",
       "    </tr>\n",
       "    <tr>\n",
       "      <th>11</th>\n",
       "      <td>Good evening</td>\n",
       "      <td>[good, evening]</td>\n",
       "    </tr>\n",
       "    <tr>\n",
       "      <th>12</th>\n",
       "      <td>I'd like to make a complaint</td>\n",
       "      <td>[it'd, like, make, complaint]</td>\n",
       "    </tr>\n",
       "    <tr>\n",
       "      <th>13</th>\n",
       "      <td>I'd like to make a exchange</td>\n",
       "      <td>[it'd, like, make, exchange]</td>\n",
       "    </tr>\n",
       "    <tr>\n",
       "      <th>14</th>\n",
       "      <td>I'd like to make a refund</td>\n",
       "      <td>[it'd, like, make, refund]</td>\n",
       "    </tr>\n",
       "    <tr>\n",
       "      <th>15</th>\n",
       "      <td>What's the best mobile?</td>\n",
       "      <td>[what's, the, best, mobile]</td>\n",
       "    </tr>\n",
       "    <tr>\n",
       "      <th>16</th>\n",
       "      <td>my smart phone is broken!</td>\n",
       "      <td>[smart, phone, broken]</td>\n",
       "    </tr>\n",
       "    <tr>\n",
       "      <th>17</th>\n",
       "      <td>I can't finish my purchase</td>\n",
       "      <td>[can't, finish, purchase]</td>\n",
       "    </tr>\n",
       "    <tr>\n",
       "      <th>18</th>\n",
       "      <td>the site is not working!</td>\n",
       "      <td>[the, site, not, working]</td>\n",
       "    </tr>\n",
       "    <tr>\n",
       "      <th>19</th>\n",
       "      <td>When it is going to arrive?</td>\n",
       "      <td>[when, going, arrive]</td>\n",
       "    </tr>\n",
       "    <tr>\n",
       "      <th>20</th>\n",
       "      <td>What's is the delivery time?</td>\n",
       "      <td>[what's, the, delivery, time]</td>\n",
       "    </tr>\n",
       "    <tr>\n",
       "      <th>21</th>\n",
       "      <td>this device is really bad</td>\n",
       "      <td>[this, device, really, bad]</td>\n",
       "    </tr>\n",
       "    <tr>\n",
       "      <th>22</th>\n",
       "      <td>I need some help choosing a mobile</td>\n",
       "      <td>[need, some, help, choosing, mobile]</td>\n",
       "    </tr>\n",
       "    <tr>\n",
       "      <th>23</th>\n",
       "      <td>do you accept credit cards?</td>\n",
       "      <td>[you, accept, credit, card]</td>\n",
       "    </tr>\n",
       "    <tr>\n",
       "      <th>24</th>\n",
       "      <td>the tv arrived already broken</td>\n",
       "      <td>[the, arrived, already, broken]</td>\n",
       "    </tr>\n",
       "    <tr>\n",
       "      <th>25</th>\n",
       "      <td>the device arrived already broken</td>\n",
       "      <td>[the, device, arrived, already, broken]</td>\n",
       "    </tr>\n",
       "    <tr>\n",
       "      <th>26</th>\n",
       "      <td>the device doesn't work</td>\n",
       "      <td>[the, device, doesn't, work]</td>\n",
       "    </tr>\n",
       "  </tbody>\n",
       "</table>\n",
       "</div>"
      ],
      "text/plain": [
       "                                    origin  \\\n",
       "0                         Hi, how are you?   \n",
       "1                                I'm ok!!!   \n",
       "2                      got any sale today?   \n",
       "3                     Where is my iphone?!   \n",
       "4                 But it's 5 days already!   \n",
       "5                             ow it's true   \n",
       "6                  Where is the iphone 10?   \n",
       "7        Huum, what do you have available?   \n",
       "8   Is the samsung better than the iphone?   \n",
       "9                            Good morning!   \n",
       "10                             Good night!   \n",
       "11                            Good evening   \n",
       "12            I'd like to make a complaint   \n",
       "13             I'd like to make a exchange   \n",
       "14               I'd like to make a refund   \n",
       "15                 What's the best mobile?   \n",
       "16               my smart phone is broken!   \n",
       "17              I can't finish my purchase   \n",
       "18                the site is not working!   \n",
       "19             When it is going to arrive?   \n",
       "20            What's is the delivery time?   \n",
       "21               this device is really bad   \n",
       "22      I need some help choosing a mobile   \n",
       "23             do you accept credit cards?   \n",
       "24           the tv arrived already broken   \n",
       "25       the device arrived already broken   \n",
       "26                 the device doesn't work   \n",
       "\n",
       "                                    tokenized  \n",
       "0                             [how, are, you]  \n",
       "1                                       [ism]  \n",
       "2                     [got, any, sale, today]  \n",
       "3                             [where, iphone]  \n",
       "4                   [but, it's, day, already]  \n",
       "5                                [it's, true]  \n",
       "6                        [where, the, iphone]  \n",
       "7           [hum, what, you, have, available]  \n",
       "8   [the, samsung, better, than, the, iphone]  \n",
       "9                             [good, morning]  \n",
       "10                              [good, night]  \n",
       "11                            [good, evening]  \n",
       "12              [it'd, like, make, complaint]  \n",
       "13               [it'd, like, make, exchange]  \n",
       "14                 [it'd, like, make, refund]  \n",
       "15                [what's, the, best, mobile]  \n",
       "16                     [smart, phone, broken]  \n",
       "17                  [can't, finish, purchase]  \n",
       "18                  [the, site, not, working]  \n",
       "19                      [when, going, arrive]  \n",
       "20              [what's, the, delivery, time]  \n",
       "21                [this, device, really, bad]  \n",
       "22       [need, some, help, choosing, mobile]  \n",
       "23                [you, accept, credit, card]  \n",
       "24            [the, arrived, already, broken]  \n",
       "25    [the, device, arrived, already, broken]  \n",
       "26               [the, device, doesn't, work]  "
      ]
     },
     "execution_count": 16,
     "metadata": {},
     "output_type": "execute_result"
    }
   ],
   "source": [
    "import pandas as pd\n",
    "compare = pd.DataFrame({\"origin\": all_msg, \"tokenized\": msg_pro})\n",
    "compare"
   ]
  },
  {
   "cell_type": "markdown",
   "metadata": {},
   "source": [
    "## Applying the LDA\n",
    "\n",
    "\n",
    "The *gensin* package brings the tools needed to implement a LDA analysis in python\n",
    "\n",
    "https://radimrehurek.com/gensim/models/ldamodel.html\n",
    "\n"
   ]
  },
  {
   "cell_type": "code",
   "execution_count": 17,
   "metadata": {},
   "outputs": [
    {
     "name": "stderr",
     "output_type": "stream",
     "text": [
      "/data/data-erick/anaconda3/lib/python3.6/site-packages/requests/__init__.py:80: RequestsDependencyWarning: urllib3 (1.22) or chardet (2.3.0) doesn't match a supported version!\n",
      "  RequestsDependencyWarning)\n"
     ]
    }
   ],
   "source": [
    "from gensim import corpora, models\n",
    "\n",
    "dictionary = corpora.Dictionary(msg_pro) # getting a dictionary from our collection"
   ]
  },
  {
   "cell_type": "code",
   "execution_count": 18,
   "metadata": {
    "collapsed": true
   },
   "outputs": [],
   "source": [
    "body = [dictionary.doc2bow(msg) for msg in msg_pro] # term matrix from our collection"
   ]
  },
  {
   "cell_type": "markdown",
   "metadata": {},
   "source": [
    "## Training our LDA model\n",
    "\n",
    "We must choose a starting number of topics according to our knowledge about the collection, just as we would do when performing a k-mens clustering, where we have to choose a starting number of clusters. Later we will analyze the proper metrics and decide whether to increase or decrease the number of clusters|topics.\n",
    "\n",
    "Setting the parameters for the lda training:\n",
    "\n",
    "- lets start assuming our collection contains 5 different topics.\n",
    "- lets run 100 passes over the collection until it reaches convergence about topic separation.\n",
    "- the alpha parameter its about the document-topic density. A higher value indicates that each document contains more topics. We expect the messages from our costumers to be about one topic only, so we should use a small number here.\n",
    "\n",
    "\n",
    "Lets also record the time it takes to finish the process.\n"
   ]
  },
  {
   "cell_type": "code",
   "execution_count": 49,
   "metadata": {
    "scrolled": true
   },
   "outputs": [
    {
     "name": "stdout",
     "output_type": "stream",
     "text": [
      "\n",
      " --- 2.6708 seconds ---\n"
     ]
    }
   ],
   "source": [
    "import time\n",
    "import random\n",
    "\n",
    "start = time.time()\n",
    "random.seed(95276)\n",
    "model = models.ldamodel.LdaModel(body, gamma_threshold=.01, minimum_phi_value=.005, \n",
    "                                 per_word_topics=True, minimum_probability=.01,\n",
    "    num_topics=6, id2word = dictionary, passes=100, alpha=.4, eta=5, random_state=95276)\n",
    "\n",
    "    # alpha (document/topic relationship) and eta (topic-words relationship) \n",
    "    # could be set to learn from data - \"auto\" setting\n",
    "    \n",
    "print(\"\\n --- %s seconds ---\" % round((time.time() - start),4))"
   ]
  },
  {
   "cell_type": "code",
   "execution_count": 53,
   "metadata": {},
   "outputs": [
    {
     "data": {
      "text/html": [
       "<div>\n",
       "<style scoped>\n",
       "    .dataframe tbody tr th:only-of-type {\n",
       "        vertical-align: middle;\n",
       "    }\n",
       "\n",
       "    .dataframe tbody tr th {\n",
       "        vertical-align: top;\n",
       "    }\n",
       "\n",
       "    .dataframe thead th {\n",
       "        text-align: right;\n",
       "    }\n",
       "</style>\n",
       "<table border=\"1\" class=\"dataframe\">\n",
       "  <thead>\n",
       "    <tr style=\"text-align: right;\">\n",
       "      <th></th>\n",
       "      <th>messages</th>\n",
       "      <th>tokens</th>\n",
       "      <th>topic</th>\n",
       "    </tr>\n",
       "  </thead>\n",
       "  <tbody>\n",
       "    <tr>\n",
       "      <th>4</th>\n",
       "      <td>But it's 5 days already!</td>\n",
       "      <td>[but, it's, day, already]</td>\n",
       "      <td>0</td>\n",
       "    </tr>\n",
       "    <tr>\n",
       "      <th>22</th>\n",
       "      <td>I need some help choosing a mobile</td>\n",
       "      <td>[need, some, help, choosing, mobile]</td>\n",
       "      <td>0</td>\n",
       "    </tr>\n",
       "    <tr>\n",
       "      <th>19</th>\n",
       "      <td>When it is going to arrive?</td>\n",
       "      <td>[when, going, arrive]</td>\n",
       "      <td>0</td>\n",
       "    </tr>\n",
       "    <tr>\n",
       "      <th>26</th>\n",
       "      <td>the device doesn't work</td>\n",
       "      <td>[the, device, doesn't, work]</td>\n",
       "      <td>2</td>\n",
       "    </tr>\n",
       "    <tr>\n",
       "      <th>24</th>\n",
       "      <td>the tv arrived already broken</td>\n",
       "      <td>[the, arrived, already, broken]</td>\n",
       "      <td>2</td>\n",
       "    </tr>\n",
       "    <tr>\n",
       "      <th>3</th>\n",
       "      <td>Where is my iphone?!</td>\n",
       "      <td>[where, iphone]</td>\n",
       "      <td>2</td>\n",
       "    </tr>\n",
       "    <tr>\n",
       "      <th>6</th>\n",
       "      <td>Where is the iphone 10?</td>\n",
       "      <td>[where, the, iphone]</td>\n",
       "      <td>2</td>\n",
       "    </tr>\n",
       "    <tr>\n",
       "      <th>21</th>\n",
       "      <td>this device is really bad</td>\n",
       "      <td>[this, device, really, bad]</td>\n",
       "      <td>2</td>\n",
       "    </tr>\n",
       "    <tr>\n",
       "      <th>8</th>\n",
       "      <td>Is the samsung better than the iphone?</td>\n",
       "      <td>[the, samsung, better, than, the, iphone]</td>\n",
       "      <td>2</td>\n",
       "    </tr>\n",
       "    <tr>\n",
       "      <th>20</th>\n",
       "      <td>What's is the delivery time?</td>\n",
       "      <td>[what's, the, delivery, time]</td>\n",
       "      <td>2</td>\n",
       "    </tr>\n",
       "    <tr>\n",
       "      <th>18</th>\n",
       "      <td>the site is not working!</td>\n",
       "      <td>[the, site, not, working]</td>\n",
       "      <td>2</td>\n",
       "    </tr>\n",
       "    <tr>\n",
       "      <th>15</th>\n",
       "      <td>What's the best mobile?</td>\n",
       "      <td>[what's, the, best, mobile]</td>\n",
       "      <td>2</td>\n",
       "    </tr>\n",
       "    <tr>\n",
       "      <th>25</th>\n",
       "      <td>the device arrived already broken</td>\n",
       "      <td>[the, device, arrived, already, broken]</td>\n",
       "      <td>2</td>\n",
       "    </tr>\n",
       "    <tr>\n",
       "      <th>23</th>\n",
       "      <td>do you accept credit cards?</td>\n",
       "      <td>[you, accept, credit, card]</td>\n",
       "      <td>3</td>\n",
       "    </tr>\n",
       "    <tr>\n",
       "      <th>0</th>\n",
       "      <td>Hi, how are you?</td>\n",
       "      <td>[how, are, you]</td>\n",
       "      <td>3</td>\n",
       "    </tr>\n",
       "    <tr>\n",
       "      <th>7</th>\n",
       "      <td>Huum, what do you have available?</td>\n",
       "      <td>[hum, what, you, have, available]</td>\n",
       "      <td>3</td>\n",
       "    </tr>\n",
       "    <tr>\n",
       "      <th>2</th>\n",
       "      <td>got any sale today?</td>\n",
       "      <td>[got, any, sale, today]</td>\n",
       "      <td>3</td>\n",
       "    </tr>\n",
       "    <tr>\n",
       "      <th>12</th>\n",
       "      <td>I'd like to make a complaint</td>\n",
       "      <td>[it'd, like, make, complaint]</td>\n",
       "      <td>4</td>\n",
       "    </tr>\n",
       "    <tr>\n",
       "      <th>17</th>\n",
       "      <td>I can't finish my purchase</td>\n",
       "      <td>[can't, finish, purchase]</td>\n",
       "      <td>4</td>\n",
       "    </tr>\n",
       "    <tr>\n",
       "      <th>14</th>\n",
       "      <td>I'd like to make a refund</td>\n",
       "      <td>[it'd, like, make, refund]</td>\n",
       "      <td>4</td>\n",
       "    </tr>\n",
       "    <tr>\n",
       "      <th>13</th>\n",
       "      <td>I'd like to make a exchange</td>\n",
       "      <td>[it'd, like, make, exchange]</td>\n",
       "      <td>4</td>\n",
       "    </tr>\n",
       "    <tr>\n",
       "      <th>16</th>\n",
       "      <td>my smart phone is broken!</td>\n",
       "      <td>[smart, phone, broken]</td>\n",
       "      <td>6</td>\n",
       "    </tr>\n",
       "    <tr>\n",
       "      <th>11</th>\n",
       "      <td>Good evening</td>\n",
       "      <td>[good, evening]</td>\n",
       "      <td>6</td>\n",
       "    </tr>\n",
       "    <tr>\n",
       "      <th>10</th>\n",
       "      <td>Good night!</td>\n",
       "      <td>[good, night]</td>\n",
       "      <td>6</td>\n",
       "    </tr>\n",
       "    <tr>\n",
       "      <th>9</th>\n",
       "      <td>Good morning!</td>\n",
       "      <td>[good, morning]</td>\n",
       "      <td>6</td>\n",
       "    </tr>\n",
       "    <tr>\n",
       "      <th>5</th>\n",
       "      <td>ow it's true</td>\n",
       "      <td>[it's, true]</td>\n",
       "      <td>6</td>\n",
       "    </tr>\n",
       "    <tr>\n",
       "      <th>1</th>\n",
       "      <td>I'm ok!!!</td>\n",
       "      <td>[ism]</td>\n",
       "      <td>6</td>\n",
       "    </tr>\n",
       "  </tbody>\n",
       "</table>\n",
       "</div>"
      ],
      "text/plain": [
       "                                  messages  \\\n",
       "4                 But it's 5 days already!   \n",
       "22      I need some help choosing a mobile   \n",
       "19             When it is going to arrive?   \n",
       "26                 the device doesn't work   \n",
       "24           the tv arrived already broken   \n",
       "3                     Where is my iphone?!   \n",
       "6                  Where is the iphone 10?   \n",
       "21               this device is really bad   \n",
       "8   Is the samsung better than the iphone?   \n",
       "20            What's is the delivery time?   \n",
       "18                the site is not working!   \n",
       "15                 What's the best mobile?   \n",
       "25       the device arrived already broken   \n",
       "23             do you accept credit cards?   \n",
       "0                         Hi, how are you?   \n",
       "7        Huum, what do you have available?   \n",
       "2                      got any sale today?   \n",
       "12            I'd like to make a complaint   \n",
       "17              I can't finish my purchase   \n",
       "14               I'd like to make a refund   \n",
       "13             I'd like to make a exchange   \n",
       "16               my smart phone is broken!   \n",
       "11                            Good evening   \n",
       "10                             Good night!   \n",
       "9                            Good morning!   \n",
       "5                             ow it's true   \n",
       "1                                I'm ok!!!   \n",
       "\n",
       "                                       tokens  topic  \n",
       "4                   [but, it's, day, already]      0  \n",
       "22       [need, some, help, choosing, mobile]      0  \n",
       "19                      [when, going, arrive]      0  \n",
       "26               [the, device, doesn't, work]      2  \n",
       "24            [the, arrived, already, broken]      2  \n",
       "3                             [where, iphone]      2  \n",
       "6                        [where, the, iphone]      2  \n",
       "21                [this, device, really, bad]      2  \n",
       "8   [the, samsung, better, than, the, iphone]      2  \n",
       "20              [what's, the, delivery, time]      2  \n",
       "18                  [the, site, not, working]      2  \n",
       "15                [what's, the, best, mobile]      2  \n",
       "25    [the, device, arrived, already, broken]      2  \n",
       "23                [you, accept, credit, card]      3  \n",
       "0                             [how, are, you]      3  \n",
       "7           [hum, what, you, have, available]      3  \n",
       "2                     [got, any, sale, today]      3  \n",
       "12              [it'd, like, make, complaint]      4  \n",
       "17                  [can't, finish, purchase]      4  \n",
       "14                 [it'd, like, make, refund]      4  \n",
       "13               [it'd, like, make, exchange]      4  \n",
       "16                     [smart, phone, broken]      6  \n",
       "11                            [good, evening]      6  \n",
       "10                              [good, night]      6  \n",
       "9                             [good, morning]      6  \n",
       "5                                [it's, true]      6  \n",
       "1                                       [ism]      6  "
      ]
     },
     "execution_count": 53,
     "metadata": {},
     "output_type": "execute_result"
    }
   ],
   "source": [
    "df = pd.DataFrame({\"messages\": all_msg})\n",
    "df[\"tokens\"] = df.messages.apply(lambda x: tokenizator(x))\n",
    "df[\"topic\"] = df.messages.apply(lambda x: get_topic(x))\n",
    "df.sort_values(by=\"topic\")"
   ]
  },
  {
   "cell_type": "markdown",
   "metadata": {},
   "source": [
    "### Showing the 3 main terms for each topic"
   ]
  },
  {
   "cell_type": "code",
   "execution_count": 20,
   "metadata": {},
   "outputs": [
    {
     "data": {
      "text/plain": [
       "[(0, '0.019*\"you\" + 0.017*\"accept\" + 0.017*\"credit\"'),\n",
       " (1, '0.017*\"good\" + 0.016*\"evening\" + 0.016*\"morning\"'),\n",
       " (2, '0.028*\"the\" + 0.019*\"iphone\" + 0.018*\"broken\"'),\n",
       " (3, '0.017*\"good\" + 0.016*\"any\" + 0.016*\"got\"'),\n",
       " (4, '0.017*\"good\" + 0.016*\"it\\'s\" + 0.016*\"purchase\"'),\n",
       " (5, '0.020*\"it\\'d\" + 0.020*\"make\" + 0.020*\"like\"')]"
      ]
     },
     "execution_count": 20,
     "metadata": {},
     "output_type": "execute_result"
    }
   ],
   "source": [
    "model.print_topics(num_topics=6, num_words=3)"
   ]
  },
  {
   "cell_type": "markdown",
   "metadata": {},
   "source": [
    "### Serializing the model\n",
    "\n",
    "So we don't have to train the model again - lets save it to disk."
   ]
  },
  {
   "cell_type": "code",
   "execution_count": 21,
   "metadata": {},
   "outputs": [
    {
     "data": {
      "text/plain": [
       "[(0, '0.019*\"you\" + 0.017*\"accept\" + 0.017*\"credit\"'),\n",
       " (1, '0.017*\"good\" + 0.016*\"evening\" + 0.016*\"morning\"'),\n",
       " (2, '0.028*\"the\" + 0.019*\"iphone\" + 0.018*\"broken\"'),\n",
       " (3, '0.017*\"good\" + 0.016*\"any\" + 0.016*\"got\"'),\n",
       " (4, '0.017*\"good\" + 0.016*\"it\\'s\" + 0.016*\"purchase\"'),\n",
       " (5, '0.020*\"it\\'d\" + 0.020*\"make\" + 0.020*\"like\"')]"
      ]
     },
     "execution_count": 21,
     "metadata": {},
     "output_type": "execute_result"
    }
   ],
   "source": [
    "import pickle\n",
    "\n",
    "# writes to disk\n",
    "pickle.dump(model, open(\"lda.model\", 'wb'))\n",
    "pickle.dump(dictionary, open(\"dictionary.model\", 'wb'))\n",
    "\n",
    "# loads back\n",
    "model = pickle.load(open(\"lda.model\", 'rb'))\n",
    "dictionary = pickle.load(open(\"dictionary.model\", 'rb'))\n",
    "\n",
    "model.print_topics(num_topics=6, num_words=3)\n"
   ]
  },
  {
   "cell_type": "markdown",
   "metadata": {},
   "source": [
    "## Visual analysis of the topics\n",
    "\n",
    "The bigger the distinction between groups, the better.\n",
    "We can improve this distinction by adjusting the model parameters when training it.\n"
   ]
  },
  {
   "cell_type": "code",
   "execution_count": null,
   "metadata": {},
   "outputs": [],
   "source": [
    "import pyLDAvis.gensim\n",
    "vis = pyLDAvis.gensim.prepare(model, body, dictionary)\n",
    "pyLDAvis.enable_notebook()\n",
    "\n",
    "vis"
   ]
  },
  {
   "cell_type": "markdown",
   "metadata": {},
   "source": [
    "## Showing the identified topics"
   ]
  },
  {
   "cell_type": "code",
   "execution_count": 52,
   "metadata": {
    "collapsed": true
   },
   "outputs": [],
   "source": [
    "def get_topic(message):\n",
    "    tokens = tokenizator(message)\n",
    "    map = dictionary.doc2bow(tokens)\n",
    "    # model[map] will return all the possible topics and a score that tells \n",
    "    # the probability of the message belonging to that topic.\n",
    "    # \n",
    "    # we will order it to get the topic which has the biggest probability.\n",
    "    # Also, if the probability is lower than 60%, we will chose to say that we just \n",
    "    # don't know what the message is about (category 6)\n",
    "    guess = sorted(model[map][0], key=lambda y: y[1], reverse=True)[0] # retorna o tópico mais provável e sua pontuação\n",
    "    return 6 if guess[1] < .2 else guess[0]"
   ]
  },
  {
   "cell_type": "code",
   "execution_count": 25,
   "metadata": {},
   "outputs": [
    {
     "data": {
      "text/html": [
       "<div>\n",
       "<style scoped>\n",
       "    .dataframe tbody tr th:only-of-type {\n",
       "        vertical-align: middle;\n",
       "    }\n",
       "\n",
       "    .dataframe tbody tr th {\n",
       "        vertical-align: top;\n",
       "    }\n",
       "\n",
       "    .dataframe thead th {\n",
       "        text-align: right;\n",
       "    }\n",
       "</style>\n",
       "<table border=\"1\" class=\"dataframe\">\n",
       "  <thead>\n",
       "    <tr style=\"text-align: right;\">\n",
       "      <th></th>\n",
       "      <th>messages</th>\n",
       "      <th>tokens</th>\n",
       "      <th>topic</th>\n",
       "    </tr>\n",
       "  </thead>\n",
       "  <tbody>\n",
       "    <tr>\n",
       "      <th>4</th>\n",
       "      <td>But it's 5 days already!</td>\n",
       "      <td>[but, it's, day, already]</td>\n",
       "      <td>0</td>\n",
       "    </tr>\n",
       "    <tr>\n",
       "      <th>5</th>\n",
       "      <td>ow it's true</td>\n",
       "      <td>[it's, true]</td>\n",
       "      <td>0</td>\n",
       "    </tr>\n",
       "    <tr>\n",
       "      <th>11</th>\n",
       "      <td>Good evening</td>\n",
       "      <td>[good, evening]</td>\n",
       "      <td>0</td>\n",
       "    </tr>\n",
       "    <tr>\n",
       "      <th>10</th>\n",
       "      <td>Good night!</td>\n",
       "      <td>[good, night]</td>\n",
       "      <td>0</td>\n",
       "    </tr>\n",
       "    <tr>\n",
       "      <th>9</th>\n",
       "      <td>Good morning!</td>\n",
       "      <td>[good, morning]</td>\n",
       "      <td>0</td>\n",
       "    </tr>\n",
       "    <tr>\n",
       "      <th>21</th>\n",
       "      <td>this device is really bad</td>\n",
       "      <td>[this, device, really, bad]</td>\n",
       "      <td>1</td>\n",
       "    </tr>\n",
       "    <tr>\n",
       "      <th>26</th>\n",
       "      <td>the device doesn't work</td>\n",
       "      <td>[the, device, doesn't, work]</td>\n",
       "      <td>2</td>\n",
       "    </tr>\n",
       "    <tr>\n",
       "      <th>18</th>\n",
       "      <td>the site is not working!</td>\n",
       "      <td>[the, site, not, working]</td>\n",
       "      <td>2</td>\n",
       "    </tr>\n",
       "    <tr>\n",
       "      <th>25</th>\n",
       "      <td>the device arrived already broken</td>\n",
       "      <td>[the, device, arrived, already, broken]</td>\n",
       "      <td>2</td>\n",
       "    </tr>\n",
       "    <tr>\n",
       "      <th>20</th>\n",
       "      <td>What's is the delivery time?</td>\n",
       "      <td>[what's, the, delivery, time]</td>\n",
       "      <td>2</td>\n",
       "    </tr>\n",
       "    <tr>\n",
       "      <th>8</th>\n",
       "      <td>Is the samsung better than the iphone?</td>\n",
       "      <td>[the, samsung, better, than, the, iphone]</td>\n",
       "      <td>2</td>\n",
       "    </tr>\n",
       "    <tr>\n",
       "      <th>6</th>\n",
       "      <td>Where is the iphone 10?</td>\n",
       "      <td>[where, the, iphone]</td>\n",
       "      <td>2</td>\n",
       "    </tr>\n",
       "    <tr>\n",
       "      <th>3</th>\n",
       "      <td>Where is my iphone?!</td>\n",
       "      <td>[where, iphone]</td>\n",
       "      <td>2</td>\n",
       "    </tr>\n",
       "    <tr>\n",
       "      <th>24</th>\n",
       "      <td>the tv arrived already broken</td>\n",
       "      <td>[the, arrived, already, broken]</td>\n",
       "      <td>2</td>\n",
       "    </tr>\n",
       "    <tr>\n",
       "      <th>15</th>\n",
       "      <td>What's the best mobile?</td>\n",
       "      <td>[what's, the, best, mobile]</td>\n",
       "      <td>2</td>\n",
       "    </tr>\n",
       "    <tr>\n",
       "      <th>16</th>\n",
       "      <td>my smart phone is broken!</td>\n",
       "      <td>[smart, phone, broken]</td>\n",
       "      <td>2</td>\n",
       "    </tr>\n",
       "    <tr>\n",
       "      <th>23</th>\n",
       "      <td>do you accept credit cards?</td>\n",
       "      <td>[you, accept, credit, card]</td>\n",
       "      <td>3</td>\n",
       "    </tr>\n",
       "    <tr>\n",
       "      <th>0</th>\n",
       "      <td>Hi, how are you?</td>\n",
       "      <td>[how, are, you]</td>\n",
       "      <td>3</td>\n",
       "    </tr>\n",
       "    <tr>\n",
       "      <th>7</th>\n",
       "      <td>Huum, what do you have available?</td>\n",
       "      <td>[hum, what, you, have, available]</td>\n",
       "      <td>3</td>\n",
       "    </tr>\n",
       "    <tr>\n",
       "      <th>22</th>\n",
       "      <td>I need some help choosing a mobile</td>\n",
       "      <td>[need, some, help, choosing, mobile]</td>\n",
       "      <td>4</td>\n",
       "    </tr>\n",
       "    <tr>\n",
       "      <th>17</th>\n",
       "      <td>I can't finish my purchase</td>\n",
       "      <td>[can't, finish, purchase]</td>\n",
       "      <td>4</td>\n",
       "    </tr>\n",
       "    <tr>\n",
       "      <th>14</th>\n",
       "      <td>I'd like to make a refund</td>\n",
       "      <td>[it'd, like, make, refund]</td>\n",
       "      <td>5</td>\n",
       "    </tr>\n",
       "    <tr>\n",
       "      <th>12</th>\n",
       "      <td>I'd like to make a complaint</td>\n",
       "      <td>[it'd, like, make, complaint]</td>\n",
       "      <td>5</td>\n",
       "    </tr>\n",
       "    <tr>\n",
       "      <th>2</th>\n",
       "      <td>got any sale today?</td>\n",
       "      <td>[got, any, sale, today]</td>\n",
       "      <td>5</td>\n",
       "    </tr>\n",
       "    <tr>\n",
       "      <th>13</th>\n",
       "      <td>I'd like to make a exchange</td>\n",
       "      <td>[it'd, like, make, exchange]</td>\n",
       "      <td>5</td>\n",
       "    </tr>\n",
       "    <tr>\n",
       "      <th>19</th>\n",
       "      <td>When it is going to arrive?</td>\n",
       "      <td>[when, going, arrive]</td>\n",
       "      <td>6</td>\n",
       "    </tr>\n",
       "    <tr>\n",
       "      <th>1</th>\n",
       "      <td>I'm ok!!!</td>\n",
       "      <td>[ism]</td>\n",
       "      <td>6</td>\n",
       "    </tr>\n",
       "  </tbody>\n",
       "</table>\n",
       "</div>"
      ],
      "text/plain": [
       "                                  messages  \\\n",
       "4                 But it's 5 days already!   \n",
       "5                             ow it's true   \n",
       "11                            Good evening   \n",
       "10                             Good night!   \n",
       "9                            Good morning!   \n",
       "21               this device is really bad   \n",
       "26                 the device doesn't work   \n",
       "18                the site is not working!   \n",
       "25       the device arrived already broken   \n",
       "20            What's is the delivery time?   \n",
       "8   Is the samsung better than the iphone?   \n",
       "6                  Where is the iphone 10?   \n",
       "3                     Where is my iphone?!   \n",
       "24           the tv arrived already broken   \n",
       "15                 What's the best mobile?   \n",
       "16               my smart phone is broken!   \n",
       "23             do you accept credit cards?   \n",
       "0                         Hi, how are you?   \n",
       "7        Huum, what do you have available?   \n",
       "22      I need some help choosing a mobile   \n",
       "17              I can't finish my purchase   \n",
       "14               I'd like to make a refund   \n",
       "12            I'd like to make a complaint   \n",
       "2                      got any sale today?   \n",
       "13             I'd like to make a exchange   \n",
       "19             When it is going to arrive?   \n",
       "1                                I'm ok!!!   \n",
       "\n",
       "                                       tokens  topic  \n",
       "4                   [but, it's, day, already]      0  \n",
       "5                                [it's, true]      0  \n",
       "11                            [good, evening]      0  \n",
       "10                              [good, night]      0  \n",
       "9                             [good, morning]      0  \n",
       "21                [this, device, really, bad]      1  \n",
       "26               [the, device, doesn't, work]      2  \n",
       "18                  [the, site, not, working]      2  \n",
       "25    [the, device, arrived, already, broken]      2  \n",
       "20              [what's, the, delivery, time]      2  \n",
       "8   [the, samsung, better, than, the, iphone]      2  \n",
       "6                        [where, the, iphone]      2  \n",
       "3                             [where, iphone]      2  \n",
       "24            [the, arrived, already, broken]      2  \n",
       "15                [what's, the, best, mobile]      2  \n",
       "16                     [smart, phone, broken]      2  \n",
       "23                [you, accept, credit, card]      3  \n",
       "0                             [how, are, you]      3  \n",
       "7           [hum, what, you, have, available]      3  \n",
       "22       [need, some, help, choosing, mobile]      4  \n",
       "17                  [can't, finish, purchase]      4  \n",
       "14                 [it'd, like, make, refund]      5  \n",
       "12              [it'd, like, make, complaint]      5  \n",
       "2                     [got, any, sale, today]      5  \n",
       "13               [it'd, like, make, exchange]      5  \n",
       "19                      [when, going, arrive]      6  \n",
       "1                                       [ism]      6  "
      ]
     },
     "execution_count": 25,
     "metadata": {},
     "output_type": "execute_result"
    }
   ],
   "source": [
    "df = pd.DataFrame({\"messages\": all_msg})\n",
    "df[\"tokens\"] = df.messages.apply(lambda x: tokenizator(x))\n",
    "df[\"topic\"] = df.messages.apply(lambda x: get_topic(x))\n",
    "df.sort_values(by=\"topic\")"
   ]
  },
  {
   "cell_type": "markdown",
   "metadata": {},
   "source": [
    "## Labeling the topics\n",
    "\n",
    "\n",
    "After applying the model, we can now look at a small sample of each group so we can add a friendly label do it."
   ]
  },
  {
   "cell_type": "code",
   "execution_count": null,
   "metadata": {},
   "outputs": [],
   "source": [
    "#showing a sample of each group, to aid labeling each one\n",
    "df.groupby('topic').apply(lambda x: x.sample(frac=.8))"
   ]
  },
  {
   "cell_type": "code",
   "execution_count": null,
   "metadata": {},
   "outputs": [],
   "source": [
    "# um dicionário de tópicos\n",
    "labels = [\"delivery\", \"demand\", \"indication\", \"salutation\", \"comparisson\", \"problem\", \"unknown\"]\n",
    "labels = dict(zip(range(7), labels))\n",
    "labels"
   ]
  },
  {
   "cell_type": "code",
   "execution_count": null,
   "metadata": {},
   "outputs": [],
   "source": [
    "df[\"rotulo\"] = df.topic.replace(labels)\n",
    "df"
   ]
  },
  {
   "cell_type": "markdown",
   "metadata": {},
   "source": [
    "## Applying the model to new messages"
   ]
  },
  {
   "cell_type": "code",
   "execution_count": null,
   "metadata": {},
   "outputs": [],
   "source": [
    "message = \"whn it's goin to arive?\"\n",
    "labels[get_topic(message)]"
   ]
  },
  {
   "cell_type": "code",
   "execution_count": null,
   "metadata": {},
   "outputs": [],
   "source": [
    "message = \"ah!\"\n",
    "labels[get_topic(message)]"
   ]
  },
  {
   "cell_type": "markdown",
   "metadata": {},
   "source": [
    " # Keyword detection\n",
    "\n",
    "The keywords, together with the topic prediction, will help to compose a helpful answer.\n",
    " \n",
    " \n",
    " ## Order Number\n",
    " "
   ]
  },
  {
   "cell_type": "code",
   "execution_count": null,
   "metadata": {},
   "outputs": [],
   "source": [
    "def get_order(msg):\n",
    "    tokens = re.findall(\"[0-9]+\", msg)\n",
    "    order = [token for token in tokens if len(token)==10] # order number has size 10\n",
    "    \n",
    "    return order\n",
    "    \n",
    "get_order(\"just bought a iphone, the order is 1234567890\")"
   ]
  },
  {
   "cell_type": "markdown",
   "metadata": {},
   "source": [
    "## Device type"
   ]
  },
  {
   "cell_type": "code",
   "execution_count": null,
   "metadata": {},
   "outputs": [],
   "source": [
    "def get_device(msg):\n",
    "    tokens = tokenizator(msg, size=1, lemmatize=0, fix=0)\n",
    "    \n",
    "    # uma lista de objetos de interesse do cliente - alimentar com os produtos vendidos\n",
    "    # podemos utilizar NLP POS - parts of speech para reconhecer o objeto, mas aqui acabou o tempo =D\n",
    "    \n",
    "    possibilities = [\"tv\", \"mobile\", \"television\", \"microwave\", \"site\", \"freezer\", \"tire\", \"pants\"] \n",
    "    \n",
    "    device = [token for token in tokens if token in possibilities]\n",
    "    return device\n",
    "    \n",
    "\n",
    "get_device(\"I need info on a new mobile and freezer\")\n",
    "#get_aparelho(\"preciso de indicação para tv\")"
   ]
  },
  {
   "cell_type": "markdown",
   "metadata": {},
   "source": [
    "# Composing the answer\n",
    "\n",
    "The final answer to the user message will be composed according to:\n",
    "\n",
    "- the predicted topic - each topic will have an auxiliary function\n",
    "- detected keywords\n",
    "\n",
    "\n",
    "We will make use of the following auxiliary functions:\n",
    "\n",
    "- get_topic() - ok\n",
    "- get_device() - ok\n",
    "- get_order() - ok\n",
    "- order_status() # queries a order database to retrive info on the transaction\n",
    "- salute_back() \n",
    "- unknown_msg()\n"
   ]
  },
  {
   "cell_type": "code",
   "execution_count": null,
   "metadata": {},
   "outputs": [],
   "source": [
    "import datetime\n",
    "\n",
    "def salute_back(tipo=\"salute\"):\n",
    "    agora = datetime.datetime.now()\n",
    "    hora = agora.hour\n",
    "    \n",
    "    if tipo == \"salute\":\n",
    "        saudacao = \"Good night\"\n",
    "        if hora in range(12,19):\n",
    "            saudacao = \"Good afternoon\"\n",
    "        if hora in range(6,13):\n",
    "            saudacao = \"Good morning\"\n",
    "        \n",
    "        mensagem = saudacao + \", dear costumer!\"\n",
    "            \n",
    "    else:\n",
    "        mensagem = \"It's {} hours\".format(hora)\n",
    "        \n",
    "    return mensagem\n",
    "        \n",
    "salute_back()"
   ]
  },
  {
   "cell_type": "code",
   "execution_count": null,
   "metadata": {},
   "outputs": [],
   "source": [
    "salute_back(\"hora\")"
   ]
  },
  {
   "cell_type": "code",
   "execution_count": null,
   "metadata": {},
   "outputs": [],
   "source": [
    "def order_status(number):\n",
    "    return(\" Status do pedido {}, de acordo com o db: status\".format(number))\n",
    "\n",
    "order_status(128312983)"
   ]
  },
  {
   "cell_type": "code",
   "execution_count": null,
   "metadata": {
    "collapsed": true
   },
   "outputs": [],
   "source": [
    "unknown_counter = 0"
   ]
  },
  {
   "cell_type": "code",
   "execution_count": null,
   "metadata": {},
   "outputs": [],
   "source": [
    "def unknown_msg():\n",
    "    global unknown_counter\n",
    "    messages = [\"It's all ok here on Earth. How can I help you?\",\n",
    "                \"Please be more specific...\",\n",
    "                \"I'm just a tired robot. Please explain, slowly...\",\n",
    "                \"is this a new kind of joke?\"\n",
    "                ]\n",
    "    \n",
    "    if not unknown_counter:\n",
    "        message = \"{} {} and {}\".format(salute_back(), salute_back(\"hora\"), messages[0])\n",
    "    else:\n",
    "        message = messages[unknown_counter]\n",
    "    \n",
    "    unknown_counter += 1\n",
    "    if unknown_counter == 4:\n",
    "        unknown_counter = 1\n",
    "    \n",
    "    return message\n",
    "\n",
    "unknown_msg()\n"
   ]
  },
  {
   "cell_type": "markdown",
   "metadata": {
    "collapsed": true
   },
   "source": [
    "Lets now create a dictionary containing answers to each topic.\n",
    "The first answer on each class assumes that there are no keywords on the message.\n",
    "The second message on each class assumes that keywords are present."
   ]
  },
  {
   "cell_type": "code",
   "execution_count": null,
   "metadata": {},
   "outputs": [],
   "source": [
    "m_delivery = [\"Our delivery time is 5 working days. Please inform the order number so I can fetch more information on it\",\n",
    "              \"Our delivery time is 5 working days. Lets check the order status {}.\"]\n",
    "\n",
    "m_request = [\"Sure thing! What's the order number?\",\n",
    "                 \"Ok. Lets check the order status {}.\"]\n",
    "\n",
    "m_indication = [\"You want indications for what type of device?\",\n",
    "                \"Here are the best deals for {}.\"]\n",
    "\n",
    "m_comparisson = [\"We can help you to choose the best options. What kind of device are you looking for?\",\n",
    "                \"These are the best options for {}.\"]\n",
    "\n",
    "m_problem= [\"Easy! Everything can be fixed. What's going on?\",\n",
    "              \"Easy! Lets fix this issue with {} the best we can.\"]\n",
    "\n",
    "all_answers = {\n",
    "    0: m_delivery,\n",
    "    1: m_request,\n",
    "    2: m_indication,\n",
    "    3: salute_back(),\n",
    "    4: m_comparisson,\n",
    "    5: m_problem,\n",
    "    6: unknown_msg()\n",
    "}\n",
    "\n",
    "all_answers[3]"
   ]
  },
  {
   "cell_type": "markdown",
   "metadata": {},
   "source": [
    "## Answering the costumer\n",
    "\n",
    "Now that all the auxiliary functions are ready, we can compose our answer:"
   ]
  },
  {
   "cell_type": "code",
   "execution_count": null,
   "metadata": {
    "collapsed": true
   },
   "outputs": [],
   "source": [
    "def sub_resp(var, topic): # ok, just one more auxiliary function\n",
    "    if var:\n",
    "        if var[0].isdigit():\n",
    "            answer = all_answers[topic][1].format(var[0]) + status_pedido(var[0])\n",
    "        else:\n",
    "            answer = all_answers[topic][1].format(var[0])\n",
    "    else:\n",
    "        answer = all_answers[topic][0]\n",
    "            \n",
    "    return answer\n",
    "\n",
    "def answer_costumer(message): # agora sim\n",
    "\n",
    "    topic = get_topic(message)\n",
    "    n_order = get_order(message)\n",
    "    device = get_device(message)\n",
    "    \n",
    "    if topic in [0,1]:\n",
    "        return sub_resp(n_order, topic)\n",
    "    \n",
    "    if topic in [2,4,5]:\n",
    "        return sub_resp(device, topic)\n",
    "    \n",
    "    if topic == 3:\n",
    "        return all_answers[topic]\n",
    "    else:\n",
    "        return all_answers[topic]\n",
    "    \n",
    "unknown_counter = 0"
   ]
  },
  {
   "cell_type": "code",
   "execution_count": null,
   "metadata": {
    "collapsed": true
   },
   "outputs": [],
   "source": [
    "message = \"got any sale on mobiles today?\""
   ]
  },
  {
   "cell_type": "code",
   "execution_count": null,
   "metadata": {},
   "outputs": [],
   "source": [
    "answer_costumer(message)"
   ]
  },
  {
   "cell_type": "code",
   "execution_count": null,
   "metadata": {},
   "outputs": [],
   "source": [
    "answer_costumer(\"good morning!\")"
   ]
  },
  {
   "cell_type": "code",
   "execution_count": null,
   "metadata": {},
   "outputs": [],
   "source": [
    "answer_costumer(\"whacka whacka whacka!\")"
   ]
  },
  {
   "cell_type": "code",
   "execution_count": null,
   "metadata": {},
   "outputs": [],
   "source": [
    "answer_costumer(\"the site isn't working\")"
   ]
  },
  {
   "cell_type": "code",
   "execution_count": null,
   "metadata": {},
   "outputs": [],
   "source": [
    "answer_costumer(\"whats the eta for order 1234567890?\")"
   ]
  },
  {
   "cell_type": "markdown",
   "metadata": {},
   "source": [
    "# Scalability \n",
    "\n",
    "In order to optimize the processing time, the *gensim* package offers alternate ways to train a LDA model.\n",
    "\n",
    "Among them, are:\n",
    "\n",
    "- set up a cluster and compute the job in a distributed fashion.\n",
    "- Instead of running 100 or n steps, the batch mode, we can use the \"on line\" mode, where only a subset of size m of the messages will be taken into account to train the model. After the model is ready, it will take another subset, process it and then update the model. It will keep processing the subsets and updating the final model.\n",
    "- a mix of both modes\n",
    "\n",
    "\n",
    "Next, we will compare both modes in terms of computation time.\n",
    "\n",
    "To do so, lets simulate a collection 1000 times larger than ours.m o modo batch (10 passadas). Para isso, vamos simular um \"corpo\" com tamanho 1000 vezes maior que o nosso \"corpo de mensagens\"\n"
   ]
  },
  {
   "cell_type": "code",
   "execution_count": null,
   "metadata": {
    "collapsed": true
   },
   "outputs": [],
   "source": [
    "import time\n",
    "body2 = body*1000"
   ]
  },
  {
   "cell_type": "code",
   "execution_count": null,
   "metadata": {},
   "outputs": [],
   "source": [
    "start = time.time()\n",
    "\n",
    "model_bath = models.ldamodel.LdaModel(body2, num_topics=6, id2word = dictionary, passes=10)\n",
    "    \n",
    "print(\"\\n --- %s segundos ---\" % round((time.time() - start),4))"
   ]
  },
  {
   "cell_type": "markdown",
   "metadata": {},
   "source": [
    "It was necessary 51 seconds to process the model in batch mode on this machine (Core i5, 4Gb of RAM)"
   ]
  },
  {
   "cell_type": "code",
   "execution_count": null,
   "metadata": {},
   "outputs": [],
   "source": [
    "start = time.time()\n",
    "\n",
    "model_online = models.ldamodel.LdaModel(body2, num_topics=6, id2word = dictionary, update_every=1, chunksize=100, passes=1)\n",
    "    \n",
    "print(\"\\n --- %s segundos ---\" % round((time.time() - start),4))"
   ]
  },
  {
   "cell_type": "markdown",
   "metadata": {},
   "source": [
    "It was necessary 6 seconds to process the model in on line mode on this machine (Core i5, 4Gb of RAM)"
   ]
  },
  {
   "cell_type": "code",
   "execution_count": null,
   "metadata": {},
   "outputs": [],
   "source": [
    "model_bath.print_topics(num_words=3)"
   ]
  },
  {
   "cell_type": "code",
   "execution_count": null,
   "metadata": {},
   "outputs": [],
   "source": [
    "model_online.print_topics(num_words=3)"
   ]
  },
  {
   "cell_type": "markdown",
   "metadata": {},
   "source": [
    "## About me\n",
    "\n",
    "\n",
    "https://github.com/erickfis\n",
    "\n",
    "My skills:\n",
    "\n",
    "    - R & Python (Pandas, SciPy, scikit-learn, dplyr, caret)\n",
    "    - BI Tableau, Google Vis, ggPlot, Shiny Dashboards\n",
    "    - MySQL / Teradata, NoSQL, MongoDB, Apache Cassandra\n",
    "    - Hadoop, Amazon Web Services – AWS EC2\n",
    "    - Machine Learning & Regression models, Decision Trees, etc\n",
    "    - Natural Language Processing – NLP\n",
    "    - Clustering / Association rules\n",
    "    - Inferential statistics, A/B testing\n",
    "    - Exploratory data analysis\n",
    "    - Git / Github\n",
    "    - Rmarkdown Reproducible Research / Jupyter Notebooks\n",
    "    - Physicist\n",
    "    \n",
    "\n",
    "*Erick Gomes Anastácio*\n"
   ]
  }
 ],
 "metadata": {
  "kernelspec": {
   "display_name": "Python 3",
   "language": "python",
   "name": "python3"
  },
  "language_info": {
   "codemirror_mode": {
    "name": "ipython",
    "version": 3
   },
   "file_extension": ".py",
   "mimetype": "text/x-python",
   "name": "python",
   "nbconvert_exporter": "python",
   "pygments_lexer": "ipython3",
   "version": "3.6.2"
  }
 },
 "nbformat": 4,
 "nbformat_minor": 2
}
